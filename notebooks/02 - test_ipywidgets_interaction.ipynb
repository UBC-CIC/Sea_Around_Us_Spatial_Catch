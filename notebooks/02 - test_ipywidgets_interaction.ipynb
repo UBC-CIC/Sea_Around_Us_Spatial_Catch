{
 "cells": [
  {
   "cell_type": "markdown",
   "id": "98f431ee",
   "metadata": {},
   "source": [
    "### Setup"
   ]
  },
  {
   "cell_type": "code",
   "execution_count": 1,
   "id": "6257f199",
   "metadata": {},
   "outputs": [],
   "source": [
    "# Uncomment this cell if necessary libraries are not already installed\n",
    "\n",
    "# ! pip install --upgrade pip\n",
    "\n",
    "# ! pip install ipywidgets\n",
    "\n",
    "# ! pip install pandas\n"
   ]
  },
  {
   "cell_type": "markdown",
   "id": "986a0577",
   "metadata": {},
   "source": [
    "### Import Libraries"
   ]
  },
  {
   "cell_type": "code",
   "execution_count": 2,
   "id": "8032d75c",
   "metadata": {},
   "outputs": [],
   "source": [
    "from IPython.display import display\n",
    "\n",
    "import ipywidgets as widgets\n",
    "\n",
    "import pandas as pd\n"
   ]
  },
  {
   "cell_type": "code",
   "execution_count": 3,
   "id": "a1183bfc",
   "metadata": {},
   "outputs": [
    {
     "name": "stderr",
     "output_type": "stream",
     "text": [
      "Enabling notebook extension jupyter-js-widgets/extension...\n",
      "      - Validating: ok\n"
     ]
    }
   ],
   "source": [
    "# enable extension for widgets\n",
    "\n",
    "! jupyter nbextension enable --py widgetsnbextension\n"
   ]
  },
  {
   "cell_type": "markdown",
   "id": "474d2cdf",
   "metadata": {},
   "source": [
    "### CloudFront domain"
   ]
  },
  {
   "cell_type": "code",
   "execution_count": 4,
   "id": "e0b666c1",
   "metadata": {},
   "outputs": [
    {
     "data": {
      "text/plain": [
       "'https://d1b4l80qig6dum.cloudfront.net'"
      ]
     },
     "execution_count": 4,
     "metadata": {},
     "output_type": "execute_result"
    }
   ],
   "source": [
    "# define CloudFront domain name (to access S3)\n",
    "\n",
    "cloudfront = 'https://d1b4l80qig6dum.cloudfront.net'\n",
    "cloudfront\n"
   ]
  },
  {
   "cell_type": "markdown",
   "id": "091bec02",
   "metadata": {},
   "source": [
    "### Fishing entity selection"
   ]
  },
  {
   "cell_type": "code",
   "execution_count": 5,
   "id": "c0f0c138",
   "metadata": {},
   "outputs": [
    {
     "name": "stdout",
     "output_type": "stream",
     "text": [
      "(199, 2)\n"
     ]
    },
    {
     "data": {
      "text/html": [
       "<div>\n",
       "<style scoped>\n",
       "    .dataframe tbody tr th:only-of-type {\n",
       "        vertical-align: middle;\n",
       "    }\n",
       "\n",
       "    .dataframe tbody tr th {\n",
       "        vertical-align: top;\n",
       "    }\n",
       "\n",
       "    .dataframe thead th {\n",
       "        text-align: right;\n",
       "    }\n",
       "</style>\n",
       "<table border=\"1\" class=\"dataframe\">\n",
       "  <thead>\n",
       "    <tr style=\"text-align: right;\">\n",
       "      <th></th>\n",
       "      <th>fishing_entity_id</th>\n",
       "      <th>fishing_entity</th>\n",
       "    </tr>\n",
       "  </thead>\n",
       "  <tbody>\n",
       "    <tr>\n",
       "      <th>0</th>\n",
       "      <td>1</td>\n",
       "      <td>Albania</td>\n",
       "    </tr>\n",
       "    <tr>\n",
       "      <th>1</th>\n",
       "      <td>2</td>\n",
       "      <td>Algeria</td>\n",
       "    </tr>\n",
       "    <tr>\n",
       "      <th>2</th>\n",
       "      <td>3</td>\n",
       "      <td>American Samoa</td>\n",
       "    </tr>\n",
       "    <tr>\n",
       "      <th>3</th>\n",
       "      <td>4</td>\n",
       "      <td>Angola</td>\n",
       "    </tr>\n",
       "    <tr>\n",
       "      <th>4</th>\n",
       "      <td>5</td>\n",
       "      <td>Antigua &amp; Barbuda</td>\n",
       "    </tr>\n",
       "  </tbody>\n",
       "</table>\n",
       "</div>"
      ],
      "text/plain": [
       "   fishing_entity_id     fishing_entity\n",
       "0                  1            Albania\n",
       "1                  2            Algeria\n",
       "2                  3     American Samoa\n",
       "3                  4             Angola\n",
       "4                  5  Antigua & Barbuda"
      ]
     },
     "execution_count": 5,
     "metadata": {},
     "output_type": "execute_result"
    }
   ],
   "source": [
    "# Get the fishing entity names from reference table\n",
    "\n",
    "# data is in a subfolder 'reference_tables' on the S3 bucket\n",
    "# define CloudFront access location format for FISHING ENTITY lookup data\n",
    "\n",
    "fishing_entity_key = 'reference_tables/fishing_entity.csv'\n",
    "fishing_entity_data_location = '{}/{}'.format(cloudfront, fishing_entity_key)\n",
    "\n",
    "# load the EEZ data using Pandas\n",
    "fishing_entity_lookup = pd.read_csv(fishing_entity_data_location)\n",
    "\n",
    "# print the number of records & columns, and also display the sample data\n",
    "print(fishing_entity_lookup.shape)\n",
    "fishing_entity_lookup.head()\n"
   ]
  },
  {
   "cell_type": "code",
   "execution_count": 6,
   "id": "f6652a5b",
   "metadata": {},
   "outputs": [
    {
     "data": {
      "text/plain": [
       "['Albania', 'Algeria', 'American Samoa', 'Angola', 'Antigua & Barbuda']"
      ]
     },
     "execution_count": 6,
     "metadata": {},
     "output_type": "execute_result"
    }
   ],
   "source": [
    "# save the fishing entity names in a list for user selection purpose\n",
    "\n",
    "fishing_entities_list = list()\n",
    "fishing_entities_list = fishing_entity_lookup['fishing_entity'].to_list()\n",
    "\n",
    "# display first five names from the list\n",
    "fishing_entities_list[:5]\n"
   ]
  },
  {
   "cell_type": "markdown",
   "id": "24e1e340",
   "metadata": {},
   "source": [
    "__fishing entity selection widget__"
   ]
  },
  {
   "cell_type": "code",
   "execution_count": 7,
   "id": "c6d40137",
   "metadata": {},
   "outputs": [
    {
     "data": {
      "application/vnd.jupyter.widget-view+json": {
       "model_id": "dccb46fa23e6444dae3b2546eb76d4de",
       "version_major": 2,
       "version_minor": 0
      },
      "text/plain": [
       "Dropdown(description='Fishing entity :', index=25, options=('Albania', 'Algeria', 'American Samoa', 'Angola', …"
      ]
     },
     "metadata": {},
     "output_type": "display_data"
    }
   ],
   "source": [
    "# define fishing entity dropdown using above list\n",
    "\n",
    "fishing_entity_dropdown = widgets.Dropdown(\n",
    "    options = fishing_entities_list,\n",
    "    value = 'Canada',\n",
    "    description = 'Fishing entity :',\n",
    "    disabled = False,\n",
    ")\n",
    "\n",
    "# display the fishing entity dropdown for user selection\n",
    "display(fishing_entity_dropdown)\n"
   ]
  },
  {
   "cell_type": "code",
   "execution_count": 10,
   "id": "30570a0c",
   "metadata": {},
   "outputs": [
    {
     "data": {
      "text/plain": [
       "'Canada'"
      ]
     },
     "execution_count": 10,
     "metadata": {},
     "output_type": "execute_result"
    }
   ],
   "source": [
    "# print the user selection\n",
    "\n",
    "fishing_entity_selected = fishing_entity_dropdown.value\n",
    "fishing_entity_selected\n"
   ]
  },
  {
   "cell_type": "markdown",
   "id": "5eb1cf00",
   "metadata": {},
   "source": [
    "### Load EEZ data for the fishing entity selection"
   ]
  },
  {
   "cell_type": "code",
   "execution_count": 11,
   "id": "29dce647",
   "metadata": {},
   "outputs": [
    {
     "data": {
      "text/plain": [
       "'Canada_fishing_entity_eez_data.csv'"
      ]
     },
     "execution_count": 11,
     "metadata": {},
     "output_type": "execute_result"
    }
   ],
   "source": [
    "# create the EEZ filename to be loaded based on fishing entity selected\n",
    "\n",
    "filename_eez = str(fishing_entity_selected) + '_fishing_entity_eez_data.csv'\n",
    "filename_eez\n"
   ]
  },
  {
   "cell_type": "code",
   "execution_count": 12,
   "id": "f07da911",
   "metadata": {},
   "outputs": [
    {
     "name": "stdout",
     "output_type": "stream",
     "text": [
      "(11222726, 12)\n"
     ]
    },
    {
     "data": {
      "text/html": [
       "<div>\n",
       "<style scoped>\n",
       "    .dataframe tbody tr th:only-of-type {\n",
       "        vertical-align: middle;\n",
       "    }\n",
       "\n",
       "    .dataframe tbody tr th {\n",
       "        vertical-align: top;\n",
       "    }\n",
       "\n",
       "    .dataframe thead th {\n",
       "        text-align: right;\n",
       "    }\n",
       "</style>\n",
       "<table border=\"1\" class=\"dataframe\">\n",
       "  <thead>\n",
       "    <tr style=\"text-align: right;\">\n",
       "      <th></th>\n",
       "      <th>fishing_entity_id</th>\n",
       "      <th>cell_id</th>\n",
       "      <th>lon</th>\n",
       "      <th>lat</th>\n",
       "      <th>eez_id</th>\n",
       "      <th>taxon_key</th>\n",
       "      <th>reporting_status_id</th>\n",
       "      <th>sector_type_id</th>\n",
       "      <th>catch_type_id</th>\n",
       "      <th>gear_type_id</th>\n",
       "      <th>year</th>\n",
       "      <th>catch_sum</th>\n",
       "    </tr>\n",
       "  </thead>\n",
       "  <tbody>\n",
       "    <tr>\n",
       "      <th>0</th>\n",
       "      <td>26</td>\n",
       "      <td>16770</td>\n",
       "      <td>-75.25</td>\n",
       "      <td>78.25</td>\n",
       "      <td>924</td>\n",
       "      <td>100039</td>\n",
       "      <td>1</td>\n",
       "      <td>1</td>\n",
       "      <td>1</td>\n",
       "      <td>1</td>\n",
       "      <td>2006</td>\n",
       "      <td>0.904239</td>\n",
       "    </tr>\n",
       "    <tr>\n",
       "      <th>1</th>\n",
       "      <td>26</td>\n",
       "      <td>16770</td>\n",
       "      <td>-75.25</td>\n",
       "      <td>78.25</td>\n",
       "      <td>924</td>\n",
       "      <td>100039</td>\n",
       "      <td>1</td>\n",
       "      <td>1</td>\n",
       "      <td>1</td>\n",
       "      <td>1</td>\n",
       "      <td>2007</td>\n",
       "      <td>0.956645</td>\n",
       "    </tr>\n",
       "    <tr>\n",
       "      <th>2</th>\n",
       "      <td>26</td>\n",
       "      <td>16770</td>\n",
       "      <td>-75.25</td>\n",
       "      <td>78.25</td>\n",
       "      <td>924</td>\n",
       "      <td>100039</td>\n",
       "      <td>1</td>\n",
       "      <td>1</td>\n",
       "      <td>1</td>\n",
       "      <td>1</td>\n",
       "      <td>2008</td>\n",
       "      <td>0.835748</td>\n",
       "    </tr>\n",
       "  </tbody>\n",
       "</table>\n",
       "</div>"
      ],
      "text/plain": [
       "   fishing_entity_id  cell_id    lon    lat  eez_id  taxon_key  \\\n",
       "0                 26    16770 -75.25  78.25     924     100039   \n",
       "1                 26    16770 -75.25  78.25     924     100039   \n",
       "2                 26    16770 -75.25  78.25     924     100039   \n",
       "\n",
       "   reporting_status_id  sector_type_id  catch_type_id  gear_type_id  year  \\\n",
       "0                    1               1              1             1  2006   \n",
       "1                    1               1              1             1  2007   \n",
       "2                    1               1              1             1  2008   \n",
       "\n",
       "   catch_sum  \n",
       "0   0.904239  \n",
       "1   0.956645  \n",
       "2   0.835748  "
      ]
     },
     "execution_count": 12,
     "metadata": {},
     "output_type": "execute_result"
    }
   ],
   "source": [
    "# data is in a subfolder 'fishing_entity_data' on the S3 bucket\n",
    "# define CloudFront access location format for EEZ data\n",
    "\n",
    "eez_data_key = 'fishing_entity_data/' + filename_eez\n",
    "eez_data_location = '{}/{}'.format(cloudfront, eez_data_key)\n",
    "\n",
    "# load the EEZ data using Pandas\n",
    "df_eez = pd.read_csv(eez_data_location)\n",
    "\n",
    "# print the number of records & columns, and also display the sample EEZ data\n",
    "print(df_eez.shape)\n",
    "df_eez.head(3)\n"
   ]
  },
  {
   "cell_type": "code",
   "execution_count": null,
   "id": "6d3508de",
   "metadata": {},
   "outputs": [],
   "source": []
  }
 ],
 "metadata": {
  "kernelspec": {
   "display_name": "Python 3",
   "language": "python",
   "name": "python3"
  },
  "language_info": {
   "codemirror_mode": {
    "name": "ipython",
    "version": 3
   },
   "file_extension": ".py",
   "mimetype": "text/x-python",
   "name": "python",
   "nbconvert_exporter": "python",
   "pygments_lexer": "ipython3",
   "version": "3.8.3"
  }
 },
 "nbformat": 4,
 "nbformat_minor": 5
}
