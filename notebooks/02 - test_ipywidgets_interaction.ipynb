version https://git-lfs.github.com/spec/v1
oid sha256:db6ee32ed177faaadcd05507bd6fb08d0ecbb06be77a526ed39393f931a1bac3
size 12691
