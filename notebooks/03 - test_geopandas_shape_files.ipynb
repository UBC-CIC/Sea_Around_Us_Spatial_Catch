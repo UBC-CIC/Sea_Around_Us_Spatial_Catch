{
 "cells": [
  {
   "cell_type": "markdown",
   "id": "ed0d07e0",
   "metadata": {},
   "source": [
    "### Setup"
   ]
  },
  {
   "cell_type": "code",
   "execution_count": 1,
   "id": "ad40dd8a",
   "metadata": {},
   "outputs": [],
   "source": [
    "# Uncomment this cell if necessary libraries are not already installed\n",
    "\n",
    "# ! pip install --upgrade pip\n",
    "\n",
    "# see instructions below for geopandas library\n",
    "\n",
    "# ! pip install pandas\n"
   ]
  },
  {
   "cell_type": "markdown",
   "id": "9bd88070",
   "metadata": {},
   "source": [
    "__Instructions for GeoPandas__\n",
    "\n",
    "https://geopandas.org/getting_started/install.html\n",
    "\n",
    "__Miniconda__\n",
    "\n",
    "https://docs.conda.io/en/latest/miniconda.html\n",
    "\n",
    "https://conda.io/projects/conda/en/latest/user-guide/install/index.html\n",
    "\n",
    "__Installation of dependencies is managed by conda if you prefer that approach__    \n",
    "__(or)__      \n",
    "__Manually install necessary dependencies if using the pip install method__ `# ! pip install geopandas`"
   ]
  },
  {
   "cell_type": "code",
   "execution_count": null,
   "id": "4bb259c6",
   "metadata": {},
   "outputs": [],
   "source": []
  },
  {
   "cell_type": "markdown",
   "id": "b7897d1c",
   "metadata": {},
   "source": [
    "### Import Libraries"
   ]
  },
  {
   "cell_type": "code",
   "execution_count": 2,
   "id": "dce9beef",
   "metadata": {},
   "outputs": [],
   "source": [
    "import pandas as pd\n",
    "\n",
    "import geopandas\n"
   ]
  },
  {
   "cell_type": "markdown",
   "id": "432993b4",
   "metadata": {},
   "source": [
    "### CloudFront domain"
   ]
  },
  {
   "cell_type": "code",
   "execution_count": 3,
   "id": "e9222fde",
   "metadata": {},
   "outputs": [
    {
     "data": {
      "text/plain": [
       "'https://d1b4l80qig6dum.cloudfront.net'"
      ]
     },
     "execution_count": 3,
     "metadata": {},
     "output_type": "execute_result"
    }
   ],
   "source": [
    "# define CloudFront domain name (to access S3)\n",
    "\n",
    "cloudfront = 'https://d1b4l80qig6dum.cloudfront.net'\n",
    "cloudfront\n"
   ]
  },
  {
   "cell_type": "markdown",
   "id": "536f9ac1",
   "metadata": {},
   "source": [
    "### Shape files for Cells"
   ]
  },
  {
   "cell_type": "code",
   "execution_count": 4,
   "id": "dd4e30dc",
   "metadata": {},
   "outputs": [
    {
     "name": "stdout",
     "output_type": "stream",
     "text": [
      "(153533, 6)\n"
     ]
    },
    {
     "data": {
      "text/html": [
       "<div>\n",
       "<style scoped>\n",
       "    .dataframe tbody tr th:only-of-type {\n",
       "        vertical-align: middle;\n",
       "    }\n",
       "\n",
       "    .dataframe tbody tr th {\n",
       "        vertical-align: top;\n",
       "    }\n",
       "\n",
       "    .dataframe thead th {\n",
       "        text-align: right;\n",
       "    }\n",
       "</style>\n",
       "<table border=\"1\" class=\"dataframe\">\n",
       "  <thead>\n",
       "    <tr style=\"text-align: right;\">\n",
       "      <th></th>\n",
       "      <th>ID</th>\n",
       "      <th>CENTROID</th>\n",
       "      <th>WATER_AREA</th>\n",
       "      <th>SEQ</th>\n",
       "      <th>NEW_SEQ</th>\n",
       "      <th>geometry</th>\n",
       "    </tr>\n",
       "  </thead>\n",
       "  <tbody>\n",
       "    <tr>\n",
       "      <th>0</th>\n",
       "      <td>1</td>\n",
       "      <td>47.75,-36.25</td>\n",
       "      <td>2493.295817</td>\n",
       "      <td>181896.0</td>\n",
       "      <td>164053.0</td>\n",
       "      <td>POLYGON ((47.50000 -36.00000, 48.00000 -36.000...</td>\n",
       "    </tr>\n",
       "    <tr>\n",
       "      <th>1</th>\n",
       "      <td>2</td>\n",
       "      <td>47.75,-34.25</td>\n",
       "      <td>2554.452574</td>\n",
       "      <td>179016.0</td>\n",
       "      <td>164049.0</td>\n",
       "      <td>POLYGON ((47.50000 -34.00000, 48.00000 -34.000...</td>\n",
       "    </tr>\n",
       "    <tr>\n",
       "      <th>2</th>\n",
       "      <td>3</td>\n",
       "      <td>47.75,-39.75</td>\n",
       "      <td>2378.926818</td>\n",
       "      <td>186936.0</td>\n",
       "      <td>164060.0</td>\n",
       "      <td>POLYGON ((47.50000 -39.50000, 48.00000 -39.500...</td>\n",
       "    </tr>\n",
       "  </tbody>\n",
       "</table>\n",
       "</div>"
      ],
      "text/plain": [
       "   ID      CENTROID   WATER_AREA       SEQ   NEW_SEQ  \\\n",
       "0   1  47.75,-36.25  2493.295817  181896.0  164053.0   \n",
       "1   2  47.75,-34.25  2554.452574  179016.0  164049.0   \n",
       "2   3  47.75,-39.75  2378.926818  186936.0  164060.0   \n",
       "\n",
       "                                            geometry  \n",
       "0  POLYGON ((47.50000 -36.00000, 48.00000 -36.000...  \n",
       "1  POLYGON ((47.50000 -34.00000, 48.00000 -34.000...  \n",
       "2  POLYGON ((47.50000 -39.50000, 48.00000 -39.500...  "
      ]
     },
     "execution_count": 4,
     "metadata": {},
     "output_type": "execute_result"
    }
   ],
   "source": [
    "# data is in a subfolder 'maps_shape_files' on the S3 bucket\n",
    "# define CloudFront access location format for Cell shape files data\n",
    "\n",
    "cell_shape_data_key = 'maps_shape_files/fixed_geom_world_ocean_cells.zip'\n",
    "cell_shape_data_location = '{}/{}'.format(cloudfront, cell_shape_data_key)\n",
    "\n",
    "# load the Cell shape files data using GeoPandas\n",
    "# this returns a GeoDataFrame \n",
    "cell_gdf = geopandas.read_file(cell_shape_data_location)\n",
    "\n",
    "# print the number of records & columns, and also display the sample data\n",
    "print(cell_gdf.shape)\n",
    "cell_gdf.head(3)\n"
   ]
  },
  {
   "cell_type": "code",
   "execution_count": 5,
   "id": "02f2571b",
   "metadata": {},
   "outputs": [
    {
     "name": "stdout",
     "output_type": "stream",
     "text": [
      "(153533, 2)\n"
     ]
    },
    {
     "data": {
      "text/html": [
       "<div>\n",
       "<style scoped>\n",
       "    .dataframe tbody tr th:only-of-type {\n",
       "        vertical-align: middle;\n",
       "    }\n",
       "\n",
       "    .dataframe tbody tr th {\n",
       "        vertical-align: top;\n",
       "    }\n",
       "\n",
       "    .dataframe thead th {\n",
       "        text-align: right;\n",
       "    }\n",
       "</style>\n",
       "<table border=\"1\" class=\"dataframe\">\n",
       "  <thead>\n",
       "    <tr style=\"text-align: right;\">\n",
       "      <th></th>\n",
       "      <th>cell_id</th>\n",
       "      <th>geometry</th>\n",
       "    </tr>\n",
       "  </thead>\n",
       "  <tbody>\n",
       "    <tr>\n",
       "      <th>0</th>\n",
       "      <td>181896</td>\n",
       "      <td>POLYGON ((47.50000 -36.00000, 48.00000 -36.000...</td>\n",
       "    </tr>\n",
       "    <tr>\n",
       "      <th>1</th>\n",
       "      <td>179016</td>\n",
       "      <td>POLYGON ((47.50000 -34.00000, 48.00000 -34.000...</td>\n",
       "    </tr>\n",
       "    <tr>\n",
       "      <th>2</th>\n",
       "      <td>186936</td>\n",
       "      <td>POLYGON ((47.50000 -39.50000, 48.00000 -39.500...</td>\n",
       "    </tr>\n",
       "  </tbody>\n",
       "</table>\n",
       "</div>"
      ],
      "text/plain": [
       "   cell_id                                           geometry\n",
       "0   181896  POLYGON ((47.50000 -36.00000, 48.00000 -36.000...\n",
       "1   179016  POLYGON ((47.50000 -34.00000, 48.00000 -34.000...\n",
       "2   186936  POLYGON ((47.50000 -39.50000, 48.00000 -39.500..."
      ]
     },
     "execution_count": 5,
     "metadata": {},
     "output_type": "execute_result"
    }
   ],
   "source": [
    "# drop columns not necessary for maps\n",
    "# update this as needed - in case NEW_SEQ has to be used in future instead of SEQ\n",
    "cell_gdf.drop(['ID', 'WATER_AREA', 'NEW_SEQ', 'CENTROID'], axis = 1, inplace = True)\n",
    "\n",
    "# rename the SEQ column as cell_id and also update the column type to 'int'\n",
    "# update this as needed - in case NEW_SEQ has to be used in future instead of SEQ\n",
    "cell_gdf['SEQ'] = cell_gdf['SEQ'].astype(int)\n",
    "cell_gdf.rename(columns = {\"SEQ\": \"cell_id\"}, inplace = True)\n",
    "\n",
    "# print the number of records & columns, and also display the sample data\n",
    "print(cell_gdf.shape)\n",
    "cell_gdf.head(3)\n"
   ]
  },
  {
   "cell_type": "markdown",
   "id": "f431d806",
   "metadata": {},
   "source": [
    "### Shape files for EEZ"
   ]
  },
  {
   "cell_type": "code",
   "execution_count": 6,
   "id": "8d95a1da",
   "metadata": {},
   "outputs": [
    {
     "name": "stdout",
     "output_type": "stream",
     "text": [
      "(281, 9)\n"
     ]
    },
    {
     "data": {
      "text/html": [
       "<div>\n",
       "<style scoped>\n",
       "    .dataframe tbody tr th:only-of-type {\n",
       "        vertical-align: middle;\n",
       "    }\n",
       "\n",
       "    .dataframe tbody tr th {\n",
       "        vertical-align: top;\n",
       "    }\n",
       "\n",
       "    .dataframe thead th {\n",
       "        text-align: right;\n",
       "    }\n",
       "</style>\n",
       "<table border=\"1\" class=\"dataframe\">\n",
       "  <thead>\n",
       "    <tr style=\"text-align: right;\">\n",
       "      <th></th>\n",
       "      <th>ID</th>\n",
       "      <th>FID</th>\n",
       "      <th>CAT</th>\n",
       "      <th>EEZ_ID</th>\n",
       "      <th>EEZ_NAME</th>\n",
       "      <th>AREA_KM2</th>\n",
       "      <th>LAYER</th>\n",
       "      <th>PATH</th>\n",
       "      <th>geometry</th>\n",
       "    </tr>\n",
       "  </thead>\n",
       "  <tbody>\n",
       "    <tr>\n",
       "      <th>0</th>\n",
       "      <td>45</td>\n",
       "      <td>141.0</td>\n",
       "      <td>45</td>\n",
       "      <td>174</td>\n",
       "      <td>Comoros Isl.</td>\n",
       "      <td>231636.310536</td>\n",
       "      <td>SAU_EEZ_v9_Mar2018</td>\n",
       "      <td>C:\\Users\\spopov\\Documents\\GIS\\EEZ\\SAU EEZ v9 2...</td>\n",
       "      <td>POLYGON ((45.73564 -14.31894, 45.39066 -14.430...</td>\n",
       "    </tr>\n",
       "    <tr>\n",
       "      <th>1</th>\n",
       "      <td>47</td>\n",
       "      <td>167.0</td>\n",
       "      <td>47</td>\n",
       "      <td>178</td>\n",
       "      <td>Congo, R. of</td>\n",
       "      <td>34012.666059</td>\n",
       "      <td>SAU_EEZ_v9_Mar2018</td>\n",
       "      <td>C:\\Users\\spopov\\Documents\\GIS\\EEZ\\SAU EEZ v9 2...</td>\n",
       "      <td>POLYGON ((9.12111 -6.73441, 8.91135 -6.43164, ...</td>\n",
       "    </tr>\n",
       "    <tr>\n",
       "      <th>2</th>\n",
       "      <td>48</td>\n",
       "      <td>168.0</td>\n",
       "      <td>48</td>\n",
       "      <td>180</td>\n",
       "      <td>Congo (ex-Zaire)</td>\n",
       "      <td>13155.472627</td>\n",
       "      <td>SAU_EEZ_v9_Mar2018</td>\n",
       "      <td>C:\\Users\\spopov\\Documents\\GIS\\EEZ\\SAU EEZ v9 2...</td>\n",
       "      <td>POLYGON ((9.11375 -7.06505, 9.00732 -6.76987, ...</td>\n",
       "    </tr>\n",
       "  </tbody>\n",
       "</table>\n",
       "</div>"
      ],
      "text/plain": [
       "   ID    FID  CAT  EEZ_ID          EEZ_NAME       AREA_KM2  \\\n",
       "0  45  141.0   45     174      Comoros Isl.  231636.310536   \n",
       "1  47  167.0   47     178      Congo, R. of   34012.666059   \n",
       "2  48  168.0   48     180  Congo (ex-Zaire)   13155.472627   \n",
       "\n",
       "                LAYER                                               PATH  \\\n",
       "0  SAU_EEZ_v9_Mar2018  C:\\Users\\spopov\\Documents\\GIS\\EEZ\\SAU EEZ v9 2...   \n",
       "1  SAU_EEZ_v9_Mar2018  C:\\Users\\spopov\\Documents\\GIS\\EEZ\\SAU EEZ v9 2...   \n",
       "2  SAU_EEZ_v9_Mar2018  C:\\Users\\spopov\\Documents\\GIS\\EEZ\\SAU EEZ v9 2...   \n",
       "\n",
       "                                            geometry  \n",
       "0  POLYGON ((45.73564 -14.31894, 45.39066 -14.430...  \n",
       "1  POLYGON ((9.12111 -6.73441, 8.91135 -6.43164, ...  \n",
       "2  POLYGON ((9.11375 -7.06505, 9.00732 -6.76987, ...  "
      ]
     },
     "execution_count": 6,
     "metadata": {},
     "output_type": "execute_result"
    }
   ],
   "source": [
    "# data is in a subfolder 'maps_shape_files' on the S3 bucket\n",
    "# define CloudFront access location format for EEZ shape files data\n",
    "\n",
    "eez_shape_data_key = 'maps_shape_files/fixed_geom_eez.zip'\n",
    "eez_shape_data_location = '{}/{}'.format(cloudfront, eez_shape_data_key)\n",
    "\n",
    "# load the EEZ shape files data using GeoPandas\n",
    "# this returns a GeoDataFrame \n",
    "eez_gdf = geopandas.read_file(eez_shape_data_location)\n",
    "\n",
    "# print the number of records & columns, and also display the sample data\n",
    "print(eez_gdf.shape)\n",
    "eez_gdf.head(3)\n"
   ]
  },
  {
   "cell_type": "code",
   "execution_count": 7,
   "id": "b1b47db5",
   "metadata": {},
   "outputs": [
    {
     "name": "stdout",
     "output_type": "stream",
     "text": [
      "(281, 3)\n"
     ]
    },
    {
     "data": {
      "text/html": [
       "<div>\n",
       "<style scoped>\n",
       "    .dataframe tbody tr th:only-of-type {\n",
       "        vertical-align: middle;\n",
       "    }\n",
       "\n",
       "    .dataframe tbody tr th {\n",
       "        vertical-align: top;\n",
       "    }\n",
       "\n",
       "    .dataframe thead th {\n",
       "        text-align: right;\n",
       "    }\n",
       "</style>\n",
       "<table border=\"1\" class=\"dataframe\">\n",
       "  <thead>\n",
       "    <tr style=\"text-align: right;\">\n",
       "      <th></th>\n",
       "      <th>eez_id</th>\n",
       "      <th>eez</th>\n",
       "      <th>geometry</th>\n",
       "    </tr>\n",
       "  </thead>\n",
       "  <tbody>\n",
       "    <tr>\n",
       "      <th>0</th>\n",
       "      <td>174</td>\n",
       "      <td>Comoros Isl.</td>\n",
       "      <td>POLYGON ((45.73564 -14.31894, 45.39066 -14.430...</td>\n",
       "    </tr>\n",
       "    <tr>\n",
       "      <th>1</th>\n",
       "      <td>178</td>\n",
       "      <td>Congo, R. of</td>\n",
       "      <td>POLYGON ((9.12111 -6.73441, 8.91135 -6.43164, ...</td>\n",
       "    </tr>\n",
       "    <tr>\n",
       "      <th>2</th>\n",
       "      <td>180</td>\n",
       "      <td>Congo (ex-Zaire)</td>\n",
       "      <td>POLYGON ((9.11375 -7.06505, 9.00732 -6.76987, ...</td>\n",
       "    </tr>\n",
       "  </tbody>\n",
       "</table>\n",
       "</div>"
      ],
      "text/plain": [
       "   eez_id               eez                                           geometry\n",
       "0     174      Comoros Isl.  POLYGON ((45.73564 -14.31894, 45.39066 -14.430...\n",
       "1     178      Congo, R. of  POLYGON ((9.12111 -6.73441, 8.91135 -6.43164, ...\n",
       "2     180  Congo (ex-Zaire)  POLYGON ((9.11375 -7.06505, 9.00732 -6.76987, ..."
      ]
     },
     "execution_count": 7,
     "metadata": {},
     "output_type": "execute_result"
    }
   ],
   "source": [
    "# drop columns not necessary for maps\n",
    "# update this as needed\n",
    "\n",
    "eez_gdf.drop(['ID', 'FID', 'CAT', 'AREA_KM2', 'LAYER', 'PATH'], axis = 1, inplace = True)\n",
    "\n",
    "# rename the EEZ columns to merge with spatial catch data \n",
    "# update this as needed\n",
    "eez_gdf.rename(columns = {\"EEZ_NAME\": \"eez\"}, inplace = True)\n",
    "eez_gdf.rename(columns = {\"EEZ_ID\": \"eez_id\"}, inplace = True)\n",
    "\n",
    "# print the number of records & columns, and also display the sample data\n",
    "print(eez_gdf.shape)\n",
    "eez_gdf.head(3)\n"
   ]
  },
  {
   "cell_type": "markdown",
   "id": "a53f6e62",
   "metadata": {},
   "source": [
    "### Shape files for LME"
   ]
  },
  {
   "cell_type": "code",
   "execution_count": 8,
   "id": "003e71f9",
   "metadata": {},
   "outputs": [
    {
     "name": "stdout",
     "output_type": "stream",
     "text": [
      "(66, 7)\n"
     ]
    },
    {
     "data": {
      "text/html": [
       "<div>\n",
       "<style scoped>\n",
       "    .dataframe tbody tr th:only-of-type {\n",
       "        vertical-align: middle;\n",
       "    }\n",
       "\n",
       "    .dataframe tbody tr th {\n",
       "        vertical-align: top;\n",
       "    }\n",
       "\n",
       "    .dataframe thead th {\n",
       "        text-align: right;\n",
       "    }\n",
       "</style>\n",
       "<table border=\"1\" class=\"dataframe\">\n",
       "  <thead>\n",
       "    <tr style=\"text-align: right;\">\n",
       "      <th></th>\n",
       "      <th>OBJECT_ID</th>\n",
       "      <th>LME_NUMBER</th>\n",
       "      <th>LME_NAME</th>\n",
       "      <th>SHAPE_LENG</th>\n",
       "      <th>SHAPE_AREA</th>\n",
       "      <th>PROFILE_UR</th>\n",
       "      <th>geometry</th>\n",
       "    </tr>\n",
       "  </thead>\n",
       "  <tbody>\n",
       "    <tr>\n",
       "      <th>0</th>\n",
       "      <td>1</td>\n",
       "      <td>23</td>\n",
       "      <td>Baltic Sea</td>\n",
       "      <td>219.326402</td>\n",
       "      <td>61.950021</td>\n",
       "      <td>http://lme.edc.uri.edu/index.php?option=com_co...</td>\n",
       "      <td>POLYGON ((10.97944 54.38055, 10.96944 54.38055...</td>\n",
       "    </tr>\n",
       "    <tr>\n",
       "      <th>1</th>\n",
       "      <td>2</td>\n",
       "      <td>52</td>\n",
       "      <td>Sea of Okhotsk</td>\n",
       "      <td>145.932989</td>\n",
       "      <td>213.796584</td>\n",
       "      <td>http://lme.edc.uri.edu/index.php?option=com_co...</td>\n",
       "      <td>POLYGON ((156.70705 51.18858, 156.62592 51.160...</td>\n",
       "    </tr>\n",
       "    <tr>\n",
       "      <th>2</th>\n",
       "      <td>3</td>\n",
       "      <td>22</td>\n",
       "      <td>North Sea</td>\n",
       "      <td>209.486403</td>\n",
       "      <td>103.965247</td>\n",
       "      <td>http://lme.edc.uri.edu/index.php?option=com_co...</td>\n",
       "      <td>POLYGON ((5.27889 61.98027, 5.24917 61.97388, ...</td>\n",
       "    </tr>\n",
       "  </tbody>\n",
       "</table>\n",
       "</div>"
      ],
      "text/plain": [
       "   OBJECT_ID  LME_NUMBER        LME_NAME  SHAPE_LENG  SHAPE_AREA  \\\n",
       "0          1          23      Baltic Sea  219.326402   61.950021   \n",
       "1          2          52  Sea of Okhotsk  145.932989  213.796584   \n",
       "2          3          22       North Sea  209.486403  103.965247   \n",
       "\n",
       "                                          PROFILE_UR  \\\n",
       "0  http://lme.edc.uri.edu/index.php?option=com_co...   \n",
       "1  http://lme.edc.uri.edu/index.php?option=com_co...   \n",
       "2  http://lme.edc.uri.edu/index.php?option=com_co...   \n",
       "\n",
       "                                            geometry  \n",
       "0  POLYGON ((10.97944 54.38055, 10.96944 54.38055...  \n",
       "1  POLYGON ((156.70705 51.18858, 156.62592 51.160...  \n",
       "2  POLYGON ((5.27889 61.98027, 5.24917 61.97388, ...  "
      ]
     },
     "execution_count": 8,
     "metadata": {},
     "output_type": "execute_result"
    }
   ],
   "source": [
    "# data is in a subfolder 'maps_shape_files' on the S3 bucket\n",
    "# define CloudFront access location format for LME shape files data\n",
    "\n",
    "lme_shape_data_key = 'maps_shape_files/fixed_geom_lme.zip'\n",
    "lme_shape_data_location = '{}/{}'.format(cloudfront, lme_shape_data_key)\n",
    "\n",
    "# load the LME shape files data using GeoPandas\n",
    "# this returns a GeoDataFrame\n",
    "lme_gdf = geopandas.read_file(lme_shape_data_location)\n",
    "\n",
    "# print the number of records & columns, and also display the sample data\n",
    "print(lme_gdf.shape)\n",
    "lme_gdf.head(3)\n"
   ]
  },
  {
   "cell_type": "code",
   "execution_count": 9,
   "id": "d63bfed4",
   "metadata": {},
   "outputs": [
    {
     "name": "stdout",
     "output_type": "stream",
     "text": [
      "(66, 3)\n"
     ]
    },
    {
     "data": {
      "text/html": [
       "<div>\n",
       "<style scoped>\n",
       "    .dataframe tbody tr th:only-of-type {\n",
       "        vertical-align: middle;\n",
       "    }\n",
       "\n",
       "    .dataframe tbody tr th {\n",
       "        vertical-align: top;\n",
       "    }\n",
       "\n",
       "    .dataframe thead th {\n",
       "        text-align: right;\n",
       "    }\n",
       "</style>\n",
       "<table border=\"1\" class=\"dataframe\">\n",
       "  <thead>\n",
       "    <tr style=\"text-align: right;\">\n",
       "      <th></th>\n",
       "      <th>lme_id</th>\n",
       "      <th>lme</th>\n",
       "      <th>geometry</th>\n",
       "    </tr>\n",
       "  </thead>\n",
       "  <tbody>\n",
       "    <tr>\n",
       "      <th>0</th>\n",
       "      <td>23</td>\n",
       "      <td>Baltic Sea</td>\n",
       "      <td>POLYGON ((10.97944 54.38055, 10.96944 54.38055...</td>\n",
       "    </tr>\n",
       "    <tr>\n",
       "      <th>1</th>\n",
       "      <td>52</td>\n",
       "      <td>Sea of Okhotsk</td>\n",
       "      <td>POLYGON ((156.70705 51.18858, 156.62592 51.160...</td>\n",
       "    </tr>\n",
       "    <tr>\n",
       "      <th>2</th>\n",
       "      <td>22</td>\n",
       "      <td>North Sea</td>\n",
       "      <td>POLYGON ((5.27889 61.98027, 5.24917 61.97388, ...</td>\n",
       "    </tr>\n",
       "  </tbody>\n",
       "</table>\n",
       "</div>"
      ],
      "text/plain": [
       "   lme_id             lme                                           geometry\n",
       "0      23      Baltic Sea  POLYGON ((10.97944 54.38055, 10.96944 54.38055...\n",
       "1      52  Sea of Okhotsk  POLYGON ((156.70705 51.18858, 156.62592 51.160...\n",
       "2      22       North Sea  POLYGON ((5.27889 61.98027, 5.24917 61.97388, ..."
      ]
     },
     "execution_count": 9,
     "metadata": {},
     "output_type": "execute_result"
    }
   ],
   "source": [
    "# drop columns not necessary for maps\n",
    "# update this as needed\n",
    "\n",
    "lme_gdf.drop(['OBJECT_ID', 'SHAPE_LENG', 'SHAPE_AREA', 'PROFILE_UR'], axis = 1, inplace = True)\n",
    "\n",
    "# rename the LME columns to merge with spatial catch data \n",
    "# update this as needed\n",
    "lme_gdf.rename(columns = {\"LME_NAME\": \"lme\"}, inplace = True)\n",
    "lme_gdf.rename(columns = {\"LME_NUMBER\": \"lme_id\"}, inplace = True)\n",
    "\n",
    "# print the number of records & columns, and also display the sample data\n",
    "print(lme_gdf.shape)\n",
    "lme_gdf.head(3)\n"
   ]
  },
  {
   "cell_type": "code",
   "execution_count": null,
   "id": "24372970",
   "metadata": {},
   "outputs": [],
   "source": []
  }
 ],
 "metadata": {
  "kernelspec": {
   "display_name": "Python 3",
   "language": "python",
   "name": "python3"
  },
  "language_info": {
   "codemirror_mode": {
    "name": "ipython",
    "version": 3
   },
   "file_extension": ".py",
   "mimetype": "text/x-python",
   "name": "python",
   "nbconvert_exporter": "python",
   "pygments_lexer": "ipython3",
   "version": "3.8.3"
  }
 },
 "nbformat": 4,
 "nbformat_minor": 5
}
