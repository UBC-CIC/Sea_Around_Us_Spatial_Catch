{
 "cells": [
  {
   "cell_type": "markdown",
   "id": "db399c31",
   "metadata": {},
   "source": [
    "### Setup"
   ]
  },
  {
   "cell_type": "code",
   "execution_count": 1,
   "id": "b339cd7c",
   "metadata": {},
   "outputs": [],
   "source": [
    "# Uncomment and run this cell if Pandas library is not already installed\n",
    "\n",
    "# ! pip install --upgrade pip\n",
    "\n",
    "# ! pip install numpy\n",
    "\n",
    "# ! pip install pandas\n",
    "\n",
    "# ! pip install ipywidgets\n",
    "\n",
    "# ! pip install altair\n",
    "\n",
    "# ! pip install folium\n",
    "\n",
    "# see additional instructions for geopandas library > https://geopandas.org/getting_started/install.html\n"
   ]
  },
  {
   "cell_type": "markdown",
   "id": "dd66574b",
   "metadata": {},
   "source": [
    "### Import Libraries"
   ]
  },
  {
   "cell_type": "code",
   "execution_count": 2,
   "id": "41285be6",
   "metadata": {},
   "outputs": [],
   "source": [
    "from random import randint\n",
    "\n",
    "from IPython.display import display\n",
    "import ipywidgets as widgets\n",
    "\n",
    "import numpy as np \n",
    "import pandas as pd\n",
    "import altair as alt\n",
    "\n",
    "import folium\n",
    "import geopandas\n",
    "from folium.plugins import MarkerCluster\n"
   ]
  },
  {
   "cell_type": "code",
   "execution_count": 3,
   "id": "43148393",
   "metadata": {},
   "outputs": [
    {
     "name": "stderr",
     "output_type": "stream",
     "text": [
      "Enabling notebook extension jupyter-js-widgets/extension...\n"
     ]
    },
    {
     "data": {
      "text/plain": [
       "RendererRegistry.enable('default')"
      ]
     },
     "execution_count": 3,
     "metadata": {},
     "output_type": "execute_result"
    },
    {
     "name": "stderr",
     "output_type": "stream",
     "text": [
      "      - Validating: ok\n"
     ]
    }
   ],
   "source": [
    "# enable extension for widgets\n",
    "! jupyter nbextension enable --py widgetsnbextension\n",
    "\n",
    "# disable the default 5000 limit on number of rows\n",
    "alt.data_transformers.disable_max_rows()\n",
    "\n",
    "# enable renderer\n",
    "alt.renderers.enable('default')\n"
   ]
  },
  {
   "cell_type": "markdown",
   "id": "c751ce5a",
   "metadata": {},
   "source": [
    "### CloudFront domain"
   ]
  },
  {
   "cell_type": "code",
   "execution_count": 4,
   "id": "eb4c6061",
   "metadata": {},
   "outputs": [
    {
     "data": {
      "text/plain": [
       "'https://d1b4l80qig6dum.cloudfront.net'"
      ]
     },
     "execution_count": 4,
     "metadata": {},
     "output_type": "execute_result"
    }
   ],
   "source": [
    "# define CloudFront domain name (to access S3)\n",
    "\n",
    "cloudfront = 'https://d1b4l80qig6dum.cloudfront.net'\n",
    "cloudfront\n"
   ]
  },
  {
   "cell_type": "markdown",
   "id": "f2a48d40",
   "metadata": {},
   "source": [
    "### Fishing entity selection"
   ]
  },
  {
   "cell_type": "code",
   "execution_count": 5,
   "id": "70cb2a8d",
   "metadata": {},
   "outputs": [
    {
     "name": "stdout",
     "output_type": "stream",
     "text": [
      "(199, 2)\n"
     ]
    },
    {
     "data": {
      "text/html": [
       "<div>\n",
       "<style scoped>\n",
       "    .dataframe tbody tr th:only-of-type {\n",
       "        vertical-align: middle;\n",
       "    }\n",
       "\n",
       "    .dataframe tbody tr th {\n",
       "        vertical-align: top;\n",
       "    }\n",
       "\n",
       "    .dataframe thead th {\n",
       "        text-align: right;\n",
       "    }\n",
       "</style>\n",
       "<table border=\"1\" class=\"dataframe\">\n",
       "  <thead>\n",
       "    <tr style=\"text-align: right;\">\n",
       "      <th></th>\n",
       "      <th>fishing_entity_id</th>\n",
       "      <th>fishing_entity</th>\n",
       "    </tr>\n",
       "  </thead>\n",
       "  <tbody>\n",
       "    <tr>\n",
       "      <th>0</th>\n",
       "      <td>1</td>\n",
       "      <td>Albania</td>\n",
       "    </tr>\n",
       "    <tr>\n",
       "      <th>1</th>\n",
       "      <td>2</td>\n",
       "      <td>Algeria</td>\n",
       "    </tr>\n",
       "    <tr>\n",
       "      <th>2</th>\n",
       "      <td>3</td>\n",
       "      <td>American Samoa</td>\n",
       "    </tr>\n",
       "    <tr>\n",
       "      <th>3</th>\n",
       "      <td>4</td>\n",
       "      <td>Angola</td>\n",
       "    </tr>\n",
       "    <tr>\n",
       "      <th>4</th>\n",
       "      <td>5</td>\n",
       "      <td>Antigua &amp; Barbuda</td>\n",
       "    </tr>\n",
       "  </tbody>\n",
       "</table>\n",
       "</div>"
      ],
      "text/plain": [
       "   fishing_entity_id     fishing_entity\n",
       "0                  1            Albania\n",
       "1                  2            Algeria\n",
       "2                  3     American Samoa\n",
       "3                  4             Angola\n",
       "4                  5  Antigua & Barbuda"
      ]
     },
     "execution_count": 5,
     "metadata": {},
     "output_type": "execute_result"
    }
   ],
   "source": [
    "# Get the fishing entity names from reference table\n",
    "\n",
    "# data is in a subfolder 'reference_tables' on the S3 bucket\n",
    "# define CloudFront access location format for FISHING ENTITY lookup data\n",
    "\n",
    "fishing_entity_key = 'reference_tables/fishing_entity.csv'\n",
    "fishing_entity_data_location = '{}/{}'.format(cloudfront, fishing_entity_key)\n",
    "\n",
    "# load the EEZ data using Pandas\n",
    "fishing_entity_lookup = pd.read_csv(fishing_entity_data_location)\n",
    "\n",
    "# print the number of records & columns, and also display the sample data\n",
    "print(fishing_entity_lookup.shape)\n",
    "fishing_entity_lookup.head()\n"
   ]
  },
  {
   "cell_type": "code",
   "execution_count": 6,
   "id": "9ddf7b8d",
   "metadata": {},
   "outputs": [
    {
     "data": {
      "text/plain": [
       "['Albania', 'Algeria', 'American Samoa', 'Angola', 'Antigua & Barbuda']"
      ]
     },
     "execution_count": 6,
     "metadata": {},
     "output_type": "execute_result"
    }
   ],
   "source": [
    "# save the fishing entity names in a list for user selection purpose\n",
    "\n",
    "fishing_entities_list = list()\n",
    "fishing_entities_list = fishing_entity_lookup['fishing_entity'].to_list()\n",
    "\n",
    "# display first five names from the list\n",
    "fishing_entities_list[:5]\n"
   ]
  },
  {
   "cell_type": "markdown",
   "id": "f28438a8",
   "metadata": {},
   "source": [
    "__Fishing entity selection widget__"
   ]
  },
  {
   "cell_type": "code",
   "execution_count": 7,
   "id": "236667ec",
   "metadata": {},
   "outputs": [
    {
     "data": {
      "application/vnd.jupyter.widget-view+json": {
       "model_id": "ae26cd2c4a5844b7ad5ddec489761562",
       "version_major": 2,
       "version_minor": 0
      },
      "text/plain": [
       "Dropdown(description='Fishing entity :', index=25, options=('Albania', 'Algeria', 'American Samoa', 'Angola', …"
      ]
     },
     "metadata": {},
     "output_type": "display_data"
    }
   ],
   "source": [
    "# define fishing entity dropdown using above list\n",
    "\n",
    "fishing_entity_dropdown = widgets.Dropdown(\n",
    "    options = fishing_entities_list,\n",
    "    value = 'Canada',\n",
    "    description = 'Fishing entity :',\n",
    "    disabled = False,\n",
    ")\n",
    "\n",
    "# display the fishing entity dropdown for user selection\n",
    "display(fishing_entity_dropdown)\n"
   ]
  },
  {
   "cell_type": "markdown",
   "id": "a232f6aa",
   "metadata": {},
   "source": [
    "### Load EEZ data for the fishing entity selection"
   ]
  },
  {
   "cell_type": "code",
   "execution_count": 9,
   "id": "88599b5d",
   "metadata": {},
   "outputs": [
    {
     "data": {
      "text/plain": [
       "'Canada_fishing_entity_eez_data.csv'"
      ]
     },
     "execution_count": 9,
     "metadata": {},
     "output_type": "execute_result"
    }
   ],
   "source": [
    "# create the EEZ filename to be loaded based on fishing entity selected\n",
    "\n",
    "filename_eez = str(fishing_entity_dropdown.value) + '_fishing_entity_eez_data.csv'\n",
    "filename_eez\n"
   ]
  },
  {
   "cell_type": "code",
   "execution_count": 10,
   "id": "1271aed5",
   "metadata": {},
   "outputs": [
    {
     "name": "stdout",
     "output_type": "stream",
     "text": [
      "(11222726, 12)\n"
     ]
    },
    {
     "data": {
      "text/html": [
       "<div>\n",
       "<style scoped>\n",
       "    .dataframe tbody tr th:only-of-type {\n",
       "        vertical-align: middle;\n",
       "    }\n",
       "\n",
       "    .dataframe tbody tr th {\n",
       "        vertical-align: top;\n",
       "    }\n",
       "\n",
       "    .dataframe thead th {\n",
       "        text-align: right;\n",
       "    }\n",
       "</style>\n",
       "<table border=\"1\" class=\"dataframe\">\n",
       "  <thead>\n",
       "    <tr style=\"text-align: right;\">\n",
       "      <th></th>\n",
       "      <th>fishing_entity_id</th>\n",
       "      <th>cell_id</th>\n",
       "      <th>lon</th>\n",
       "      <th>lat</th>\n",
       "      <th>eez_id</th>\n",
       "      <th>taxon_key</th>\n",
       "      <th>reporting_status_id</th>\n",
       "      <th>sector_type_id</th>\n",
       "      <th>catch_type_id</th>\n",
       "      <th>gear_type_id</th>\n",
       "      <th>year</th>\n",
       "      <th>catch_sum</th>\n",
       "    </tr>\n",
       "  </thead>\n",
       "  <tbody>\n",
       "    <tr>\n",
       "      <th>0</th>\n",
       "      <td>26</td>\n",
       "      <td>16770</td>\n",
       "      <td>-75.25</td>\n",
       "      <td>78.25</td>\n",
       "      <td>924</td>\n",
       "      <td>100039</td>\n",
       "      <td>1</td>\n",
       "      <td>1</td>\n",
       "      <td>1</td>\n",
       "      <td>1</td>\n",
       "      <td>2006</td>\n",
       "      <td>0.904239</td>\n",
       "    </tr>\n",
       "    <tr>\n",
       "      <th>1</th>\n",
       "      <td>26</td>\n",
       "      <td>16770</td>\n",
       "      <td>-75.25</td>\n",
       "      <td>78.25</td>\n",
       "      <td>924</td>\n",
       "      <td>100039</td>\n",
       "      <td>1</td>\n",
       "      <td>1</td>\n",
       "      <td>1</td>\n",
       "      <td>1</td>\n",
       "      <td>2007</td>\n",
       "      <td>0.956645</td>\n",
       "    </tr>\n",
       "    <tr>\n",
       "      <th>2</th>\n",
       "      <td>26</td>\n",
       "      <td>16770</td>\n",
       "      <td>-75.25</td>\n",
       "      <td>78.25</td>\n",
       "      <td>924</td>\n",
       "      <td>100039</td>\n",
       "      <td>1</td>\n",
       "      <td>1</td>\n",
       "      <td>1</td>\n",
       "      <td>1</td>\n",
       "      <td>2008</td>\n",
       "      <td>0.835748</td>\n",
       "    </tr>\n",
       "  </tbody>\n",
       "</table>\n",
       "</div>"
      ],
      "text/plain": [
       "   fishing_entity_id  cell_id    lon    lat  eez_id  taxon_key  \\\n",
       "0                 26    16770 -75.25  78.25     924     100039   \n",
       "1                 26    16770 -75.25  78.25     924     100039   \n",
       "2                 26    16770 -75.25  78.25     924     100039   \n",
       "\n",
       "   reporting_status_id  sector_type_id  catch_type_id  gear_type_id  year  \\\n",
       "0                    1               1              1             1  2006   \n",
       "1                    1               1              1             1  2007   \n",
       "2                    1               1              1             1  2008   \n",
       "\n",
       "   catch_sum  \n",
       "0   0.904239  \n",
       "1   0.956645  \n",
       "2   0.835748  "
      ]
     },
     "execution_count": 10,
     "metadata": {},
     "output_type": "execute_result"
    }
   ],
   "source": [
    "# data is in a subfolder 'fishing_entity_data' on the S3 bucket\n",
    "# define CloudFront access location format for EEZ data\n",
    "\n",
    "eez_data_key = 'fishing_entity_data/' + filename_eez\n",
    "eez_data_location = '{}/{}'.format(cloudfront, eez_data_key)\n",
    "\n",
    "# load the EEZ data using Pandas\n",
    "df_eez = pd.read_csv(eez_data_location)\n",
    "\n",
    "# print the number of records & columns, and also display the sample EEZ data\n",
    "print(df_eez.shape)\n",
    "df_eez.head(3)\n"
   ]
  },
  {
   "cell_type": "markdown",
   "id": "79107514",
   "metadata": {},
   "source": [
    "### Load Reference tables"
   ]
  },
  {
   "cell_type": "markdown",
   "id": "ef57082b",
   "metadata": {},
   "source": [
    "__EEZ NAME lookup by ID__"
   ]
  },
  {
   "cell_type": "code",
   "execution_count": 11,
   "id": "11f8fe3a",
   "metadata": {},
   "outputs": [
    {
     "name": "stdout",
     "output_type": "stream",
     "text": [
      "(283, 2)\n"
     ]
    },
    {
     "data": {
      "text/html": [
       "<div>\n",
       "<style scoped>\n",
       "    .dataframe tbody tr th:only-of-type {\n",
       "        vertical-align: middle;\n",
       "    }\n",
       "\n",
       "    .dataframe tbody tr th {\n",
       "        vertical-align: top;\n",
       "    }\n",
       "\n",
       "    .dataframe thead th {\n",
       "        text-align: right;\n",
       "    }\n",
       "</style>\n",
       "<table border=\"1\" class=\"dataframe\">\n",
       "  <thead>\n",
       "    <tr style=\"text-align: right;\">\n",
       "      <th></th>\n",
       "      <th>eez_id</th>\n",
       "      <th>eez</th>\n",
       "    </tr>\n",
       "  </thead>\n",
       "  <tbody>\n",
       "    <tr>\n",
       "      <th>0</th>\n",
       "      <td>312</td>\n",
       "      <td>Guadeloupe (France)</td>\n",
       "    </tr>\n",
       "    <tr>\n",
       "      <th>1</th>\n",
       "      <td>12</td>\n",
       "      <td>Algeria</td>\n",
       "    </tr>\n",
       "    <tr>\n",
       "      <th>2</th>\n",
       "      <td>16</td>\n",
       "      <td>American Samoa</td>\n",
       "    </tr>\n",
       "    <tr>\n",
       "      <th>3</th>\n",
       "      <td>28</td>\n",
       "      <td>Antigua &amp; Barbuda</td>\n",
       "    </tr>\n",
       "    <tr>\n",
       "      <th>4</th>\n",
       "      <td>32</td>\n",
       "      <td>Argentina</td>\n",
       "    </tr>\n",
       "  </tbody>\n",
       "</table>\n",
       "</div>"
      ],
      "text/plain": [
       "   eez_id                  eez\n",
       "0     312  Guadeloupe (France)\n",
       "1      12              Algeria\n",
       "2      16       American Samoa\n",
       "3      28    Antigua & Barbuda\n",
       "4      32            Argentina"
      ]
     },
     "execution_count": 11,
     "metadata": {},
     "output_type": "execute_result"
    }
   ],
   "source": [
    "# data is in a subfolder 'reference_tables' on the S3 bucket\n",
    "# define CloudFront access location format for EEZ NAME lookup data\n",
    "\n",
    "eez_lookup_key = 'reference_tables/eez.csv'\n",
    "eez_lookup_data_location = '{}/{}'.format(cloudfront, eez_lookup_key)\n",
    "\n",
    "# load the EEZ NAME lookup data using Pandas\n",
    "eez_lookup = pd.read_csv(eez_lookup_data_location)\n",
    "\n",
    "# print the number of records & columns, and also display the sample data\n",
    "print(eez_lookup.shape)\n",
    "eez_lookup.head()\n"
   ]
  },
  {
   "cell_type": "markdown",
   "id": "be2f11ad",
   "metadata": {},
   "source": [
    "__CATCH TYPE lookup by ID__"
   ]
  },
  {
   "cell_type": "code",
   "execution_count": 12,
   "id": "c3a07161",
   "metadata": {},
   "outputs": [
    {
     "name": "stdout",
     "output_type": "stream",
     "text": [
      "(2, 3)\n"
     ]
    },
    {
     "data": {
      "text/html": [
       "<div>\n",
       "<style scoped>\n",
       "    .dataframe tbody tr th:only-of-type {\n",
       "        vertical-align: middle;\n",
       "    }\n",
       "\n",
       "    .dataframe tbody tr th {\n",
       "        vertical-align: top;\n",
       "    }\n",
       "\n",
       "    .dataframe thead th {\n",
       "        text-align: right;\n",
       "    }\n",
       "</style>\n",
       "<table border=\"1\" class=\"dataframe\">\n",
       "  <thead>\n",
       "    <tr style=\"text-align: right;\">\n",
       "      <th></th>\n",
       "      <th>catch_type_id</th>\n",
       "      <th>catch_type</th>\n",
       "      <th>abbreviation</th>\n",
       "    </tr>\n",
       "  </thead>\n",
       "  <tbody>\n",
       "    <tr>\n",
       "      <th>0</th>\n",
       "      <td>1</td>\n",
       "      <td>Landings</td>\n",
       "      <td>R</td>\n",
       "    </tr>\n",
       "    <tr>\n",
       "      <th>1</th>\n",
       "      <td>2</td>\n",
       "      <td>Discards</td>\n",
       "      <td>D</td>\n",
       "    </tr>\n",
       "  </tbody>\n",
       "</table>\n",
       "</div>"
      ],
      "text/plain": [
       "   catch_type_id catch_type abbreviation\n",
       "0              1   Landings            R\n",
       "1              2   Discards            D"
      ]
     },
     "execution_count": 12,
     "metadata": {},
     "output_type": "execute_result"
    }
   ],
   "source": [
    "# data is in a subfolder 'reference_tables' on the S3 bucket\n",
    "# define CloudFront access location format for CATCH TYPE lookup data\n",
    "\n",
    "catch_lookup_key = 'reference_tables/catch_type.csv'\n",
    "catch_lookup_data_location = '{}/{}'.format(cloudfront, catch_lookup_key)\n",
    "\n",
    "# load the CATCH TYPE lookup data using Pandas\n",
    "catch_lookup = pd.read_csv(catch_lookup_data_location)\n",
    "\n",
    "# rename column gear to catch_type\n",
    "catch_lookup.rename(columns = {\"name\": \"catch_type\"}, inplace = True)\n",
    "\n",
    "# print the number of records & columns, and also display the sample data\n",
    "print(catch_lookup.shape)\n",
    "catch_lookup.head()\n"
   ]
  },
  {
   "cell_type": "markdown",
   "id": "a93bbf76",
   "metadata": {},
   "source": [
    "__SECTOR TYPE lookup by ID__"
   ]
  },
  {
   "cell_type": "code",
   "execution_count": 13,
   "id": "15c60301",
   "metadata": {},
   "outputs": [
    {
     "name": "stdout",
     "output_type": "stream",
     "text": [
      "(4, 2)\n"
     ]
    },
    {
     "data": {
      "text/html": [
       "<div>\n",
       "<style scoped>\n",
       "    .dataframe tbody tr th:only-of-type {\n",
       "        vertical-align: middle;\n",
       "    }\n",
       "\n",
       "    .dataframe tbody tr th {\n",
       "        vertical-align: top;\n",
       "    }\n",
       "\n",
       "    .dataframe thead th {\n",
       "        text-align: right;\n",
       "    }\n",
       "</style>\n",
       "<table border=\"1\" class=\"dataframe\">\n",
       "  <thead>\n",
       "    <tr style=\"text-align: right;\">\n",
       "      <th></th>\n",
       "      <th>sector_type_id</th>\n",
       "      <th>sector_type</th>\n",
       "    </tr>\n",
       "  </thead>\n",
       "  <tbody>\n",
       "    <tr>\n",
       "      <th>0</th>\n",
       "      <td>1</td>\n",
       "      <td>Industrial</td>\n",
       "    </tr>\n",
       "    <tr>\n",
       "      <th>1</th>\n",
       "      <td>2</td>\n",
       "      <td>Subsistence</td>\n",
       "    </tr>\n",
       "    <tr>\n",
       "      <th>2</th>\n",
       "      <td>3</td>\n",
       "      <td>Artisanal</td>\n",
       "    </tr>\n",
       "    <tr>\n",
       "      <th>3</th>\n",
       "      <td>4</td>\n",
       "      <td>Recreational</td>\n",
       "    </tr>\n",
       "  </tbody>\n",
       "</table>\n",
       "</div>"
      ],
      "text/plain": [
       "   sector_type_id   sector_type\n",
       "0               1    Industrial\n",
       "1               2   Subsistence\n",
       "2               3     Artisanal\n",
       "3               4  Recreational"
      ]
     },
     "execution_count": 13,
     "metadata": {},
     "output_type": "execute_result"
    }
   ],
   "source": [
    "# data is in a subfolder 'reference_tables' on the S3 bucket\n",
    "# define CloudFront access location format for SECTOR TYPE lookup data\n",
    "\n",
    "sector_lookup_key = 'reference_tables/sector_type.csv'\n",
    "sector_lookup_data_location = '{}/{}'.format(cloudfront, sector_lookup_key)\n",
    "\n",
    "# load the SECTOR TYPE lookup data using Pandas\n",
    "sector_lookup = pd.read_csv(sector_lookup_data_location)\n",
    "\n",
    "# rename column name to sector_type\n",
    "sector_lookup.rename(columns = {\"name\": \"sector_type\"}, inplace = True)\n",
    "\n",
    "# print the number of records & columns, and also display the sample data\n",
    "print(sector_lookup.shape)\n",
    "sector_lookup.head()\n"
   ]
  },
  {
   "cell_type": "markdown",
   "id": "d0a2bac4",
   "metadata": {},
   "source": [
    "__GEAR TYPE lookup by ID__"
   ]
  },
  {
   "cell_type": "code",
   "execution_count": 14,
   "id": "195bfb24",
   "metadata": {},
   "outputs": [
    {
     "name": "stdout",
     "output_type": "stream",
     "text": [
      "(43, 2)\n"
     ]
    },
    {
     "data": {
      "text/html": [
       "<div>\n",
       "<style scoped>\n",
       "    .dataframe tbody tr th:only-of-type {\n",
       "        vertical-align: middle;\n",
       "    }\n",
       "\n",
       "    .dataframe tbody tr th {\n",
       "        vertical-align: top;\n",
       "    }\n",
       "\n",
       "    .dataframe thead th {\n",
       "        text-align: right;\n",
       "    }\n",
       "</style>\n",
       "<table border=\"1\" class=\"dataframe\">\n",
       "  <thead>\n",
       "    <tr style=\"text-align: right;\">\n",
       "      <th></th>\n",
       "      <th>gear_type_id</th>\n",
       "      <th>gear_type</th>\n",
       "    </tr>\n",
       "  </thead>\n",
       "  <tbody>\n",
       "    <tr>\n",
       "      <th>0</th>\n",
       "      <td>1</td>\n",
       "      <td>bottom trawl</td>\n",
       "    </tr>\n",
       "    <tr>\n",
       "      <th>1</th>\n",
       "      <td>1</td>\n",
       "      <td>bottom trawl</td>\n",
       "    </tr>\n",
       "    <tr>\n",
       "      <th>2</th>\n",
       "      <td>1</td>\n",
       "      <td>bottom trawl</td>\n",
       "    </tr>\n",
       "    <tr>\n",
       "      <th>3</th>\n",
       "      <td>1</td>\n",
       "      <td>bottom trawl</td>\n",
       "    </tr>\n",
       "    <tr>\n",
       "      <th>4</th>\n",
       "      <td>2</td>\n",
       "      <td>pelagic trawl</td>\n",
       "    </tr>\n",
       "  </tbody>\n",
       "</table>\n",
       "</div>"
      ],
      "text/plain": [
       "   gear_type_id      gear_type\n",
       "0             1   bottom trawl\n",
       "1             1   bottom trawl\n",
       "2             1   bottom trawl\n",
       "3             1   bottom trawl\n",
       "4             2  pelagic trawl"
      ]
     },
     "execution_count": 14,
     "metadata": {},
     "output_type": "execute_result"
    }
   ],
   "source": [
    "# data is in a subfolder 'reference_tables' on the S3 bucket\n",
    "# define CloudFront access location format for GEAR TYPE lookup data\n",
    "\n",
    "gear_lookup_key = 'reference_tables/gear.csv'\n",
    "gear_lookup_data_location = '{}/{}'.format(cloudfront, gear_lookup_key)\n",
    "\n",
    "# load the GEAR TYPE lookup data using Pandas\n",
    "gear_lookup = pd.read_csv(gear_lookup_data_location)\n",
    "\n",
    "# rename column gear to gear_type\n",
    "gear_lookup.rename(columns = {\"gear\": \"gear_type\"}, inplace = True)\n",
    "\n",
    "# print the number of records & columns, and also display the sample data\n",
    "print(gear_lookup.shape)\n",
    "gear_lookup.head()\n"
   ]
  },
  {
   "cell_type": "code",
   "execution_count": 15,
   "id": "b118ec7a",
   "metadata": {},
   "outputs": [
    {
     "name": "stdout",
     "output_type": "stream",
     "text": [
      "(8, 2)\n"
     ]
    },
    {
     "data": {
      "text/html": [
       "<div>\n",
       "<style scoped>\n",
       "    .dataframe tbody tr th:only-of-type {\n",
       "        vertical-align: middle;\n",
       "    }\n",
       "\n",
       "    .dataframe tbody tr th {\n",
       "        vertical-align: top;\n",
       "    }\n",
       "\n",
       "    .dataframe thead th {\n",
       "        text-align: right;\n",
       "    }\n",
       "</style>\n",
       "<table border=\"1\" class=\"dataframe\">\n",
       "  <thead>\n",
       "    <tr style=\"text-align: right;\">\n",
       "      <th></th>\n",
       "      <th>gear_type_id</th>\n",
       "      <th>gear_type</th>\n",
       "    </tr>\n",
       "  </thead>\n",
       "  <tbody>\n",
       "    <tr>\n",
       "      <th>0</th>\n",
       "      <td>1</td>\n",
       "      <td>bottom trawl</td>\n",
       "    </tr>\n",
       "    <tr>\n",
       "      <th>4</th>\n",
       "      <td>2</td>\n",
       "      <td>pelagic trawl</td>\n",
       "    </tr>\n",
       "    <tr>\n",
       "      <th>5</th>\n",
       "      <td>3</td>\n",
       "      <td>longline</td>\n",
       "    </tr>\n",
       "    <tr>\n",
       "      <th>9</th>\n",
       "      <td>4</td>\n",
       "      <td>purse seine</td>\n",
       "    </tr>\n",
       "    <tr>\n",
       "      <th>12</th>\n",
       "      <td>5</td>\n",
       "      <td>gillnets</td>\n",
       "    </tr>\n",
       "  </tbody>\n",
       "</table>\n",
       "</div>"
      ],
      "text/plain": [
       "    gear_type_id      gear_type\n",
       "0              1   bottom trawl\n",
       "4              2  pelagic trawl\n",
       "5              3       longline\n",
       "9              4    purse seine\n",
       "12             5       gillnets"
      ]
     },
     "execution_count": 15,
     "metadata": {},
     "output_type": "execute_result"
    }
   ],
   "source": [
    "# remove duplicate rows from the gear type reference table\n",
    "\n",
    "gear_lookup.drop_duplicates(inplace = True)\n",
    "\n",
    "# print the number of records & columns, and also display the sample data\n",
    "print(gear_lookup.shape)\n",
    "gear_lookup.head()\n"
   ]
  },
  {
   "cell_type": "markdown",
   "id": "c2df486f",
   "metadata": {},
   "source": [
    "__END USE TYPE lookup by ID__"
   ]
  },
  {
   "cell_type": "code",
   "execution_count": 16,
   "id": "90039b55",
   "metadata": {},
   "outputs": [
    {
     "name": "stdout",
     "output_type": "stream",
     "text": [
      "(4, 2)\n"
     ]
    },
    {
     "data": {
      "text/html": [
       "<div>\n",
       "<style scoped>\n",
       "    .dataframe tbody tr th:only-of-type {\n",
       "        vertical-align: middle;\n",
       "    }\n",
       "\n",
       "    .dataframe tbody tr th {\n",
       "        vertical-align: top;\n",
       "    }\n",
       "\n",
       "    .dataframe thead th {\n",
       "        text-align: right;\n",
       "    }\n",
       "</style>\n",
       "<table border=\"1\" class=\"dataframe\">\n",
       "  <thead>\n",
       "    <tr style=\"text-align: right;\">\n",
       "      <th></th>\n",
       "      <th>end_use_type_id</th>\n",
       "      <th>end_use_name</th>\n",
       "    </tr>\n",
       "  </thead>\n",
       "  <tbody>\n",
       "    <tr>\n",
       "      <th>0</th>\n",
       "      <td>1</td>\n",
       "      <td>Direct human consumption</td>\n",
       "    </tr>\n",
       "    <tr>\n",
       "      <th>1</th>\n",
       "      <td>2</td>\n",
       "      <td>Fishmeal and fish oil</td>\n",
       "    </tr>\n",
       "    <tr>\n",
       "      <th>2</th>\n",
       "      <td>3</td>\n",
       "      <td>Other</td>\n",
       "    </tr>\n",
       "    <tr>\n",
       "      <th>3</th>\n",
       "      <td>4</td>\n",
       "      <td>Discards</td>\n",
       "    </tr>\n",
       "  </tbody>\n",
       "</table>\n",
       "</div>"
      ],
      "text/plain": [
       "   end_use_type_id              end_use_name\n",
       "0                1  Direct human consumption\n",
       "1                2     Fishmeal and fish oil\n",
       "2                3                     Other\n",
       "3                4                  Discards"
      ]
     },
     "execution_count": 16,
     "metadata": {},
     "output_type": "execute_result"
    }
   ],
   "source": [
    "# data is in a subfolder 'reference_tables' on the S3 bucket\n",
    "# define CloudFront access location format for END USE TYPE lookup data\n",
    "\n",
    "end_use_lookup_key = 'reference_tables/end_use_type.csv'\n",
    "end_use_lookup_data_location = '{}/{}'.format(cloudfront, end_use_lookup_key)\n",
    "\n",
    "# load the END USE TYPE lookup data using Pandas\n",
    "end_use_lookup = pd.read_csv(end_use_lookup_data_location)\n",
    "\n",
    "# print the number of records & columns, and also display the sample data\n",
    "print(end_use_lookup.shape)\n",
    "end_use_lookup.head()\n"
   ]
  },
  {
   "cell_type": "markdown",
   "id": "f042bcf2",
   "metadata": {},
   "source": [
    "__REPORTING STATUS lookup by ID__"
   ]
  },
  {
   "cell_type": "code",
   "execution_count": 17,
   "id": "b7ef572e",
   "metadata": {},
   "outputs": [
    {
     "name": "stdout",
     "output_type": "stream",
     "text": [
      "(2, 3)\n"
     ]
    },
    {
     "data": {
      "text/html": [
       "<div>\n",
       "<style scoped>\n",
       "    .dataframe tbody tr th:only-of-type {\n",
       "        vertical-align: middle;\n",
       "    }\n",
       "\n",
       "    .dataframe tbody tr th {\n",
       "        vertical-align: top;\n",
       "    }\n",
       "\n",
       "    .dataframe thead th {\n",
       "        text-align: right;\n",
       "    }\n",
       "</style>\n",
       "<table border=\"1\" class=\"dataframe\">\n",
       "  <thead>\n",
       "    <tr style=\"text-align: right;\">\n",
       "      <th></th>\n",
       "      <th>reporting_status_id</th>\n",
       "      <th>name</th>\n",
       "      <th>abbreviation</th>\n",
       "    </tr>\n",
       "  </thead>\n",
       "  <tbody>\n",
       "    <tr>\n",
       "      <th>0</th>\n",
       "      <td>1</td>\n",
       "      <td>Reported</td>\n",
       "      <td>R</td>\n",
       "    </tr>\n",
       "    <tr>\n",
       "      <th>1</th>\n",
       "      <td>2</td>\n",
       "      <td>Unreported</td>\n",
       "      <td>U</td>\n",
       "    </tr>\n",
       "  </tbody>\n",
       "</table>\n",
       "</div>"
      ],
      "text/plain": [
       "   reporting_status_id        name abbreviation\n",
       "0                    1    Reported            R\n",
       "1                    2  Unreported            U"
      ]
     },
     "execution_count": 17,
     "metadata": {},
     "output_type": "execute_result"
    }
   ],
   "source": [
    "# data is in a subfolder 'reference_tables' on the S3 bucket\n",
    "# define CloudFront access location format for REPORTING STATUS lookup data\n",
    "\n",
    "reporting_status_lookup_key = 'reference_tables/reporting_status.csv'\n",
    "reporting_status_lookup_data_location = '{}/{}'.format(cloudfront, reporting_status_lookup_key)\n",
    "\n",
    "# load the REPORTING STATUS lookup data using Pandas\n",
    "reporting_status_lookup = pd.read_csv(reporting_status_lookup_data_location)\n",
    "\n",
    "# print the number of records & columns, and also display the sample data\n",
    "print(reporting_status_lookup.shape)\n",
    "reporting_status_lookup.head()\n"
   ]
  },
  {
   "cell_type": "markdown",
   "id": "d8d74601",
   "metadata": {},
   "source": [
    "__TAXON NAMES lookup by ID__"
   ]
  },
  {
   "cell_type": "code",
   "execution_count": 18,
   "id": "6b93ccf1",
   "metadata": {},
   "outputs": [
    {
     "name": "stdout",
     "output_type": "stream",
     "text": [
      "(3261, 6)\n"
     ]
    },
    {
     "data": {
      "text/html": [
       "<div>\n",
       "<style scoped>\n",
       "    .dataframe tbody tr th:only-of-type {\n",
       "        vertical-align: middle;\n",
       "    }\n",
       "\n",
       "    .dataframe tbody tr th {\n",
       "        vertical-align: top;\n",
       "    }\n",
       "\n",
       "    .dataframe thead th {\n",
       "        text-align: right;\n",
       "    }\n",
       "</style>\n",
       "<table border=\"1\" class=\"dataframe\">\n",
       "  <thead>\n",
       "    <tr style=\"text-align: right;\">\n",
       "      <th></th>\n",
       "      <th>taxon_key</th>\n",
       "      <th>scientific_name</th>\n",
       "      <th>common_name</th>\n",
       "      <th>species</th>\n",
       "      <th>genus</th>\n",
       "      <th>family</th>\n",
       "    </tr>\n",
       "  </thead>\n",
       "  <tbody>\n",
       "    <tr>\n",
       "      <th>0</th>\n",
       "      <td>601456</td>\n",
       "      <td>Etrumeus whiteheadi</td>\n",
       "      <td>Whitehead's round herring</td>\n",
       "      <td>whiteheadi</td>\n",
       "      <td>Etrumeus</td>\n",
       "      <td>Dussumieriidae</td>\n",
       "    </tr>\n",
       "    <tr>\n",
       "      <th>1</th>\n",
       "      <td>605123</td>\n",
       "      <td>Exocoetus monocirrhus</td>\n",
       "      <td>Barbel flyingfish</td>\n",
       "      <td>monocirrhus</td>\n",
       "      <td>Exocoetus</td>\n",
       "      <td>Exocoetidae</td>\n",
       "    </tr>\n",
       "    <tr>\n",
       "      <th>2</th>\n",
       "      <td>200538</td>\n",
       "      <td>Chondrichthyes</td>\n",
       "      <td>Sharks, rays, chimaeras</td>\n",
       "      <td>NaN</td>\n",
       "      <td>NaN</td>\n",
       "      <td>NaN</td>\n",
       "    </tr>\n",
       "    <tr>\n",
       "      <th>3</th>\n",
       "      <td>400313</td>\n",
       "      <td>Echeneidae</td>\n",
       "      <td>Remoras</td>\n",
       "      <td>NaN</td>\n",
       "      <td>NaN</td>\n",
       "      <td>Echeneidae</td>\n",
       "    </tr>\n",
       "    <tr>\n",
       "      <th>4</th>\n",
       "      <td>400176</td>\n",
       "      <td>Percopsidae</td>\n",
       "      <td>Trout-perches</td>\n",
       "      <td>NaN</td>\n",
       "      <td>NaN</td>\n",
       "      <td>Percopsidae</td>\n",
       "    </tr>\n",
       "  </tbody>\n",
       "</table>\n",
       "</div>"
      ],
      "text/plain": [
       "   taxon_key        scientific_name                common_name      species  \\\n",
       "0     601456    Etrumeus whiteheadi  Whitehead's round herring   whiteheadi   \n",
       "1     605123  Exocoetus monocirrhus          Barbel flyingfish  monocirrhus   \n",
       "2     200538         Chondrichthyes    Sharks, rays, chimaeras          NaN   \n",
       "3     400313             Echeneidae                    Remoras          NaN   \n",
       "4     400176            Percopsidae              Trout-perches          NaN   \n",
       "\n",
       "       genus          family  \n",
       "0   Etrumeus  Dussumieriidae  \n",
       "1  Exocoetus     Exocoetidae  \n",
       "2        NaN             NaN  \n",
       "3        NaN      Echeneidae  \n",
       "4        NaN     Percopsidae  "
      ]
     },
     "execution_count": 18,
     "metadata": {},
     "output_type": "execute_result"
    }
   ],
   "source": [
    "# data is in a subfolder 'reference_tables' on the S3 bucket\n",
    "# define CloudFront access location format for TAXON NAMES lookup data\n",
    "\n",
    "taxon_lookup_key = 'reference_tables/taxon.csv'\n",
    "taxon_lookup_data_location = '{}/{}'.format(cloudfront, taxon_lookup_key)\n",
    "\n",
    "# load the TAXON NAMES lookup data using Pandas\n",
    "taxon_lookup = pd.read_csv(taxon_lookup_data_location)\n",
    "\n",
    "# print the number of records & columns, and also display the sample data\n",
    "print(taxon_lookup.shape)\n",
    "taxon_lookup.head()\n"
   ]
  },
  {
   "cell_type": "markdown",
   "id": "62957397",
   "metadata": {},
   "source": [
    "### Merge IDs in EEZ data with NAMES from Reference tables"
   ]
  },
  {
   "cell_type": "code",
   "execution_count": 19,
   "id": "91ef5d2d",
   "metadata": {},
   "outputs": [
    {
     "data": {
      "text/html": [
       "<div>\n",
       "<style scoped>\n",
       "    .dataframe tbody tr th:only-of-type {\n",
       "        vertical-align: middle;\n",
       "    }\n",
       "\n",
       "    .dataframe tbody tr th {\n",
       "        vertical-align: top;\n",
       "    }\n",
       "\n",
       "    .dataframe thead th {\n",
       "        text-align: right;\n",
       "    }\n",
       "</style>\n",
       "<table border=\"1\" class=\"dataframe\">\n",
       "  <thead>\n",
       "    <tr style=\"text-align: right;\">\n",
       "      <th></th>\n",
       "      <th>fishing_entity_id</th>\n",
       "      <th>cell_id</th>\n",
       "      <th>lon</th>\n",
       "      <th>lat</th>\n",
       "      <th>eez_id</th>\n",
       "      <th>taxon_key</th>\n",
       "      <th>reporting_status_id</th>\n",
       "      <th>sector_type_id</th>\n",
       "      <th>catch_type_id</th>\n",
       "      <th>gear_type_id</th>\n",
       "      <th>year</th>\n",
       "      <th>catch_sum</th>\n",
       "    </tr>\n",
       "  </thead>\n",
       "  <tbody>\n",
       "    <tr>\n",
       "      <th>0</th>\n",
       "      <td>26</td>\n",
       "      <td>16770</td>\n",
       "      <td>-75.25</td>\n",
       "      <td>78.25</td>\n",
       "      <td>924</td>\n",
       "      <td>100039</td>\n",
       "      <td>1</td>\n",
       "      <td>1</td>\n",
       "      <td>1</td>\n",
       "      <td>1</td>\n",
       "      <td>2006</td>\n",
       "      <td>0.904239</td>\n",
       "    </tr>\n",
       "    <tr>\n",
       "      <th>1</th>\n",
       "      <td>26</td>\n",
       "      <td>16770</td>\n",
       "      <td>-75.25</td>\n",
       "      <td>78.25</td>\n",
       "      <td>924</td>\n",
       "      <td>100039</td>\n",
       "      <td>1</td>\n",
       "      <td>1</td>\n",
       "      <td>1</td>\n",
       "      <td>1</td>\n",
       "      <td>2007</td>\n",
       "      <td>0.956645</td>\n",
       "    </tr>\n",
       "    <tr>\n",
       "      <th>2</th>\n",
       "      <td>26</td>\n",
       "      <td>16770</td>\n",
       "      <td>-75.25</td>\n",
       "      <td>78.25</td>\n",
       "      <td>924</td>\n",
       "      <td>100039</td>\n",
       "      <td>1</td>\n",
       "      <td>1</td>\n",
       "      <td>1</td>\n",
       "      <td>1</td>\n",
       "      <td>2008</td>\n",
       "      <td>0.835748</td>\n",
       "    </tr>\n",
       "  </tbody>\n",
       "</table>\n",
       "</div>"
      ],
      "text/plain": [
       "   fishing_entity_id  cell_id    lon    lat  eez_id  taxon_key  \\\n",
       "0                 26    16770 -75.25  78.25     924     100039   \n",
       "1                 26    16770 -75.25  78.25     924     100039   \n",
       "2                 26    16770 -75.25  78.25     924     100039   \n",
       "\n",
       "   reporting_status_id  sector_type_id  catch_type_id  gear_type_id  year  \\\n",
       "0                    1               1              1             1  2006   \n",
       "1                    1               1              1             1  2007   \n",
       "2                    1               1              1             1  2008   \n",
       "\n",
       "   catch_sum  \n",
       "0   0.904239  \n",
       "1   0.956645  \n",
       "2   0.835748  "
      ]
     },
     "execution_count": 19,
     "metadata": {},
     "output_type": "execute_result"
    }
   ],
   "source": [
    "# display sample data from EEZ **before** Merging\n",
    "\n",
    "df_eez.head(3)\n"
   ]
  },
  {
   "cell_type": "code",
   "execution_count": 20,
   "id": "83974fe5",
   "metadata": {},
   "outputs": [
    {
     "data": {
      "text/html": [
       "<div>\n",
       "<style scoped>\n",
       "    .dataframe tbody tr th:only-of-type {\n",
       "        vertical-align: middle;\n",
       "    }\n",
       "\n",
       "    .dataframe tbody tr th {\n",
       "        vertical-align: top;\n",
       "    }\n",
       "\n",
       "    .dataframe thead th {\n",
       "        text-align: right;\n",
       "    }\n",
       "</style>\n",
       "<table border=\"1\" class=\"dataframe\">\n",
       "  <thead>\n",
       "    <tr style=\"text-align: right;\">\n",
       "      <th></th>\n",
       "      <th>cell_id</th>\n",
       "      <th>lon</th>\n",
       "      <th>lat</th>\n",
       "      <th>eez_id</th>\n",
       "      <th>taxon_key</th>\n",
       "      <th>year</th>\n",
       "      <th>catch_sum</th>\n",
       "      <th>sector_type</th>\n",
       "      <th>catch_type</th>\n",
       "      <th>gear_type</th>\n",
       "      <th>eez</th>\n",
       "    </tr>\n",
       "  </thead>\n",
       "  <tbody>\n",
       "    <tr>\n",
       "      <th>0</th>\n",
       "      <td>16770</td>\n",
       "      <td>-75.25</td>\n",
       "      <td>78.25</td>\n",
       "      <td>924</td>\n",
       "      <td>100039</td>\n",
       "      <td>2006</td>\n",
       "      <td>0.904239</td>\n",
       "      <td>Industrial</td>\n",
       "      <td>Landings</td>\n",
       "      <td>bottom trawl</td>\n",
       "      <td>Canada (Arctic)</td>\n",
       "    </tr>\n",
       "    <tr>\n",
       "      <th>1</th>\n",
       "      <td>16770</td>\n",
       "      <td>-75.25</td>\n",
       "      <td>78.25</td>\n",
       "      <td>924</td>\n",
       "      <td>100039</td>\n",
       "      <td>2007</td>\n",
       "      <td>0.956645</td>\n",
       "      <td>Industrial</td>\n",
       "      <td>Landings</td>\n",
       "      <td>bottom trawl</td>\n",
       "      <td>Canada (Arctic)</td>\n",
       "    </tr>\n",
       "    <tr>\n",
       "      <th>2</th>\n",
       "      <td>16770</td>\n",
       "      <td>-75.25</td>\n",
       "      <td>78.25</td>\n",
       "      <td>924</td>\n",
       "      <td>100039</td>\n",
       "      <td>2008</td>\n",
       "      <td>0.835748</td>\n",
       "      <td>Industrial</td>\n",
       "      <td>Landings</td>\n",
       "      <td>bottom trawl</td>\n",
       "      <td>Canada (Arctic)</td>\n",
       "    </tr>\n",
       "  </tbody>\n",
       "</table>\n",
       "</div>"
      ],
      "text/plain": [
       "   cell_id    lon    lat  eez_id  taxon_key  year  catch_sum sector_type  \\\n",
       "0    16770 -75.25  78.25     924     100039  2006   0.904239  Industrial   \n",
       "1    16770 -75.25  78.25     924     100039  2007   0.956645  Industrial   \n",
       "2    16770 -75.25  78.25     924     100039  2008   0.835748  Industrial   \n",
       "\n",
       "  catch_type     gear_type              eez  \n",
       "0   Landings  bottom trawl  Canada (Arctic)  \n",
       "1   Landings  bottom trawl  Canada (Arctic)  \n",
       "2   Landings  bottom trawl  Canada (Arctic)  "
      ]
     },
     "execution_count": 20,
     "metadata": {},
     "output_type": "execute_result"
    }
   ],
   "source": [
    "# Merge EEZ, Sector type, Catch type, Gear type names from reference tables based on their respective IDs\n",
    "\n",
    "df_eez = pd.merge(df_eez, sector_lookup, on = 'sector_type_id', how = 'inner')\n",
    "df_eez = pd.merge(df_eez, catch_lookup, on = 'catch_type_id', how = 'inner')\n",
    "df_eez = pd.merge(df_eez, gear_lookup, on = 'gear_type_id', how = 'inner')\n",
    "df_eez = pd.merge(df_eez, eez_lookup, on = 'eez_id', how = 'inner')\n",
    "\n",
    "# Drop columns that are not necessary for maps (after merging)\n",
    "df_eez.drop(['fishing_entity_id', \n",
    "             'reporting_status_id', \n",
    "             'sector_type_id', \n",
    "             'catch_type_id',\n",
    "             'gear_type_id',\n",
    "             'abbreviation'            \n",
    "            ], axis = 1, inplace = True)\n",
    "\n",
    "# display sample data from EEZ **after** Merging\n",
    "df_eez.head(3)\n"
   ]
  },
  {
   "cell_type": "markdown",
   "id": "b5dd2e9f",
   "metadata": {},
   "source": [
    "<div class = \"alert alert-block alert-warning\">\n",
    "<b>Real Value:</b> <br>\n",
    "<br>Create Real value metric based on dummy data.\n",
    "<br>Remove this after Real value is added in the original data.<br>\n",
    "</div>"
   ]
  },
  {
   "cell_type": "code",
   "execution_count": 21,
   "id": "c86e8b54",
   "metadata": {},
   "outputs": [
    {
     "data": {
      "text/html": [
       "<div>\n",
       "<style scoped>\n",
       "    .dataframe tbody tr th:only-of-type {\n",
       "        vertical-align: middle;\n",
       "    }\n",
       "\n",
       "    .dataframe tbody tr th {\n",
       "        vertical-align: top;\n",
       "    }\n",
       "\n",
       "    .dataframe thead th {\n",
       "        text-align: right;\n",
       "    }\n",
       "</style>\n",
       "<table border=\"1\" class=\"dataframe\">\n",
       "  <thead>\n",
       "    <tr style=\"text-align: right;\">\n",
       "      <th></th>\n",
       "      <th>cell_id</th>\n",
       "      <th>lon</th>\n",
       "      <th>lat</th>\n",
       "      <th>eez_id</th>\n",
       "      <th>taxon_key</th>\n",
       "      <th>year</th>\n",
       "      <th>catch_sum</th>\n",
       "      <th>sector_type</th>\n",
       "      <th>catch_type</th>\n",
       "      <th>gear_type</th>\n",
       "      <th>eez</th>\n",
       "      <th>real_value</th>\n",
       "    </tr>\n",
       "  </thead>\n",
       "  <tbody>\n",
       "    <tr>\n",
       "      <th>0</th>\n",
       "      <td>16770</td>\n",
       "      <td>-75.25</td>\n",
       "      <td>78.25</td>\n",
       "      <td>924</td>\n",
       "      <td>100039</td>\n",
       "      <td>2006</td>\n",
       "      <td>0.904239</td>\n",
       "      <td>Industrial</td>\n",
       "      <td>Landings</td>\n",
       "      <td>bottom trawl</td>\n",
       "      <td>Canada (Arctic)</td>\n",
       "      <td>562.436861</td>\n",
       "    </tr>\n",
       "    <tr>\n",
       "      <th>1</th>\n",
       "      <td>16770</td>\n",
       "      <td>-75.25</td>\n",
       "      <td>78.25</td>\n",
       "      <td>924</td>\n",
       "      <td>100039</td>\n",
       "      <td>2007</td>\n",
       "      <td>0.956645</td>\n",
       "      <td>Industrial</td>\n",
       "      <td>Landings</td>\n",
       "      <td>bottom trawl</td>\n",
       "      <td>Canada (Arctic)</td>\n",
       "      <td>595.033293</td>\n",
       "    </tr>\n",
       "    <tr>\n",
       "      <th>2</th>\n",
       "      <td>16770</td>\n",
       "      <td>-75.25</td>\n",
       "      <td>78.25</td>\n",
       "      <td>924</td>\n",
       "      <td>100039</td>\n",
       "      <td>2008</td>\n",
       "      <td>0.835748</td>\n",
       "      <td>Industrial</td>\n",
       "      <td>Landings</td>\n",
       "      <td>bottom trawl</td>\n",
       "      <td>Canada (Arctic)</td>\n",
       "      <td>519.835040</td>\n",
       "    </tr>\n",
       "  </tbody>\n",
       "</table>\n",
       "</div>"
      ],
      "text/plain": [
       "   cell_id    lon    lat  eez_id  taxon_key  year  catch_sum sector_type  \\\n",
       "0    16770 -75.25  78.25     924     100039  2006   0.904239  Industrial   \n",
       "1    16770 -75.25  78.25     924     100039  2007   0.956645  Industrial   \n",
       "2    16770 -75.25  78.25     924     100039  2008   0.835748  Industrial   \n",
       "\n",
       "  catch_type     gear_type              eez  real_value  \n",
       "0   Landings  bottom trawl  Canada (Arctic)  562.436861  \n",
       "1   Landings  bottom trawl  Canada (Arctic)  595.033293  \n",
       "2   Landings  bottom trawl  Canada (Arctic)  519.835040  "
      ]
     },
     "execution_count": 21,
     "metadata": {},
     "output_type": "execute_result"
    }
   ],
   "source": [
    "df_eez['real_value'] = df_eez['catch_sum'] * randint(500, 1000)\n",
    "\n",
    "df_eez.head(3)\n"
   ]
  },
  {
   "cell_type": "code",
   "execution_count": 22,
   "id": "540c0435",
   "metadata": {},
   "outputs": [
    {
     "name": "stdout",
     "output_type": "stream",
     "text": [
      "<class 'pandas.core.frame.DataFrame'>\n",
      "Int64Index: 11222726 entries, 0 to 11222725\n",
      "Data columns (total 12 columns):\n",
      " #   Column       Dtype  \n",
      "---  ------       -----  \n",
      " 0   cell_id      int64  \n",
      " 1   lon          float64\n",
      " 2   lat          float64\n",
      " 3   eez_id       int64  \n",
      " 4   taxon_key    int64  \n",
      " 5   year         int64  \n",
      " 6   catch_sum    float64\n",
      " 7   sector_type  object \n",
      " 8   catch_type   object \n",
      " 9   gear_type    object \n",
      " 10  eez          object \n",
      " 11  real_value   float64\n",
      "dtypes: float64(4), int64(4), object(4)\n",
      "memory usage: 1.1+ GB\n"
     ]
    }
   ],
   "source": [
    "# display info of the data: Number of records, Names & data types of columns.\n",
    "\n",
    "df_eez.info()\n"
   ]
  },
  {
   "cell_type": "code",
   "execution_count": null,
   "id": "16ad29ea",
   "metadata": {},
   "outputs": [],
   "source": []
  },
  {
   "cell_type": "markdown",
   "id": "f16a8a46",
   "metadata": {},
   "source": [
    "### Data Analysis (to be updated)"
   ]
  },
  {
   "cell_type": "code",
   "execution_count": null,
   "id": "be39ea3a",
   "metadata": {},
   "outputs": [],
   "source": []
  },
  {
   "cell_type": "code",
   "execution_count": null,
   "id": "38579eaa",
   "metadata": {},
   "outputs": [],
   "source": [
    "# Visualizations to be updated next to maps"
   ]
  },
  {
   "cell_type": "code",
   "execution_count": null,
   "id": "83bf83ef",
   "metadata": {},
   "outputs": [],
   "source": []
  },
  {
   "cell_type": "code",
   "execution_count": null,
   "id": "f556c25f",
   "metadata": {},
   "outputs": [],
   "source": [
    "# selections,\n",
    "# functions\n",
    "# check notepad "
   ]
  },
  {
   "cell_type": "code",
   "execution_count": null,
   "id": "84ffce99",
   "metadata": {},
   "outputs": [],
   "source": []
  },
  {
   "cell_type": "markdown",
   "id": "70235beb",
   "metadata": {},
   "source": [
    "### Shape files for Cells"
   ]
  },
  {
   "cell_type": "code",
   "execution_count": 23,
   "id": "0eb39567",
   "metadata": {},
   "outputs": [
    {
     "name": "stdout",
     "output_type": "stream",
     "text": [
      "(153533, 6)\n"
     ]
    },
    {
     "data": {
      "text/html": [
       "<div>\n",
       "<style scoped>\n",
       "    .dataframe tbody tr th:only-of-type {\n",
       "        vertical-align: middle;\n",
       "    }\n",
       "\n",
       "    .dataframe tbody tr th {\n",
       "        vertical-align: top;\n",
       "    }\n",
       "\n",
       "    .dataframe thead th {\n",
       "        text-align: right;\n",
       "    }\n",
       "</style>\n",
       "<table border=\"1\" class=\"dataframe\">\n",
       "  <thead>\n",
       "    <tr style=\"text-align: right;\">\n",
       "      <th></th>\n",
       "      <th>ID</th>\n",
       "      <th>CENTROID</th>\n",
       "      <th>WATER_AREA</th>\n",
       "      <th>SEQ</th>\n",
       "      <th>NEW_SEQ</th>\n",
       "      <th>geometry</th>\n",
       "    </tr>\n",
       "  </thead>\n",
       "  <tbody>\n",
       "    <tr>\n",
       "      <th>0</th>\n",
       "      <td>1</td>\n",
       "      <td>47.75,-36.25</td>\n",
       "      <td>2493.295817</td>\n",
       "      <td>181896.0</td>\n",
       "      <td>164053.0</td>\n",
       "      <td>POLYGON ((47.50000 -36.00000, 48.00000 -36.000...</td>\n",
       "    </tr>\n",
       "    <tr>\n",
       "      <th>1</th>\n",
       "      <td>2</td>\n",
       "      <td>47.75,-34.25</td>\n",
       "      <td>2554.452574</td>\n",
       "      <td>179016.0</td>\n",
       "      <td>164049.0</td>\n",
       "      <td>POLYGON ((47.50000 -34.00000, 48.00000 -34.000...</td>\n",
       "    </tr>\n",
       "    <tr>\n",
       "      <th>2</th>\n",
       "      <td>3</td>\n",
       "      <td>47.75,-39.75</td>\n",
       "      <td>2378.926818</td>\n",
       "      <td>186936.0</td>\n",
       "      <td>164060.0</td>\n",
       "      <td>POLYGON ((47.50000 -39.50000, 48.00000 -39.500...</td>\n",
       "    </tr>\n",
       "  </tbody>\n",
       "</table>\n",
       "</div>"
      ],
      "text/plain": [
       "   ID      CENTROID   WATER_AREA       SEQ   NEW_SEQ  \\\n",
       "0   1  47.75,-36.25  2493.295817  181896.0  164053.0   \n",
       "1   2  47.75,-34.25  2554.452574  179016.0  164049.0   \n",
       "2   3  47.75,-39.75  2378.926818  186936.0  164060.0   \n",
       "\n",
       "                                            geometry  \n",
       "0  POLYGON ((47.50000 -36.00000, 48.00000 -36.000...  \n",
       "1  POLYGON ((47.50000 -34.00000, 48.00000 -34.000...  \n",
       "2  POLYGON ((47.50000 -39.50000, 48.00000 -39.500...  "
      ]
     },
     "execution_count": 23,
     "metadata": {},
     "output_type": "execute_result"
    }
   ],
   "source": [
    "# data is in a subfolder 'maps_shape_files' on the S3 bucket\n",
    "# define CloudFront access location format for Cell shape files data\n",
    "\n",
    "cell_shape_data_key = 'maps_shape_files/fixed_geom_world_ocean_cells.zip'\n",
    "cell_shape_data_location = '{}/{}'.format(cloudfront, cell_shape_data_key)\n",
    "\n",
    "# load the Cell shape files data using GeoPandas\n",
    "# this returns a GeoDataFrame \n",
    "cell_gdf = geopandas.read_file(cell_shape_data_location)\n",
    "\n",
    "# print the number of records & columns, and also display the sample data\n",
    "print(cell_gdf.shape)\n",
    "cell_gdf.head(3)\n"
   ]
  },
  {
   "cell_type": "code",
   "execution_count": 24,
   "id": "ac6f6a7e",
   "metadata": {},
   "outputs": [
    {
     "name": "stdout",
     "output_type": "stream",
     "text": [
      "(153533, 2)\n"
     ]
    },
    {
     "data": {
      "text/html": [
       "<div>\n",
       "<style scoped>\n",
       "    .dataframe tbody tr th:only-of-type {\n",
       "        vertical-align: middle;\n",
       "    }\n",
       "\n",
       "    .dataframe tbody tr th {\n",
       "        vertical-align: top;\n",
       "    }\n",
       "\n",
       "    .dataframe thead th {\n",
       "        text-align: right;\n",
       "    }\n",
       "</style>\n",
       "<table border=\"1\" class=\"dataframe\">\n",
       "  <thead>\n",
       "    <tr style=\"text-align: right;\">\n",
       "      <th></th>\n",
       "      <th>cell_id</th>\n",
       "      <th>geometry</th>\n",
       "    </tr>\n",
       "  </thead>\n",
       "  <tbody>\n",
       "    <tr>\n",
       "      <th>0</th>\n",
       "      <td>181896</td>\n",
       "      <td>POLYGON ((47.50000 -36.00000, 48.00000 -36.000...</td>\n",
       "    </tr>\n",
       "    <tr>\n",
       "      <th>1</th>\n",
       "      <td>179016</td>\n",
       "      <td>POLYGON ((47.50000 -34.00000, 48.00000 -34.000...</td>\n",
       "    </tr>\n",
       "    <tr>\n",
       "      <th>2</th>\n",
       "      <td>186936</td>\n",
       "      <td>POLYGON ((47.50000 -39.50000, 48.00000 -39.500...</td>\n",
       "    </tr>\n",
       "  </tbody>\n",
       "</table>\n",
       "</div>"
      ],
      "text/plain": [
       "   cell_id                                           geometry\n",
       "0   181896  POLYGON ((47.50000 -36.00000, 48.00000 -36.000...\n",
       "1   179016  POLYGON ((47.50000 -34.00000, 48.00000 -34.000...\n",
       "2   186936  POLYGON ((47.50000 -39.50000, 48.00000 -39.500..."
      ]
     },
     "execution_count": 24,
     "metadata": {},
     "output_type": "execute_result"
    }
   ],
   "source": [
    "# drop columns not necessary for maps\n",
    "# update this as needed - in case NEW_SEQ has to be used in future instead of SEQ\n",
    "cell_gdf.drop(['ID', 'WATER_AREA', 'NEW_SEQ', 'CENTROID'], axis = 1, inplace = True)\n",
    "\n",
    "# rename the SEQ column as cell_id and also update the column type to 'int'\n",
    "# update this as needed - in case NEW_SEQ has to be used in future instead of SEQ\n",
    "cell_gdf['SEQ'] = cell_gdf['SEQ'].astype(int)\n",
    "cell_gdf.rename(columns = {\"SEQ\": \"cell_id\"}, inplace = True)\n",
    "\n",
    "# print the number of records & columns, and also display the sample data\n",
    "print(cell_gdf.shape)\n",
    "cell_gdf.head(3)\n"
   ]
  },
  {
   "cell_type": "code",
   "execution_count": null,
   "id": "7dfa1511",
   "metadata": {},
   "outputs": [],
   "source": []
  },
  {
   "cell_type": "markdown",
   "id": "a3db8378",
   "metadata": {},
   "source": [
    "### Shape files for EEZ"
   ]
  },
  {
   "cell_type": "code",
   "execution_count": 25,
   "id": "c69e3122",
   "metadata": {},
   "outputs": [
    {
     "name": "stdout",
     "output_type": "stream",
     "text": [
      "(281, 9)\n"
     ]
    },
    {
     "data": {
      "text/html": [
       "<div>\n",
       "<style scoped>\n",
       "    .dataframe tbody tr th:only-of-type {\n",
       "        vertical-align: middle;\n",
       "    }\n",
       "\n",
       "    .dataframe tbody tr th {\n",
       "        vertical-align: top;\n",
       "    }\n",
       "\n",
       "    .dataframe thead th {\n",
       "        text-align: right;\n",
       "    }\n",
       "</style>\n",
       "<table border=\"1\" class=\"dataframe\">\n",
       "  <thead>\n",
       "    <tr style=\"text-align: right;\">\n",
       "      <th></th>\n",
       "      <th>ID</th>\n",
       "      <th>FID</th>\n",
       "      <th>CAT</th>\n",
       "      <th>EEZ_ID</th>\n",
       "      <th>EEZ_NAME</th>\n",
       "      <th>AREA_KM2</th>\n",
       "      <th>LAYER</th>\n",
       "      <th>PATH</th>\n",
       "      <th>geometry</th>\n",
       "    </tr>\n",
       "  </thead>\n",
       "  <tbody>\n",
       "    <tr>\n",
       "      <th>0</th>\n",
       "      <td>45</td>\n",
       "      <td>141.0</td>\n",
       "      <td>45</td>\n",
       "      <td>174</td>\n",
       "      <td>Comoros Isl.</td>\n",
       "      <td>231636.310536</td>\n",
       "      <td>SAU_EEZ_v9_Mar2018</td>\n",
       "      <td>C:\\Users\\spopov\\Documents\\GIS\\EEZ\\SAU EEZ v9 2...</td>\n",
       "      <td>POLYGON ((45.73564 -14.31894, 45.39066 -14.430...</td>\n",
       "    </tr>\n",
       "    <tr>\n",
       "      <th>1</th>\n",
       "      <td>47</td>\n",
       "      <td>167.0</td>\n",
       "      <td>47</td>\n",
       "      <td>178</td>\n",
       "      <td>Congo, R. of</td>\n",
       "      <td>34012.666059</td>\n",
       "      <td>SAU_EEZ_v9_Mar2018</td>\n",
       "      <td>C:\\Users\\spopov\\Documents\\GIS\\EEZ\\SAU EEZ v9 2...</td>\n",
       "      <td>POLYGON ((9.12111 -6.73441, 8.91135 -6.43164, ...</td>\n",
       "    </tr>\n",
       "    <tr>\n",
       "      <th>2</th>\n",
       "      <td>48</td>\n",
       "      <td>168.0</td>\n",
       "      <td>48</td>\n",
       "      <td>180</td>\n",
       "      <td>Congo (ex-Zaire)</td>\n",
       "      <td>13155.472627</td>\n",
       "      <td>SAU_EEZ_v9_Mar2018</td>\n",
       "      <td>C:\\Users\\spopov\\Documents\\GIS\\EEZ\\SAU EEZ v9 2...</td>\n",
       "      <td>POLYGON ((9.11375 -7.06505, 9.00732 -6.76987, ...</td>\n",
       "    </tr>\n",
       "  </tbody>\n",
       "</table>\n",
       "</div>"
      ],
      "text/plain": [
       "   ID    FID  CAT  EEZ_ID          EEZ_NAME       AREA_KM2  \\\n",
       "0  45  141.0   45     174      Comoros Isl.  231636.310536   \n",
       "1  47  167.0   47     178      Congo, R. of   34012.666059   \n",
       "2  48  168.0   48     180  Congo (ex-Zaire)   13155.472627   \n",
       "\n",
       "                LAYER                                               PATH  \\\n",
       "0  SAU_EEZ_v9_Mar2018  C:\\Users\\spopov\\Documents\\GIS\\EEZ\\SAU EEZ v9 2...   \n",
       "1  SAU_EEZ_v9_Mar2018  C:\\Users\\spopov\\Documents\\GIS\\EEZ\\SAU EEZ v9 2...   \n",
       "2  SAU_EEZ_v9_Mar2018  C:\\Users\\spopov\\Documents\\GIS\\EEZ\\SAU EEZ v9 2...   \n",
       "\n",
       "                                            geometry  \n",
       "0  POLYGON ((45.73564 -14.31894, 45.39066 -14.430...  \n",
       "1  POLYGON ((9.12111 -6.73441, 8.91135 -6.43164, ...  \n",
       "2  POLYGON ((9.11375 -7.06505, 9.00732 -6.76987, ...  "
      ]
     },
     "execution_count": 25,
     "metadata": {},
     "output_type": "execute_result"
    }
   ],
   "source": [
    "# data is in a subfolder 'maps_shape_files' on the S3 bucket\n",
    "# define CloudFront access location format for EEZ shape files data\n",
    "\n",
    "eez_shape_data_key = 'maps_shape_files/fixed_geom_eez.zip'\n",
    "eez_shape_data_location = '{}/{}'.format(cloudfront, eez_shape_data_key)\n",
    "\n",
    "# load the EEZ shape files data using GeoPandas\n",
    "# this returns a GeoDataFrame \n",
    "eez_gdf = geopandas.read_file(eez_shape_data_location)\n",
    "\n",
    "# print the number of records & columns, and also display the sample data\n",
    "print(eez_gdf.shape)\n",
    "eez_gdf.head(3)\n"
   ]
  },
  {
   "cell_type": "code",
   "execution_count": 26,
   "id": "ae382526",
   "metadata": {},
   "outputs": [
    {
     "name": "stdout",
     "output_type": "stream",
     "text": [
      "(281, 3)\n"
     ]
    },
    {
     "data": {
      "text/html": [
       "<div>\n",
       "<style scoped>\n",
       "    .dataframe tbody tr th:only-of-type {\n",
       "        vertical-align: middle;\n",
       "    }\n",
       "\n",
       "    .dataframe tbody tr th {\n",
       "        vertical-align: top;\n",
       "    }\n",
       "\n",
       "    .dataframe thead th {\n",
       "        text-align: right;\n",
       "    }\n",
       "</style>\n",
       "<table border=\"1\" class=\"dataframe\">\n",
       "  <thead>\n",
       "    <tr style=\"text-align: right;\">\n",
       "      <th></th>\n",
       "      <th>eez_id</th>\n",
       "      <th>eez</th>\n",
       "      <th>geometry</th>\n",
       "    </tr>\n",
       "  </thead>\n",
       "  <tbody>\n",
       "    <tr>\n",
       "      <th>0</th>\n",
       "      <td>174</td>\n",
       "      <td>Comoros Isl.</td>\n",
       "      <td>POLYGON ((45.73564 -14.31894, 45.39066 -14.430...</td>\n",
       "    </tr>\n",
       "    <tr>\n",
       "      <th>1</th>\n",
       "      <td>178</td>\n",
       "      <td>Congo, R. of</td>\n",
       "      <td>POLYGON ((9.12111 -6.73441, 8.91135 -6.43164, ...</td>\n",
       "    </tr>\n",
       "    <tr>\n",
       "      <th>2</th>\n",
       "      <td>180</td>\n",
       "      <td>Congo (ex-Zaire)</td>\n",
       "      <td>POLYGON ((9.11375 -7.06505, 9.00732 -6.76987, ...</td>\n",
       "    </tr>\n",
       "  </tbody>\n",
       "</table>\n",
       "</div>"
      ],
      "text/plain": [
       "   eez_id               eez                                           geometry\n",
       "0     174      Comoros Isl.  POLYGON ((45.73564 -14.31894, 45.39066 -14.430...\n",
       "1     178      Congo, R. of  POLYGON ((9.12111 -6.73441, 8.91135 -6.43164, ...\n",
       "2     180  Congo (ex-Zaire)  POLYGON ((9.11375 -7.06505, 9.00732 -6.76987, ..."
      ]
     },
     "execution_count": 26,
     "metadata": {},
     "output_type": "execute_result"
    }
   ],
   "source": [
    "# drop columns not necessary for maps\n",
    "# update this as needed\n",
    "\n",
    "eez_gdf.drop(['ID', 'FID', 'CAT', 'AREA_KM2', 'LAYER', 'PATH'], axis = 1, inplace = True)\n",
    "\n",
    "# rename the EEZ columns to merge with spatial catch data \n",
    "# update this as needed\n",
    "eez_gdf.rename(columns = {\"EEZ_NAME\": \"eez\"}, inplace = True)\n",
    "eez_gdf.rename(columns = {\"EEZ_ID\": \"eez_id\"}, inplace = True)\n",
    "\n",
    "# print the number of records & columns, and also display the sample data\n",
    "print(eez_gdf.shape)\n",
    "eez_gdf.head(3)\n"
   ]
  },
  {
   "cell_type": "code",
   "execution_count": null,
   "id": "61be4cb2",
   "metadata": {},
   "outputs": [],
   "source": []
  },
  {
   "cell_type": "markdown",
   "id": "c7cbbda9",
   "metadata": {},
   "source": [
    "<div class = \"alert alert-block alert-danger\">\n",
    "<b>Data for Widgets:</b> <br>\n",
    "<br>This section can be updated only if necessary, with caution.<br>\n",
    "</div>"
   ]
  },
  {
   "cell_type": "code",
   "execution_count": 28,
   "id": "23e21e19",
   "metadata": {},
   "outputs": [
    {
     "data": {
      "text/plain": [
       "[1950, 1951, 1952, 1953, 1954]"
      ]
     },
     "execution_count": 28,
     "metadata": {},
     "output_type": "execute_result"
    }
   ],
   "source": [
    "### Data for Start Year & End Year widgets\n",
    "\n",
    "# get unique list of years from the dataframe\n",
    "years = sorted(list(df_eez['year'].unique()))\n",
    "\n",
    "# display first few records in the list\n",
    "years[:5]\n"
   ]
  },
  {
   "cell_type": "code",
   "execution_count": 29,
   "id": "a54ffcb8",
   "metadata": {},
   "outputs": [
    {
     "data": {
      "text/plain": [
       "['Artisanal', 'Industrial', 'Recreational', 'Subsistence']"
      ]
     },
     "execution_count": 29,
     "metadata": {},
     "output_type": "execute_result"
    }
   ],
   "source": [
    "### Data for Sector type widgets\n",
    "\n",
    "# get unique list of Sector types from the dataframe\n",
    "sector_types = sorted(list(df_eez['sector_type'].unique()))\n",
    "\n",
    "# display first few records in the list\n",
    "sector_types[:5]\n"
   ]
  },
  {
   "cell_type": "code",
   "execution_count": 30,
   "id": "b6c44515",
   "metadata": {},
   "outputs": [
    {
     "data": {
      "text/plain": [
       "['Discards', 'Landings']"
      ]
     },
     "execution_count": 30,
     "metadata": {},
     "output_type": "execute_result"
    }
   ],
   "source": [
    "### Data for Catch type widgets\n",
    "\n",
    "# get unique list of Catch types from the dataframe\n",
    "catch_types = sorted(list(df_eez['catch_type'].unique()))\n",
    "\n",
    "# display first few records in the list\n",
    "catch_types[:5]\n"
   ]
  },
  {
   "cell_type": "code",
   "execution_count": 31,
   "id": "43195747",
   "metadata": {},
   "outputs": [
    {
     "data": {
      "text/plain": [
       "['bottom trawl', 'gillnets', 'longline', 'other', 'pelagic trawl']"
      ]
     },
     "execution_count": 31,
     "metadata": {},
     "output_type": "execute_result"
    }
   ],
   "source": [
    "### Data for Gear type widgets\n",
    "\n",
    "# get unique list of Gear types from the dataframe\n",
    "gear_types = sorted(list(df_eez['gear_type'].unique()))\n",
    "\n",
    "# display first few records in the list\n",
    "gear_types[:5]\n"
   ]
  },
  {
   "cell_type": "code",
   "execution_count": 32,
   "id": "06caf758",
   "metadata": {},
   "outputs": [
    {
     "data": {
      "text/plain": [
       "[('Abalistes stellaris', 600009),\n",
       " ('Ablennes hians', 600972),\n",
       " ('Abramis brama', 600268),\n",
       " ('Abudefduf', 509206),\n",
       " ('Abudefduf luridus', 611820)]"
      ]
     },
     "execution_count": 32,
     "metadata": {},
     "output_type": "execute_result"
    }
   ],
   "source": [
    "### dictionary with taxon id and their respective names\n",
    "\n",
    "taxon_list = list(set(zip(taxon_lookup['scientific_name'], taxon_lookup['taxon_key'])))\n",
    "taxon_list.sort()\n",
    "\n",
    "# display first few records in the list\n",
    "taxon_list[:5]\n"
   ]
  },
  {
   "cell_type": "code",
   "execution_count": null,
   "id": "da33da20",
   "metadata": {},
   "outputs": [],
   "source": []
  }
 ],
 "metadata": {
  "kernelspec": {
   "display_name": "Python 3",
   "language": "python",
   "name": "python3"
  },
  "language_info": {
   "codemirror_mode": {
    "name": "ipython",
    "version": 3
   },
   "file_extension": ".py",
   "mimetype": "text/x-python",
   "name": "python",
   "nbconvert_exporter": "python",
   "pygments_lexer": "ipython3",
   "version": "3.8.3"
  }
 },
 "nbformat": 4,
 "nbformat_minor": 5
}
