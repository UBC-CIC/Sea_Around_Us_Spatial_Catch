version https://git-lfs.github.com/spec/v1
oid sha256:d85dee2cadf8dba95343bf9aca543cb5f3318731b2ea0ad5d689444a75837cb6
size 58288
