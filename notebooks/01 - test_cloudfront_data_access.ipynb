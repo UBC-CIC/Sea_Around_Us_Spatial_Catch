{
 "cells": [
  {
   "cell_type": "markdown",
   "id": "d41694bd",
   "metadata": {},
   "source": [
    "### Setup"
   ]
  },
  {
   "cell_type": "code",
   "execution_count": 1,
   "id": "48204f7c",
   "metadata": {},
   "outputs": [],
   "source": [
    "# Uncomment and run this cell if Pandas library is not already installed\n",
    "\n",
    "# ! pip install --upgrade pip\n",
    "\n",
    "# ! pip install pandas\n"
   ]
  },
  {
   "cell_type": "markdown",
   "id": "62e66903",
   "metadata": {},
   "source": [
    "### Import Libraries"
   ]
  },
  {
   "cell_type": "code",
   "execution_count": 2,
   "id": "45aa3cd3",
   "metadata": {},
   "outputs": [],
   "source": [
    "import pandas as pd\n"
   ]
  },
  {
   "cell_type": "markdown",
   "id": "825f4681",
   "metadata": {},
   "source": [
    "### CloudFront domain"
   ]
  },
  {
   "cell_type": "code",
   "execution_count": 3,
   "id": "29795b3d",
   "metadata": {},
   "outputs": [
    {
     "data": {
      "text/plain": [
       "'https://d1b4l80qig6dum.cloudfront.net'"
      ]
     },
     "execution_count": 3,
     "metadata": {},
     "output_type": "execute_result"
    }
   ],
   "source": [
    "# define CloudFront domain name (to access S3)\n",
    "\n",
    "cloudfront = 'https://d1b4l80qig6dum.cloudfront.net'\n",
    "cloudfront\n"
   ]
  },
  {
   "cell_type": "markdown",
   "id": "a70d33f4",
   "metadata": {},
   "source": [
    "### Fishing entity selection"
   ]
  },
  {
   "cell_type": "code",
   "execution_count": 4,
   "id": "2ee7bc2b",
   "metadata": {},
   "outputs": [
    {
     "data": {
      "text/plain": [
       "'Canada'"
      ]
     },
     "execution_count": 4,
     "metadata": {},
     "output_type": "execute_result"
    }
   ],
   "source": [
    "# this selection will  be based on the user input in concolidated final notebook\n",
    "\n",
    "fishing_entity_selected = 'Canada'\n",
    "fishing_entity_selected\n"
   ]
  },
  {
   "cell_type": "markdown",
   "id": "f52cbc57",
   "metadata": {},
   "source": [
    "### Load EEZ data from S3 based on the fishing entity selection"
   ]
  },
  {
   "cell_type": "code",
   "execution_count": 5,
   "id": "46dc569b",
   "metadata": {},
   "outputs": [
    {
     "data": {
      "text/plain": [
       "'Canada_fishing_entity_eez_data.csv'"
      ]
     },
     "execution_count": 5,
     "metadata": {},
     "output_type": "execute_result"
    }
   ],
   "source": [
    "# create the EEZ filename to be loaded based on fishing entity selected\n",
    "\n",
    "filename_eez = str(fishing_entity_selected) + '_fishing_entity_eez_data.csv'\n",
    "filename_eez\n"
   ]
  },
  {
   "cell_type": "code",
   "execution_count": 6,
   "id": "552016e5",
   "metadata": {},
   "outputs": [
    {
     "name": "stdout",
     "output_type": "stream",
     "text": [
      "(11222726, 12)\n"
     ]
    },
    {
     "data": {
      "text/html": [
       "<div>\n",
       "<style scoped>\n",
       "    .dataframe tbody tr th:only-of-type {\n",
       "        vertical-align: middle;\n",
       "    }\n",
       "\n",
       "    .dataframe tbody tr th {\n",
       "        vertical-align: top;\n",
       "    }\n",
       "\n",
       "    .dataframe thead th {\n",
       "        text-align: right;\n",
       "    }\n",
       "</style>\n",
       "<table border=\"1\" class=\"dataframe\">\n",
       "  <thead>\n",
       "    <tr style=\"text-align: right;\">\n",
       "      <th></th>\n",
       "      <th>fishing_entity_id</th>\n",
       "      <th>cell_id</th>\n",
       "      <th>lon</th>\n",
       "      <th>lat</th>\n",
       "      <th>eez_id</th>\n",
       "      <th>taxon_key</th>\n",
       "      <th>reporting_status_id</th>\n",
       "      <th>sector_type_id</th>\n",
       "      <th>catch_type_id</th>\n",
       "      <th>gear_type_id</th>\n",
       "      <th>year</th>\n",
       "      <th>catch_sum</th>\n",
       "    </tr>\n",
       "  </thead>\n",
       "  <tbody>\n",
       "    <tr>\n",
       "      <th>0</th>\n",
       "      <td>26</td>\n",
       "      <td>16770</td>\n",
       "      <td>-75.25</td>\n",
       "      <td>78.25</td>\n",
       "      <td>924</td>\n",
       "      <td>100039</td>\n",
       "      <td>1</td>\n",
       "      <td>1</td>\n",
       "      <td>1</td>\n",
       "      <td>1</td>\n",
       "      <td>2006</td>\n",
       "      <td>0.904239</td>\n",
       "    </tr>\n",
       "    <tr>\n",
       "      <th>1</th>\n",
       "      <td>26</td>\n",
       "      <td>16770</td>\n",
       "      <td>-75.25</td>\n",
       "      <td>78.25</td>\n",
       "      <td>924</td>\n",
       "      <td>100039</td>\n",
       "      <td>1</td>\n",
       "      <td>1</td>\n",
       "      <td>1</td>\n",
       "      <td>1</td>\n",
       "      <td>2007</td>\n",
       "      <td>0.956645</td>\n",
       "    </tr>\n",
       "    <tr>\n",
       "      <th>2</th>\n",
       "      <td>26</td>\n",
       "      <td>16770</td>\n",
       "      <td>-75.25</td>\n",
       "      <td>78.25</td>\n",
       "      <td>924</td>\n",
       "      <td>100039</td>\n",
       "      <td>1</td>\n",
       "      <td>1</td>\n",
       "      <td>1</td>\n",
       "      <td>1</td>\n",
       "      <td>2008</td>\n",
       "      <td>0.835748</td>\n",
       "    </tr>\n",
       "  </tbody>\n",
       "</table>\n",
       "</div>"
      ],
      "text/plain": [
       "   fishing_entity_id  cell_id    lon    lat  eez_id  taxon_key  \\\n",
       "0                 26    16770 -75.25  78.25     924     100039   \n",
       "1                 26    16770 -75.25  78.25     924     100039   \n",
       "2                 26    16770 -75.25  78.25     924     100039   \n",
       "\n",
       "   reporting_status_id  sector_type_id  catch_type_id  gear_type_id  year  \\\n",
       "0                    1               1              1             1  2006   \n",
       "1                    1               1              1             1  2007   \n",
       "2                    1               1              1             1  2008   \n",
       "\n",
       "   catch_sum  \n",
       "0   0.904239  \n",
       "1   0.956645  \n",
       "2   0.835748  "
      ]
     },
     "execution_count": 6,
     "metadata": {},
     "output_type": "execute_result"
    }
   ],
   "source": [
    "# data is in a subfolder 'fishing_entity_data' on the S3 bucket\n",
    "# define CloudFront access location format for EEZ data\n",
    "\n",
    "eez_data_key = 'fishing_entity_data/' + filename_eez\n",
    "eez_data_location = '{}/{}'.format(cloudfront, eez_data_key)\n",
    "\n",
    "# load the EEZ data using Pandas\n",
    "df_eez = pd.read_csv(eez_data_location)\n",
    "\n",
    "# print the number of records & columns, and also display the sample EEZ data\n",
    "print(df_eez.shape)\n",
    "df_eez.head(3)\n"
   ]
  },
  {
   "cell_type": "markdown",
   "id": "7705935d",
   "metadata": {},
   "source": [
    "### Load LME data from S3 based on the fishing entity selection"
   ]
  },
  {
   "cell_type": "code",
   "execution_count": 7,
   "id": "8bb8f2cf",
   "metadata": {},
   "outputs": [
    {
     "data": {
      "text/plain": [
       "'Canada_fishing_entity_lme_data.csv'"
      ]
     },
     "execution_count": 7,
     "metadata": {},
     "output_type": "execute_result"
    }
   ],
   "source": [
    "# create the LME filename to be loaded based on fishing entity selected\n",
    "\n",
    "filename_lme = str(fishing_entity_selected) + '_fishing_entity_lme_data.csv'\n",
    "filename_lme\n"
   ]
  },
  {
   "cell_type": "code",
   "execution_count": 8,
   "id": "37e40e81",
   "metadata": {},
   "outputs": [
    {
     "name": "stdout",
     "output_type": "stream",
     "text": [
      "(10398662, 12)\n"
     ]
    },
    {
     "data": {
      "text/html": [
       "<div>\n",
       "<style scoped>\n",
       "    .dataframe tbody tr th:only-of-type {\n",
       "        vertical-align: middle;\n",
       "    }\n",
       "\n",
       "    .dataframe tbody tr th {\n",
       "        vertical-align: top;\n",
       "    }\n",
       "\n",
       "    .dataframe thead th {\n",
       "        text-align: right;\n",
       "    }\n",
       "</style>\n",
       "<table border=\"1\" class=\"dataframe\">\n",
       "  <thead>\n",
       "    <tr style=\"text-align: right;\">\n",
       "      <th></th>\n",
       "      <th>fishing_entity_id</th>\n",
       "      <th>cell_id</th>\n",
       "      <th>lon</th>\n",
       "      <th>lat</th>\n",
       "      <th>lme_id</th>\n",
       "      <th>taxon_key</th>\n",
       "      <th>reporting_status_id</th>\n",
       "      <th>sector_type_id</th>\n",
       "      <th>catch_type_id</th>\n",
       "      <th>gear_type_id</th>\n",
       "      <th>year</th>\n",
       "      <th>catch_sum</th>\n",
       "    </tr>\n",
       "  </thead>\n",
       "  <tbody>\n",
       "    <tr>\n",
       "      <th>0</th>\n",
       "      <td>26</td>\n",
       "      <td>16773</td>\n",
       "      <td>-73.75</td>\n",
       "      <td>78.25</td>\n",
       "      <td>18</td>\n",
       "      <td>100039</td>\n",
       "      <td>1</td>\n",
       "      <td>1</td>\n",
       "      <td>1</td>\n",
       "      <td>1</td>\n",
       "      <td>1994</td>\n",
       "      <td>0.001701</td>\n",
       "    </tr>\n",
       "    <tr>\n",
       "      <th>1</th>\n",
       "      <td>26</td>\n",
       "      <td>16773</td>\n",
       "      <td>-73.75</td>\n",
       "      <td>78.25</td>\n",
       "      <td>18</td>\n",
       "      <td>100039</td>\n",
       "      <td>1</td>\n",
       "      <td>1</td>\n",
       "      <td>1</td>\n",
       "      <td>1</td>\n",
       "      <td>2017</td>\n",
       "      <td>0.007632</td>\n",
       "    </tr>\n",
       "    <tr>\n",
       "      <th>2</th>\n",
       "      <td>26</td>\n",
       "      <td>16773</td>\n",
       "      <td>-73.75</td>\n",
       "      <td>78.25</td>\n",
       "      <td>66</td>\n",
       "      <td>100039</td>\n",
       "      <td>1</td>\n",
       "      <td>1</td>\n",
       "      <td>1</td>\n",
       "      <td>1</td>\n",
       "      <td>1994</td>\n",
       "      <td>0.001701</td>\n",
       "    </tr>\n",
       "  </tbody>\n",
       "</table>\n",
       "</div>"
      ],
      "text/plain": [
       "   fishing_entity_id  cell_id    lon    lat  lme_id  taxon_key  \\\n",
       "0                 26    16773 -73.75  78.25      18     100039   \n",
       "1                 26    16773 -73.75  78.25      18     100039   \n",
       "2                 26    16773 -73.75  78.25      66     100039   \n",
       "\n",
       "   reporting_status_id  sector_type_id  catch_type_id  gear_type_id  year  \\\n",
       "0                    1               1              1             1  1994   \n",
       "1                    1               1              1             1  2017   \n",
       "2                    1               1              1             1  1994   \n",
       "\n",
       "   catch_sum  \n",
       "0   0.001701  \n",
       "1   0.007632  \n",
       "2   0.001701  "
      ]
     },
     "execution_count": 8,
     "metadata": {},
     "output_type": "execute_result"
    }
   ],
   "source": [
    "# data is in a subfolder 'fishing_entity_data' on the S3 bucket\n",
    "# define CloudFront access location format for LME data\n",
    "\n",
    "lme_data_key = 'fishing_entity_data/' + filename_lme\n",
    "lme_data_location = '{}/{}'.format(cloudfront, lme_data_key)\n",
    "\n",
    "# load the LME data using Pandas\n",
    "df_lme = pd.read_csv(lme_data_location)\n",
    "\n",
    "# print the number of records & columns, and also display the sample LME data\n",
    "print(df_lme.shape)\n",
    "df_lme.head(3)\n"
   ]
  },
  {
   "cell_type": "markdown",
   "id": "9682c9c0",
   "metadata": {},
   "source": [
    "### Load Reference tables"
   ]
  },
  {
   "cell_type": "markdown",
   "id": "9445d0f2",
   "metadata": {},
   "source": [
    "__EEZ NAME lookup by ID__"
   ]
  },
  {
   "cell_type": "code",
   "execution_count": 9,
   "id": "40e28e8e",
   "metadata": {},
   "outputs": [
    {
     "name": "stdout",
     "output_type": "stream",
     "text": [
      "(283, 2)\n"
     ]
    },
    {
     "data": {
      "text/html": [
       "<div>\n",
       "<style scoped>\n",
       "    .dataframe tbody tr th:only-of-type {\n",
       "        vertical-align: middle;\n",
       "    }\n",
       "\n",
       "    .dataframe tbody tr th {\n",
       "        vertical-align: top;\n",
       "    }\n",
       "\n",
       "    .dataframe thead th {\n",
       "        text-align: right;\n",
       "    }\n",
       "</style>\n",
       "<table border=\"1\" class=\"dataframe\">\n",
       "  <thead>\n",
       "    <tr style=\"text-align: right;\">\n",
       "      <th></th>\n",
       "      <th>eez_id</th>\n",
       "      <th>eez</th>\n",
       "    </tr>\n",
       "  </thead>\n",
       "  <tbody>\n",
       "    <tr>\n",
       "      <th>0</th>\n",
       "      <td>312</td>\n",
       "      <td>Guadeloupe (France)</td>\n",
       "    </tr>\n",
       "    <tr>\n",
       "      <th>1</th>\n",
       "      <td>12</td>\n",
       "      <td>Algeria</td>\n",
       "    </tr>\n",
       "    <tr>\n",
       "      <th>2</th>\n",
       "      <td>16</td>\n",
       "      <td>American Samoa</td>\n",
       "    </tr>\n",
       "    <tr>\n",
       "      <th>3</th>\n",
       "      <td>28</td>\n",
       "      <td>Antigua &amp; Barbuda</td>\n",
       "    </tr>\n",
       "    <tr>\n",
       "      <th>4</th>\n",
       "      <td>32</td>\n",
       "      <td>Argentina</td>\n",
       "    </tr>\n",
       "  </tbody>\n",
       "</table>\n",
       "</div>"
      ],
      "text/plain": [
       "   eez_id                  eez\n",
       "0     312  Guadeloupe (France)\n",
       "1      12              Algeria\n",
       "2      16       American Samoa\n",
       "3      28    Antigua & Barbuda\n",
       "4      32            Argentina"
      ]
     },
     "execution_count": 9,
     "metadata": {},
     "output_type": "execute_result"
    }
   ],
   "source": [
    "# data is in a subfolder 'reference_tables' on the S3 bucket\n",
    "# define CloudFront access location format for EEZ NAME lookup data\n",
    "\n",
    "eez_lookup_key = 'reference_tables/eez.csv'\n",
    "eez_lookup_data_location = '{}/{}'.format(cloudfront, eez_lookup_key)\n",
    "\n",
    "# load the EEZ NAME lookup data using Pandas\n",
    "eez_lookup = pd.read_csv(eez_lookup_data_location)\n",
    "\n",
    "# print the number of records & columns, and also display the sample data\n",
    "print(eez_lookup.shape)\n",
    "eez_lookup.head()\n"
   ]
  },
  {
   "cell_type": "markdown",
   "id": "dc8ed981",
   "metadata": {},
   "source": [
    "__LME NAME lookup by ID__"
   ]
  },
  {
   "cell_type": "code",
   "execution_count": 10,
   "id": "3ae204cb",
   "metadata": {},
   "outputs": [
    {
     "name": "stdout",
     "output_type": "stream",
     "text": [
      "(66, 2)\n"
     ]
    },
    {
     "data": {
      "text/html": [
       "<div>\n",
       "<style scoped>\n",
       "    .dataframe tbody tr th:only-of-type {\n",
       "        vertical-align: middle;\n",
       "    }\n",
       "\n",
       "    .dataframe tbody tr th {\n",
       "        vertical-align: top;\n",
       "    }\n",
       "\n",
       "    .dataframe thead th {\n",
       "        text-align: right;\n",
       "    }\n",
       "</style>\n",
       "<table border=\"1\" class=\"dataframe\">\n",
       "  <thead>\n",
       "    <tr style=\"text-align: right;\">\n",
       "      <th></th>\n",
       "      <th>lme_id</th>\n",
       "      <th>lme</th>\n",
       "    </tr>\n",
       "  </thead>\n",
       "  <tbody>\n",
       "    <tr>\n",
       "      <th>0</th>\n",
       "      <td>1</td>\n",
       "      <td>East Bering Sea</td>\n",
       "    </tr>\n",
       "    <tr>\n",
       "      <th>1</th>\n",
       "      <td>2</td>\n",
       "      <td>Gulf of Alaska</td>\n",
       "    </tr>\n",
       "    <tr>\n",
       "      <th>2</th>\n",
       "      <td>3</td>\n",
       "      <td>California Current</td>\n",
       "    </tr>\n",
       "    <tr>\n",
       "      <th>3</th>\n",
       "      <td>4</td>\n",
       "      <td>Gulf of California</td>\n",
       "    </tr>\n",
       "    <tr>\n",
       "      <th>4</th>\n",
       "      <td>5</td>\n",
       "      <td>Gulf of Mexico</td>\n",
       "    </tr>\n",
       "  </tbody>\n",
       "</table>\n",
       "</div>"
      ],
      "text/plain": [
       "   lme_id                 lme\n",
       "0       1     East Bering Sea\n",
       "1       2      Gulf of Alaska\n",
       "2       3  California Current\n",
       "3       4  Gulf of California\n",
       "4       5      Gulf of Mexico"
      ]
     },
     "execution_count": 10,
     "metadata": {},
     "output_type": "execute_result"
    }
   ],
   "source": [
    "# data is in a subfolder 'reference_tables' on the S3 bucket\n",
    "# define CloudFront access location format for LME NAME lookup data\n",
    "\n",
    "lme_lookup_key = 'reference_tables/lme.csv'\n",
    "lme_lookup_data_location = '{}/{}'.format(cloudfront, lme_lookup_key)\n",
    "\n",
    "# load the LME NAME lookup data using Pandas\n",
    "lme_lookup = pd.read_csv(lme_lookup_data_location)\n",
    "\n",
    "# print the number of records & columns, and also display the sample data\n",
    "print(lme_lookup.shape)\n",
    "lme_lookup.head()\n"
   ]
  },
  {
   "cell_type": "markdown",
   "id": "477965c7",
   "metadata": {},
   "source": [
    "__CATCH TYPE lookup by ID__"
   ]
  },
  {
   "cell_type": "code",
   "execution_count": 11,
   "id": "7eaa65d6",
   "metadata": {},
   "outputs": [
    {
     "name": "stdout",
     "output_type": "stream",
     "text": [
      "(2, 3)\n"
     ]
    },
    {
     "data": {
      "text/html": [
       "<div>\n",
       "<style scoped>\n",
       "    .dataframe tbody tr th:only-of-type {\n",
       "        vertical-align: middle;\n",
       "    }\n",
       "\n",
       "    .dataframe tbody tr th {\n",
       "        vertical-align: top;\n",
       "    }\n",
       "\n",
       "    .dataframe thead th {\n",
       "        text-align: right;\n",
       "    }\n",
       "</style>\n",
       "<table border=\"1\" class=\"dataframe\">\n",
       "  <thead>\n",
       "    <tr style=\"text-align: right;\">\n",
       "      <th></th>\n",
       "      <th>catch_type_id</th>\n",
       "      <th>catch_type</th>\n",
       "      <th>abbreviation</th>\n",
       "    </tr>\n",
       "  </thead>\n",
       "  <tbody>\n",
       "    <tr>\n",
       "      <th>0</th>\n",
       "      <td>1</td>\n",
       "      <td>Landings</td>\n",
       "      <td>R</td>\n",
       "    </tr>\n",
       "    <tr>\n",
       "      <th>1</th>\n",
       "      <td>2</td>\n",
       "      <td>Discards</td>\n",
       "      <td>D</td>\n",
       "    </tr>\n",
       "  </tbody>\n",
       "</table>\n",
       "</div>"
      ],
      "text/plain": [
       "   catch_type_id catch_type abbreviation\n",
       "0              1   Landings            R\n",
       "1              2   Discards            D"
      ]
     },
     "execution_count": 11,
     "metadata": {},
     "output_type": "execute_result"
    }
   ],
   "source": [
    "# data is in a subfolder 'reference_tables' on the S3 bucket\n",
    "# define CloudFront access location format for CATCH TYPE lookup data\n",
    "\n",
    "catch_lookup_key = 'reference_tables/catch_type.csv'\n",
    "catch_lookup_data_location = '{}/{}'.format(cloudfront, catch_lookup_key)\n",
    "\n",
    "# load the CATCH TYPE lookup data using Pandas\n",
    "catch_lookup = pd.read_csv(catch_lookup_data_location)\n",
    "\n",
    "# rename column gear to catch_type\n",
    "catch_lookup.rename(columns = {\"name\": \"catch_type\"}, inplace = True)\n",
    "\n",
    "# print the number of records & columns, and also display the sample data\n",
    "print(catch_lookup.shape)\n",
    "catch_lookup.head()\n"
   ]
  },
  {
   "cell_type": "markdown",
   "id": "859fbd24",
   "metadata": {},
   "source": [
    "__SECTOR TYPE lookup by ID__"
   ]
  },
  {
   "cell_type": "code",
   "execution_count": 12,
   "id": "80a47351",
   "metadata": {},
   "outputs": [
    {
     "name": "stdout",
     "output_type": "stream",
     "text": [
      "(4, 2)\n"
     ]
    },
    {
     "data": {
      "text/html": [
       "<div>\n",
       "<style scoped>\n",
       "    .dataframe tbody tr th:only-of-type {\n",
       "        vertical-align: middle;\n",
       "    }\n",
       "\n",
       "    .dataframe tbody tr th {\n",
       "        vertical-align: top;\n",
       "    }\n",
       "\n",
       "    .dataframe thead th {\n",
       "        text-align: right;\n",
       "    }\n",
       "</style>\n",
       "<table border=\"1\" class=\"dataframe\">\n",
       "  <thead>\n",
       "    <tr style=\"text-align: right;\">\n",
       "      <th></th>\n",
       "      <th>sector_type_id</th>\n",
       "      <th>sector_type</th>\n",
       "    </tr>\n",
       "  </thead>\n",
       "  <tbody>\n",
       "    <tr>\n",
       "      <th>0</th>\n",
       "      <td>1</td>\n",
       "      <td>Industrial</td>\n",
       "    </tr>\n",
       "    <tr>\n",
       "      <th>1</th>\n",
       "      <td>2</td>\n",
       "      <td>Subsistence</td>\n",
       "    </tr>\n",
       "    <tr>\n",
       "      <th>2</th>\n",
       "      <td>3</td>\n",
       "      <td>Artisanal</td>\n",
       "    </tr>\n",
       "    <tr>\n",
       "      <th>3</th>\n",
       "      <td>4</td>\n",
       "      <td>Recreational</td>\n",
       "    </tr>\n",
       "  </tbody>\n",
       "</table>\n",
       "</div>"
      ],
      "text/plain": [
       "   sector_type_id   sector_type\n",
       "0               1    Industrial\n",
       "1               2   Subsistence\n",
       "2               3     Artisanal\n",
       "3               4  Recreational"
      ]
     },
     "execution_count": 12,
     "metadata": {},
     "output_type": "execute_result"
    }
   ],
   "source": [
    "# data is in a subfolder 'reference_tables' on the S3 bucket\n",
    "# define CloudFront access location format for SECTOR TYPE lookup data\n",
    "\n",
    "sector_lookup_key = 'reference_tables/sector_type.csv'\n",
    "sector_lookup_data_location = '{}/{}'.format(cloudfront, sector_lookup_key)\n",
    "\n",
    "# load the SECTOR TYPE lookup data using Pandas\n",
    "sector_lookup = pd.read_csv(sector_lookup_data_location)\n",
    "\n",
    "# rename column name to sector_type\n",
    "sector_lookup.rename(columns = {\"name\": \"sector_type\"}, inplace = True)\n",
    "\n",
    "# print the number of records & columns, and also display the sample data\n",
    "print(sector_lookup.shape)\n",
    "sector_lookup.head()\n"
   ]
  },
  {
   "cell_type": "markdown",
   "id": "8f9b1e48",
   "metadata": {},
   "source": [
    "__GEAR TYPE lookup by ID__"
   ]
  },
  {
   "cell_type": "code",
   "execution_count": 13,
   "id": "6fdad71f",
   "metadata": {},
   "outputs": [
    {
     "name": "stdout",
     "output_type": "stream",
     "text": [
      "(43, 2)\n"
     ]
    },
    {
     "data": {
      "text/html": [
       "<div>\n",
       "<style scoped>\n",
       "    .dataframe tbody tr th:only-of-type {\n",
       "        vertical-align: middle;\n",
       "    }\n",
       "\n",
       "    .dataframe tbody tr th {\n",
       "        vertical-align: top;\n",
       "    }\n",
       "\n",
       "    .dataframe thead th {\n",
       "        text-align: right;\n",
       "    }\n",
       "</style>\n",
       "<table border=\"1\" class=\"dataframe\">\n",
       "  <thead>\n",
       "    <tr style=\"text-align: right;\">\n",
       "      <th></th>\n",
       "      <th>gear_type_id</th>\n",
       "      <th>gear_type</th>\n",
       "    </tr>\n",
       "  </thead>\n",
       "  <tbody>\n",
       "    <tr>\n",
       "      <th>0</th>\n",
       "      <td>1</td>\n",
       "      <td>bottom trawl</td>\n",
       "    </tr>\n",
       "    <tr>\n",
       "      <th>1</th>\n",
       "      <td>1</td>\n",
       "      <td>bottom trawl</td>\n",
       "    </tr>\n",
       "    <tr>\n",
       "      <th>2</th>\n",
       "      <td>1</td>\n",
       "      <td>bottom trawl</td>\n",
       "    </tr>\n",
       "    <tr>\n",
       "      <th>3</th>\n",
       "      <td>1</td>\n",
       "      <td>bottom trawl</td>\n",
       "    </tr>\n",
       "    <tr>\n",
       "      <th>4</th>\n",
       "      <td>2</td>\n",
       "      <td>pelagic trawl</td>\n",
       "    </tr>\n",
       "  </tbody>\n",
       "</table>\n",
       "</div>"
      ],
      "text/plain": [
       "   gear_type_id      gear_type\n",
       "0             1   bottom trawl\n",
       "1             1   bottom trawl\n",
       "2             1   bottom trawl\n",
       "3             1   bottom trawl\n",
       "4             2  pelagic trawl"
      ]
     },
     "execution_count": 13,
     "metadata": {},
     "output_type": "execute_result"
    }
   ],
   "source": [
    "# data is in a subfolder 'reference_tables' on the S3 bucket\n",
    "# define CloudFront access location format for GEAR TYPE lookup data\n",
    "\n",
    "gear_lookup_key = 'reference_tables/gear.csv'\n",
    "gear_lookup_data_location = '{}/{}'.format(cloudfront, gear_lookup_key)\n",
    "\n",
    "# load the GEAR TYPE lookup data using Pandas\n",
    "gear_lookup = pd.read_csv(gear_lookup_data_location)\n",
    "\n",
    "# rename column gear to gear_type\n",
    "gear_lookup.rename(columns = {\"gear\": \"gear_type\"}, inplace = True)\n",
    "\n",
    "# print the number of records & columns, and also display the sample data\n",
    "print(gear_lookup.shape)\n",
    "gear_lookup.head()\n"
   ]
  },
  {
   "cell_type": "code",
   "execution_count": 14,
   "id": "a8e08cd7",
   "metadata": {},
   "outputs": [
    {
     "name": "stdout",
     "output_type": "stream",
     "text": [
      "(8, 2)\n"
     ]
    },
    {
     "data": {
      "text/html": [
       "<div>\n",
       "<style scoped>\n",
       "    .dataframe tbody tr th:only-of-type {\n",
       "        vertical-align: middle;\n",
       "    }\n",
       "\n",
       "    .dataframe tbody tr th {\n",
       "        vertical-align: top;\n",
       "    }\n",
       "\n",
       "    .dataframe thead th {\n",
       "        text-align: right;\n",
       "    }\n",
       "</style>\n",
       "<table border=\"1\" class=\"dataframe\">\n",
       "  <thead>\n",
       "    <tr style=\"text-align: right;\">\n",
       "      <th></th>\n",
       "      <th>gear_type_id</th>\n",
       "      <th>gear_type</th>\n",
       "    </tr>\n",
       "  </thead>\n",
       "  <tbody>\n",
       "    <tr>\n",
       "      <th>0</th>\n",
       "      <td>1</td>\n",
       "      <td>bottom trawl</td>\n",
       "    </tr>\n",
       "    <tr>\n",
       "      <th>4</th>\n",
       "      <td>2</td>\n",
       "      <td>pelagic trawl</td>\n",
       "    </tr>\n",
       "    <tr>\n",
       "      <th>5</th>\n",
       "      <td>3</td>\n",
       "      <td>longline</td>\n",
       "    </tr>\n",
       "    <tr>\n",
       "      <th>9</th>\n",
       "      <td>4</td>\n",
       "      <td>purse seine</td>\n",
       "    </tr>\n",
       "    <tr>\n",
       "      <th>12</th>\n",
       "      <td>5</td>\n",
       "      <td>gillnets</td>\n",
       "    </tr>\n",
       "  </tbody>\n",
       "</table>\n",
       "</div>"
      ],
      "text/plain": [
       "    gear_type_id      gear_type\n",
       "0              1   bottom trawl\n",
       "4              2  pelagic trawl\n",
       "5              3       longline\n",
       "9              4    purse seine\n",
       "12             5       gillnets"
      ]
     },
     "execution_count": 14,
     "metadata": {},
     "output_type": "execute_result"
    }
   ],
   "source": [
    "# remove duplicate rows from the gear type reference table\n",
    "\n",
    "gear_lookup.drop_duplicates(inplace = True)\n",
    "\n",
    "# print the number of records & columns, and also display the sample data\n",
    "print(gear_lookup.shape)\n",
    "gear_lookup.head()\n"
   ]
  },
  {
   "cell_type": "markdown",
   "id": "bcdf1f1a",
   "metadata": {},
   "source": [
    "__END USE TYPE lookup by ID__"
   ]
  },
  {
   "cell_type": "code",
   "execution_count": 15,
   "id": "cbb5ba18",
   "metadata": {},
   "outputs": [
    {
     "name": "stdout",
     "output_type": "stream",
     "text": [
      "(4, 2)\n"
     ]
    },
    {
     "data": {
      "text/html": [
       "<div>\n",
       "<style scoped>\n",
       "    .dataframe tbody tr th:only-of-type {\n",
       "        vertical-align: middle;\n",
       "    }\n",
       "\n",
       "    .dataframe tbody tr th {\n",
       "        vertical-align: top;\n",
       "    }\n",
       "\n",
       "    .dataframe thead th {\n",
       "        text-align: right;\n",
       "    }\n",
       "</style>\n",
       "<table border=\"1\" class=\"dataframe\">\n",
       "  <thead>\n",
       "    <tr style=\"text-align: right;\">\n",
       "      <th></th>\n",
       "      <th>end_use_type_id</th>\n",
       "      <th>end_use_name</th>\n",
       "    </tr>\n",
       "  </thead>\n",
       "  <tbody>\n",
       "    <tr>\n",
       "      <th>0</th>\n",
       "      <td>1</td>\n",
       "      <td>Direct human consumption</td>\n",
       "    </tr>\n",
       "    <tr>\n",
       "      <th>1</th>\n",
       "      <td>2</td>\n",
       "      <td>Fishmeal and fish oil</td>\n",
       "    </tr>\n",
       "    <tr>\n",
       "      <th>2</th>\n",
       "      <td>3</td>\n",
       "      <td>Other</td>\n",
       "    </tr>\n",
       "    <tr>\n",
       "      <th>3</th>\n",
       "      <td>4</td>\n",
       "      <td>Discards</td>\n",
       "    </tr>\n",
       "  </tbody>\n",
       "</table>\n",
       "</div>"
      ],
      "text/plain": [
       "   end_use_type_id              end_use_name\n",
       "0                1  Direct human consumption\n",
       "1                2     Fishmeal and fish oil\n",
       "2                3                     Other\n",
       "3                4                  Discards"
      ]
     },
     "execution_count": 15,
     "metadata": {},
     "output_type": "execute_result"
    }
   ],
   "source": [
    "# data is in a subfolder 'reference_tables' on the S3 bucket\n",
    "# define CloudFront access location format for END USE TYPE lookup data\n",
    "\n",
    "end_use_lookup_key = 'reference_tables/end_use_type.csv'\n",
    "end_use_lookup_data_location = '{}/{}'.format(cloudfront, end_use_lookup_key)\n",
    "\n",
    "# load the END USE TYPE lookup data using Pandas\n",
    "end_use_lookup = pd.read_csv(end_use_lookup_data_location)\n",
    "\n",
    "# print the number of records & columns, and also display the sample data\n",
    "print(end_use_lookup.shape)\n",
    "end_use_lookup.head()\n"
   ]
  },
  {
   "cell_type": "markdown",
   "id": "7e5ac1c8",
   "metadata": {},
   "source": [
    "__REPORTING STATUS lookup by ID__"
   ]
  },
  {
   "cell_type": "code",
   "execution_count": 16,
   "id": "93aa2f9a",
   "metadata": {},
   "outputs": [
    {
     "name": "stdout",
     "output_type": "stream",
     "text": [
      "(2, 3)\n"
     ]
    },
    {
     "data": {
      "text/html": [
       "<div>\n",
       "<style scoped>\n",
       "    .dataframe tbody tr th:only-of-type {\n",
       "        vertical-align: middle;\n",
       "    }\n",
       "\n",
       "    .dataframe tbody tr th {\n",
       "        vertical-align: top;\n",
       "    }\n",
       "\n",
       "    .dataframe thead th {\n",
       "        text-align: right;\n",
       "    }\n",
       "</style>\n",
       "<table border=\"1\" class=\"dataframe\">\n",
       "  <thead>\n",
       "    <tr style=\"text-align: right;\">\n",
       "      <th></th>\n",
       "      <th>reporting_status_id</th>\n",
       "      <th>name</th>\n",
       "      <th>abbreviation</th>\n",
       "    </tr>\n",
       "  </thead>\n",
       "  <tbody>\n",
       "    <tr>\n",
       "      <th>0</th>\n",
       "      <td>1</td>\n",
       "      <td>Reported</td>\n",
       "      <td>R</td>\n",
       "    </tr>\n",
       "    <tr>\n",
       "      <th>1</th>\n",
       "      <td>2</td>\n",
       "      <td>Unreported</td>\n",
       "      <td>U</td>\n",
       "    </tr>\n",
       "  </tbody>\n",
       "</table>\n",
       "</div>"
      ],
      "text/plain": [
       "   reporting_status_id        name abbreviation\n",
       "0                    1    Reported            R\n",
       "1                    2  Unreported            U"
      ]
     },
     "execution_count": 16,
     "metadata": {},
     "output_type": "execute_result"
    }
   ],
   "source": [
    "# data is in a subfolder 'reference_tables' on the S3 bucket\n",
    "# define CloudFront access location format for REPORTING STATUS lookup data\n",
    "\n",
    "reporting_status_lookup_key = 'reference_tables/reporting_status.csv'\n",
    "reporting_status_lookup_data_location = '{}/{}'.format(cloudfront, reporting_status_lookup_key)\n",
    "\n",
    "# load the REPORTING STATUS lookup data using Pandas\n",
    "reporting_status_lookup = pd.read_csv(reporting_status_lookup_data_location)\n",
    "\n",
    "# print the number of records & columns, and also display the sample data\n",
    "print(reporting_status_lookup.shape)\n",
    "reporting_status_lookup.head()\n"
   ]
  },
  {
   "cell_type": "markdown",
   "id": "2573d812",
   "metadata": {},
   "source": [
    "__TAXON NAMES lookup by ID__"
   ]
  },
  {
   "cell_type": "code",
   "execution_count": 17,
   "id": "1547075d",
   "metadata": {},
   "outputs": [
    {
     "name": "stdout",
     "output_type": "stream",
     "text": [
      "(3261, 6)\n"
     ]
    },
    {
     "data": {
      "text/html": [
       "<div>\n",
       "<style scoped>\n",
       "    .dataframe tbody tr th:only-of-type {\n",
       "        vertical-align: middle;\n",
       "    }\n",
       "\n",
       "    .dataframe tbody tr th {\n",
       "        vertical-align: top;\n",
       "    }\n",
       "\n",
       "    .dataframe thead th {\n",
       "        text-align: right;\n",
       "    }\n",
       "</style>\n",
       "<table border=\"1\" class=\"dataframe\">\n",
       "  <thead>\n",
       "    <tr style=\"text-align: right;\">\n",
       "      <th></th>\n",
       "      <th>taxon_key</th>\n",
       "      <th>scientific_name</th>\n",
       "      <th>common_name</th>\n",
       "      <th>species</th>\n",
       "      <th>genus</th>\n",
       "      <th>family</th>\n",
       "    </tr>\n",
       "  </thead>\n",
       "  <tbody>\n",
       "    <tr>\n",
       "      <th>0</th>\n",
       "      <td>601456</td>\n",
       "      <td>Etrumeus whiteheadi</td>\n",
       "      <td>Whitehead's round herring</td>\n",
       "      <td>whiteheadi</td>\n",
       "      <td>Etrumeus</td>\n",
       "      <td>Dussumieriidae</td>\n",
       "    </tr>\n",
       "    <tr>\n",
       "      <th>1</th>\n",
       "      <td>605123</td>\n",
       "      <td>Exocoetus monocirrhus</td>\n",
       "      <td>Barbel flyingfish</td>\n",
       "      <td>monocirrhus</td>\n",
       "      <td>Exocoetus</td>\n",
       "      <td>Exocoetidae</td>\n",
       "    </tr>\n",
       "    <tr>\n",
       "      <th>2</th>\n",
       "      <td>200538</td>\n",
       "      <td>Chondrichthyes</td>\n",
       "      <td>Sharks, rays, chimaeras</td>\n",
       "      <td>NaN</td>\n",
       "      <td>NaN</td>\n",
       "      <td>NaN</td>\n",
       "    </tr>\n",
       "    <tr>\n",
       "      <th>3</th>\n",
       "      <td>400313</td>\n",
       "      <td>Echeneidae</td>\n",
       "      <td>Remoras</td>\n",
       "      <td>NaN</td>\n",
       "      <td>NaN</td>\n",
       "      <td>Echeneidae</td>\n",
       "    </tr>\n",
       "    <tr>\n",
       "      <th>4</th>\n",
       "      <td>400176</td>\n",
       "      <td>Percopsidae</td>\n",
       "      <td>Trout-perches</td>\n",
       "      <td>NaN</td>\n",
       "      <td>NaN</td>\n",
       "      <td>Percopsidae</td>\n",
       "    </tr>\n",
       "  </tbody>\n",
       "</table>\n",
       "</div>"
      ],
      "text/plain": [
       "   taxon_key        scientific_name                common_name      species  \\\n",
       "0     601456    Etrumeus whiteheadi  Whitehead's round herring   whiteheadi   \n",
       "1     605123  Exocoetus monocirrhus          Barbel flyingfish  monocirrhus   \n",
       "2     200538         Chondrichthyes    Sharks, rays, chimaeras          NaN   \n",
       "3     400313             Echeneidae                    Remoras          NaN   \n",
       "4     400176            Percopsidae              Trout-perches          NaN   \n",
       "\n",
       "       genus          family  \n",
       "0   Etrumeus  Dussumieriidae  \n",
       "1  Exocoetus     Exocoetidae  \n",
       "2        NaN             NaN  \n",
       "3        NaN      Echeneidae  \n",
       "4        NaN     Percopsidae  "
      ]
     },
     "execution_count": 17,
     "metadata": {},
     "output_type": "execute_result"
    }
   ],
   "source": [
    "# data is in a subfolder 'reference_tables' on the S3 bucket\n",
    "# define CloudFront access location format for TAXON NAMES lookup data\n",
    "\n",
    "taxon_lookup_key = 'reference_tables/taxon.csv'\n",
    "taxon_lookup_data_location = '{}/{}'.format(cloudfront, taxon_lookup_key)\n",
    "\n",
    "# load the TAXON NAMES lookup data using Pandas\n",
    "taxon_lookup = pd.read_csv(taxon_lookup_data_location)\n",
    "\n",
    "# print the number of records & columns, and also display the sample data\n",
    "print(taxon_lookup.shape)\n",
    "taxon_lookup.head()\n"
   ]
  },
  {
   "cell_type": "markdown",
   "id": "2eaaa3ba",
   "metadata": {},
   "source": [
    "__FISHING ENTITY lookup by ID__"
   ]
  },
  {
   "cell_type": "code",
   "execution_count": 18,
   "id": "13841a5a",
   "metadata": {},
   "outputs": [
    {
     "name": "stdout",
     "output_type": "stream",
     "text": [
      "(199, 2)\n"
     ]
    },
    {
     "data": {
      "text/html": [
       "<div>\n",
       "<style scoped>\n",
       "    .dataframe tbody tr th:only-of-type {\n",
       "        vertical-align: middle;\n",
       "    }\n",
       "\n",
       "    .dataframe tbody tr th {\n",
       "        vertical-align: top;\n",
       "    }\n",
       "\n",
       "    .dataframe thead th {\n",
       "        text-align: right;\n",
       "    }\n",
       "</style>\n",
       "<table border=\"1\" class=\"dataframe\">\n",
       "  <thead>\n",
       "    <tr style=\"text-align: right;\">\n",
       "      <th></th>\n",
       "      <th>fishing_entity_id</th>\n",
       "      <th>fishing_entity</th>\n",
       "    </tr>\n",
       "  </thead>\n",
       "  <tbody>\n",
       "    <tr>\n",
       "      <th>0</th>\n",
       "      <td>1</td>\n",
       "      <td>Albania</td>\n",
       "    </tr>\n",
       "    <tr>\n",
       "      <th>1</th>\n",
       "      <td>2</td>\n",
       "      <td>Algeria</td>\n",
       "    </tr>\n",
       "    <tr>\n",
       "      <th>2</th>\n",
       "      <td>3</td>\n",
       "      <td>American Samoa</td>\n",
       "    </tr>\n",
       "    <tr>\n",
       "      <th>3</th>\n",
       "      <td>4</td>\n",
       "      <td>Angola</td>\n",
       "    </tr>\n",
       "    <tr>\n",
       "      <th>4</th>\n",
       "      <td>5</td>\n",
       "      <td>Antigua &amp; Barbuda</td>\n",
       "    </tr>\n",
       "  </tbody>\n",
       "</table>\n",
       "</div>"
      ],
      "text/plain": [
       "   fishing_entity_id     fishing_entity\n",
       "0                  1            Albania\n",
       "1                  2            Algeria\n",
       "2                  3     American Samoa\n",
       "3                  4             Angola\n",
       "4                  5  Antigua & Barbuda"
      ]
     },
     "execution_count": 18,
     "metadata": {},
     "output_type": "execute_result"
    }
   ],
   "source": [
    "# data is in a subfolder 'reference_tables' on the S3 bucket\n",
    "# define CloudFront access location format for FISHING ENTITY lookup data\n",
    "\n",
    "fishing_entity_key = 'reference_tables/fishing_entity.csv'\n",
    "fishing_entity_data_location = '{}/{}'.format(cloudfront, fishing_entity_key)\n",
    "\n",
    "# load the FISHING ENTITY lookup data using Pandas\n",
    "fishing_entity_lookup = pd.read_csv(fishing_entity_data_location)\n",
    "\n",
    "# print the number of records & columns, and also display the sample data\n",
    "print(fishing_entity_lookup.shape)\n",
    "fishing_entity_lookup.head()\n"
   ]
  },
  {
   "cell_type": "markdown",
   "id": "2a20744d",
   "metadata": {},
   "source": [
    "### Merge IDs in EEZ data with NAMES from Reference tables"
   ]
  },
  {
   "cell_type": "code",
   "execution_count": 19,
   "id": "9ed8d01c",
   "metadata": {},
   "outputs": [
    {
     "data": {
      "text/html": [
       "<div>\n",
       "<style scoped>\n",
       "    .dataframe tbody tr th:only-of-type {\n",
       "        vertical-align: middle;\n",
       "    }\n",
       "\n",
       "    .dataframe tbody tr th {\n",
       "        vertical-align: top;\n",
       "    }\n",
       "\n",
       "    .dataframe thead th {\n",
       "        text-align: right;\n",
       "    }\n",
       "</style>\n",
       "<table border=\"1\" class=\"dataframe\">\n",
       "  <thead>\n",
       "    <tr style=\"text-align: right;\">\n",
       "      <th></th>\n",
       "      <th>fishing_entity_id</th>\n",
       "      <th>cell_id</th>\n",
       "      <th>lon</th>\n",
       "      <th>lat</th>\n",
       "      <th>eez_id</th>\n",
       "      <th>taxon_key</th>\n",
       "      <th>reporting_status_id</th>\n",
       "      <th>sector_type_id</th>\n",
       "      <th>catch_type_id</th>\n",
       "      <th>gear_type_id</th>\n",
       "      <th>year</th>\n",
       "      <th>catch_sum</th>\n",
       "    </tr>\n",
       "  </thead>\n",
       "  <tbody>\n",
       "    <tr>\n",
       "      <th>0</th>\n",
       "      <td>26</td>\n",
       "      <td>16770</td>\n",
       "      <td>-75.25</td>\n",
       "      <td>78.25</td>\n",
       "      <td>924</td>\n",
       "      <td>100039</td>\n",
       "      <td>1</td>\n",
       "      <td>1</td>\n",
       "      <td>1</td>\n",
       "      <td>1</td>\n",
       "      <td>2006</td>\n",
       "      <td>0.904239</td>\n",
       "    </tr>\n",
       "    <tr>\n",
       "      <th>1</th>\n",
       "      <td>26</td>\n",
       "      <td>16770</td>\n",
       "      <td>-75.25</td>\n",
       "      <td>78.25</td>\n",
       "      <td>924</td>\n",
       "      <td>100039</td>\n",
       "      <td>1</td>\n",
       "      <td>1</td>\n",
       "      <td>1</td>\n",
       "      <td>1</td>\n",
       "      <td>2007</td>\n",
       "      <td>0.956645</td>\n",
       "    </tr>\n",
       "    <tr>\n",
       "      <th>2</th>\n",
       "      <td>26</td>\n",
       "      <td>16770</td>\n",
       "      <td>-75.25</td>\n",
       "      <td>78.25</td>\n",
       "      <td>924</td>\n",
       "      <td>100039</td>\n",
       "      <td>1</td>\n",
       "      <td>1</td>\n",
       "      <td>1</td>\n",
       "      <td>1</td>\n",
       "      <td>2008</td>\n",
       "      <td>0.835748</td>\n",
       "    </tr>\n",
       "  </tbody>\n",
       "</table>\n",
       "</div>"
      ],
      "text/plain": [
       "   fishing_entity_id  cell_id    lon    lat  eez_id  taxon_key  \\\n",
       "0                 26    16770 -75.25  78.25     924     100039   \n",
       "1                 26    16770 -75.25  78.25     924     100039   \n",
       "2                 26    16770 -75.25  78.25     924     100039   \n",
       "\n",
       "   reporting_status_id  sector_type_id  catch_type_id  gear_type_id  year  \\\n",
       "0                    1               1              1             1  2006   \n",
       "1                    1               1              1             1  2007   \n",
       "2                    1               1              1             1  2008   \n",
       "\n",
       "   catch_sum  \n",
       "0   0.904239  \n",
       "1   0.956645  \n",
       "2   0.835748  "
      ]
     },
     "execution_count": 19,
     "metadata": {},
     "output_type": "execute_result"
    }
   ],
   "source": [
    "# display sample data from EEZ **before** Merging\n",
    "\n",
    "df_eez.head(3)\n"
   ]
  },
  {
   "cell_type": "code",
   "execution_count": 20,
   "id": "abb4481f",
   "metadata": {},
   "outputs": [
    {
     "data": {
      "text/html": [
       "<div>\n",
       "<style scoped>\n",
       "    .dataframe tbody tr th:only-of-type {\n",
       "        vertical-align: middle;\n",
       "    }\n",
       "\n",
       "    .dataframe tbody tr th {\n",
       "        vertical-align: top;\n",
       "    }\n",
       "\n",
       "    .dataframe thead th {\n",
       "        text-align: right;\n",
       "    }\n",
       "</style>\n",
       "<table border=\"1\" class=\"dataframe\">\n",
       "  <thead>\n",
       "    <tr style=\"text-align: right;\">\n",
       "      <th></th>\n",
       "      <th>cell_id</th>\n",
       "      <th>lon</th>\n",
       "      <th>lat</th>\n",
       "      <th>eez_id</th>\n",
       "      <th>taxon_key</th>\n",
       "      <th>year</th>\n",
       "      <th>catch_sum</th>\n",
       "      <th>sector_type</th>\n",
       "      <th>catch_type</th>\n",
       "      <th>gear_type</th>\n",
       "      <th>eez</th>\n",
       "    </tr>\n",
       "  </thead>\n",
       "  <tbody>\n",
       "    <tr>\n",
       "      <th>0</th>\n",
       "      <td>16770</td>\n",
       "      <td>-75.25</td>\n",
       "      <td>78.25</td>\n",
       "      <td>924</td>\n",
       "      <td>100039</td>\n",
       "      <td>2006</td>\n",
       "      <td>0.904239</td>\n",
       "      <td>Industrial</td>\n",
       "      <td>Landings</td>\n",
       "      <td>bottom trawl</td>\n",
       "      <td>Canada (Arctic)</td>\n",
       "    </tr>\n",
       "    <tr>\n",
       "      <th>1</th>\n",
       "      <td>16770</td>\n",
       "      <td>-75.25</td>\n",
       "      <td>78.25</td>\n",
       "      <td>924</td>\n",
       "      <td>100039</td>\n",
       "      <td>2007</td>\n",
       "      <td>0.956645</td>\n",
       "      <td>Industrial</td>\n",
       "      <td>Landings</td>\n",
       "      <td>bottom trawl</td>\n",
       "      <td>Canada (Arctic)</td>\n",
       "    </tr>\n",
       "    <tr>\n",
       "      <th>2</th>\n",
       "      <td>16770</td>\n",
       "      <td>-75.25</td>\n",
       "      <td>78.25</td>\n",
       "      <td>924</td>\n",
       "      <td>100039</td>\n",
       "      <td>2008</td>\n",
       "      <td>0.835748</td>\n",
       "      <td>Industrial</td>\n",
       "      <td>Landings</td>\n",
       "      <td>bottom trawl</td>\n",
       "      <td>Canada (Arctic)</td>\n",
       "    </tr>\n",
       "  </tbody>\n",
       "</table>\n",
       "</div>"
      ],
      "text/plain": [
       "   cell_id    lon    lat  eez_id  taxon_key  year  catch_sum sector_type  \\\n",
       "0    16770 -75.25  78.25     924     100039  2006   0.904239  Industrial   \n",
       "1    16770 -75.25  78.25     924     100039  2007   0.956645  Industrial   \n",
       "2    16770 -75.25  78.25     924     100039  2008   0.835748  Industrial   \n",
       "\n",
       "  catch_type     gear_type              eez  \n",
       "0   Landings  bottom trawl  Canada (Arctic)  \n",
       "1   Landings  bottom trawl  Canada (Arctic)  \n",
       "2   Landings  bottom trawl  Canada (Arctic)  "
      ]
     },
     "execution_count": 20,
     "metadata": {},
     "output_type": "execute_result"
    }
   ],
   "source": [
    "# Merge EEZ, Sector type, Catch type, Gear type names from reference tables based on their respective IDs\n",
    "\n",
    "df_eez = pd.merge(df_eez, sector_lookup, on = 'sector_type_id', how = 'inner')\n",
    "df_eez = pd.merge(df_eez, catch_lookup, on = 'catch_type_id', how = 'inner')\n",
    "df_eez = pd.merge(df_eez, gear_lookup, on = 'gear_type_id', how = 'inner')\n",
    "df_eez = pd.merge(df_eez, eez_lookup, on = 'eez_id', how = 'inner')\n",
    "\n",
    "# Drop columns that are not necessary for maps (after merging)\n",
    "df_eez.drop(['fishing_entity_id', \n",
    "             'reporting_status_id', \n",
    "             'sector_type_id', \n",
    "             'catch_type_id',\n",
    "             'gear_type_id',\n",
    "             'abbreviation'            \n",
    "            ], axis = 1, inplace = True)\n",
    "\n",
    "# display sample data from EEZ **after** Merging\n",
    "df_eez.head(3)\n"
   ]
  },
  {
   "cell_type": "markdown",
   "id": "f628b3c1",
   "metadata": {},
   "source": [
    "### Merge IDs in LME data with NAMES from Reference tables"
   ]
  },
  {
   "cell_type": "code",
   "execution_count": 21,
   "id": "43c130cf",
   "metadata": {},
   "outputs": [
    {
     "data": {
      "text/html": [
       "<div>\n",
       "<style scoped>\n",
       "    .dataframe tbody tr th:only-of-type {\n",
       "        vertical-align: middle;\n",
       "    }\n",
       "\n",
       "    .dataframe tbody tr th {\n",
       "        vertical-align: top;\n",
       "    }\n",
       "\n",
       "    .dataframe thead th {\n",
       "        text-align: right;\n",
       "    }\n",
       "</style>\n",
       "<table border=\"1\" class=\"dataframe\">\n",
       "  <thead>\n",
       "    <tr style=\"text-align: right;\">\n",
       "      <th></th>\n",
       "      <th>fishing_entity_id</th>\n",
       "      <th>cell_id</th>\n",
       "      <th>lon</th>\n",
       "      <th>lat</th>\n",
       "      <th>lme_id</th>\n",
       "      <th>taxon_key</th>\n",
       "      <th>reporting_status_id</th>\n",
       "      <th>sector_type_id</th>\n",
       "      <th>catch_type_id</th>\n",
       "      <th>gear_type_id</th>\n",
       "      <th>year</th>\n",
       "      <th>catch_sum</th>\n",
       "    </tr>\n",
       "  </thead>\n",
       "  <tbody>\n",
       "    <tr>\n",
       "      <th>0</th>\n",
       "      <td>26</td>\n",
       "      <td>16773</td>\n",
       "      <td>-73.75</td>\n",
       "      <td>78.25</td>\n",
       "      <td>18</td>\n",
       "      <td>100039</td>\n",
       "      <td>1</td>\n",
       "      <td>1</td>\n",
       "      <td>1</td>\n",
       "      <td>1</td>\n",
       "      <td>1994</td>\n",
       "      <td>0.001701</td>\n",
       "    </tr>\n",
       "    <tr>\n",
       "      <th>1</th>\n",
       "      <td>26</td>\n",
       "      <td>16773</td>\n",
       "      <td>-73.75</td>\n",
       "      <td>78.25</td>\n",
       "      <td>18</td>\n",
       "      <td>100039</td>\n",
       "      <td>1</td>\n",
       "      <td>1</td>\n",
       "      <td>1</td>\n",
       "      <td>1</td>\n",
       "      <td>2017</td>\n",
       "      <td>0.007632</td>\n",
       "    </tr>\n",
       "    <tr>\n",
       "      <th>2</th>\n",
       "      <td>26</td>\n",
       "      <td>16773</td>\n",
       "      <td>-73.75</td>\n",
       "      <td>78.25</td>\n",
       "      <td>66</td>\n",
       "      <td>100039</td>\n",
       "      <td>1</td>\n",
       "      <td>1</td>\n",
       "      <td>1</td>\n",
       "      <td>1</td>\n",
       "      <td>1994</td>\n",
       "      <td>0.001701</td>\n",
       "    </tr>\n",
       "  </tbody>\n",
       "</table>\n",
       "</div>"
      ],
      "text/plain": [
       "   fishing_entity_id  cell_id    lon    lat  lme_id  taxon_key  \\\n",
       "0                 26    16773 -73.75  78.25      18     100039   \n",
       "1                 26    16773 -73.75  78.25      18     100039   \n",
       "2                 26    16773 -73.75  78.25      66     100039   \n",
       "\n",
       "   reporting_status_id  sector_type_id  catch_type_id  gear_type_id  year  \\\n",
       "0                    1               1              1             1  1994   \n",
       "1                    1               1              1             1  2017   \n",
       "2                    1               1              1             1  1994   \n",
       "\n",
       "   catch_sum  \n",
       "0   0.001701  \n",
       "1   0.007632  \n",
       "2   0.001701  "
      ]
     },
     "execution_count": 21,
     "metadata": {},
     "output_type": "execute_result"
    }
   ],
   "source": [
    "# display sample data from LME **before** Merging\n",
    "\n",
    "df_lme.head(3)\n"
   ]
  },
  {
   "cell_type": "code",
   "execution_count": 22,
   "id": "47b7c2d2",
   "metadata": {},
   "outputs": [
    {
     "data": {
      "text/html": [
       "<div>\n",
       "<style scoped>\n",
       "    .dataframe tbody tr th:only-of-type {\n",
       "        vertical-align: middle;\n",
       "    }\n",
       "\n",
       "    .dataframe tbody tr th {\n",
       "        vertical-align: top;\n",
       "    }\n",
       "\n",
       "    .dataframe thead th {\n",
       "        text-align: right;\n",
       "    }\n",
       "</style>\n",
       "<table border=\"1\" class=\"dataframe\">\n",
       "  <thead>\n",
       "    <tr style=\"text-align: right;\">\n",
       "      <th></th>\n",
       "      <th>cell_id</th>\n",
       "      <th>lon</th>\n",
       "      <th>lat</th>\n",
       "      <th>lme_id</th>\n",
       "      <th>taxon_key</th>\n",
       "      <th>year</th>\n",
       "      <th>catch_sum</th>\n",
       "      <th>sector_type</th>\n",
       "      <th>catch_type</th>\n",
       "      <th>gear_type</th>\n",
       "      <th>lme</th>\n",
       "    </tr>\n",
       "  </thead>\n",
       "  <tbody>\n",
       "    <tr>\n",
       "      <th>0</th>\n",
       "      <td>16773</td>\n",
       "      <td>-73.75</td>\n",
       "      <td>78.25</td>\n",
       "      <td>18</td>\n",
       "      <td>100039</td>\n",
       "      <td>1994</td>\n",
       "      <td>0.001701</td>\n",
       "      <td>Industrial</td>\n",
       "      <td>Landings</td>\n",
       "      <td>bottom trawl</td>\n",
       "      <td>Canadian Eastern Arctic - West Greenland</td>\n",
       "    </tr>\n",
       "    <tr>\n",
       "      <th>1</th>\n",
       "      <td>16773</td>\n",
       "      <td>-73.75</td>\n",
       "      <td>78.25</td>\n",
       "      <td>18</td>\n",
       "      <td>100039</td>\n",
       "      <td>2017</td>\n",
       "      <td>0.007632</td>\n",
       "      <td>Industrial</td>\n",
       "      <td>Landings</td>\n",
       "      <td>bottom trawl</td>\n",
       "      <td>Canadian Eastern Arctic - West Greenland</td>\n",
       "    </tr>\n",
       "    <tr>\n",
       "      <th>2</th>\n",
       "      <td>16774</td>\n",
       "      <td>-73.25</td>\n",
       "      <td>78.25</td>\n",
       "      <td>18</td>\n",
       "      <td>100039</td>\n",
       "      <td>1994</td>\n",
       "      <td>0.002202</td>\n",
       "      <td>Industrial</td>\n",
       "      <td>Landings</td>\n",
       "      <td>bottom trawl</td>\n",
       "      <td>Canadian Eastern Arctic - West Greenland</td>\n",
       "    </tr>\n",
       "  </tbody>\n",
       "</table>\n",
       "</div>"
      ],
      "text/plain": [
       "   cell_id    lon    lat  lme_id  taxon_key  year  catch_sum sector_type  \\\n",
       "0    16773 -73.75  78.25      18     100039  1994   0.001701  Industrial   \n",
       "1    16773 -73.75  78.25      18     100039  2017   0.007632  Industrial   \n",
       "2    16774 -73.25  78.25      18     100039  1994   0.002202  Industrial   \n",
       "\n",
       "  catch_type     gear_type                                       lme  \n",
       "0   Landings  bottom trawl  Canadian Eastern Arctic - West Greenland  \n",
       "1   Landings  bottom trawl  Canadian Eastern Arctic - West Greenland  \n",
       "2   Landings  bottom trawl  Canadian Eastern Arctic - West Greenland  "
      ]
     },
     "execution_count": 22,
     "metadata": {},
     "output_type": "execute_result"
    }
   ],
   "source": [
    "# Merge LME, Sector type, Catch type, Gear type names from reference tables based on their respective IDs\n",
    "\n",
    "df_lme = pd.merge(df_lme, sector_lookup, on = 'sector_type_id', how = 'inner')\n",
    "df_lme = pd.merge(df_lme, catch_lookup, on = 'catch_type_id', how = 'inner')\n",
    "df_lme = pd.merge(df_lme, gear_lookup, on = 'gear_type_id', how = 'inner')\n",
    "df_lme = pd.merge(df_lme, lme_lookup, on = 'lme_id', how = 'inner')\n",
    "\n",
    "# Drop columns that are not necessary for maps (after merging)\n",
    "df_lme.drop(['fishing_entity_id', \n",
    "             'reporting_status_id', \n",
    "             'sector_type_id', \n",
    "             'catch_type_id',\n",
    "             'gear_type_id',\n",
    "             'abbreviation'            \n",
    "            ], axis = 1, inplace = True)\n",
    "\n",
    "# display sample data from LME **after** Merging\n",
    "df_lme.head(3)\n"
   ]
  },
  {
   "cell_type": "code",
   "execution_count": null,
   "id": "af99e263",
   "metadata": {},
   "outputs": [],
   "source": []
  }
 ],
 "metadata": {
  "kernelspec": {
   "display_name": "Python 3",
   "language": "python",
   "name": "python3"
  },
  "language_info": {
   "codemirror_mode": {
    "name": "ipython",
    "version": 3
   },
   "file_extension": ".py",
   "mimetype": "text/x-python",
   "name": "python",
   "nbconvert_exporter": "python",
   "pygments_lexer": "ipython3",
   "version": "3.8.3"
  }
 },
 "nbformat": 4,
 "nbformat_minor": 5
}
