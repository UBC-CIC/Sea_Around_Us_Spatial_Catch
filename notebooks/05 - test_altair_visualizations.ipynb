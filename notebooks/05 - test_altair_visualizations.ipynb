{
 "cells": [
  {
   "cell_type": "markdown",
   "id": "77fccd21",
   "metadata": {},
   "source": [
    "### Setup"
   ]
  },
  {
   "cell_type": "code",
   "execution_count": 1,
   "id": "d0445045",
   "metadata": {},
   "outputs": [],
   "source": [
    "# Uncomment this cell if necessary libraries are not already installed\n",
    "\n",
    "# ! pip install --upgrade pip\n",
    "\n",
    "# ! pip install altair\n",
    "\n",
    "# ! pip install pandas\n"
   ]
  },
  {
   "cell_type": "markdown",
   "id": "39f36d9b",
   "metadata": {},
   "source": [
    "### Import Libraries"
   ]
  },
  {
   "cell_type": "code",
   "execution_count": 2,
   "id": "aee8f561",
   "metadata": {},
   "outputs": [],
   "source": [
    "import pandas as pd\n",
    "\n",
    "import altair as alt\n"
   ]
  },
  {
   "cell_type": "code",
   "execution_count": 3,
   "id": "7e7a89d2",
   "metadata": {},
   "outputs": [
    {
     "data": {
      "text/plain": [
       "RendererRegistry.enable('default')"
      ]
     },
     "execution_count": 3,
     "metadata": {},
     "output_type": "execute_result"
    }
   ],
   "source": [
    "# disable the default 5000 limit on number of rows\n",
    "alt.data_transformers.disable_max_rows()\n",
    "\n",
    "# enable renderer\n",
    "alt.renderers.enable('default')\n"
   ]
  },
  {
   "cell_type": "markdown",
   "id": "d58582fe",
   "metadata": {},
   "source": [
    "### CloudFront domain"
   ]
  },
  {
   "cell_type": "code",
   "execution_count": 4,
   "id": "7d74862d",
   "metadata": {},
   "outputs": [
    {
     "data": {
      "text/plain": [
       "'https://d1b4l80qig6dum.cloudfront.net'"
      ]
     },
     "execution_count": 4,
     "metadata": {},
     "output_type": "execute_result"
    }
   ],
   "source": [
    "# define CloudFront domain name (to access S3)\n",
    "\n",
    "cloudfront = 'https://d1b4l80qig6dum.cloudfront.net'\n",
    "cloudfront\n"
   ]
  },
  {
   "cell_type": "markdown",
   "id": "e8ed8286",
   "metadata": {},
   "source": [
    "### Fishing entity selection"
   ]
  },
  {
   "cell_type": "code",
   "execution_count": 5,
   "id": "36f0c551",
   "metadata": {},
   "outputs": [
    {
     "data": {
      "text/plain": [
       "'Canada'"
      ]
     },
     "execution_count": 5,
     "metadata": {},
     "output_type": "execute_result"
    }
   ],
   "source": [
    "# this selection will  be based on the user input in concolidated final notebook\n",
    "\n",
    "fishing_entity_selected = 'Canada'\n",
    "fishing_entity_selected\n"
   ]
  },
  {
   "cell_type": "markdown",
   "id": "49b315e4",
   "metadata": {},
   "source": [
    "### Load EEZ data from S3 based on the fishing entity selection"
   ]
  },
  {
   "cell_type": "code",
   "execution_count": 6,
   "id": "816b7722",
   "metadata": {},
   "outputs": [
    {
     "data": {
      "text/plain": [
       "'Canada_fishing_entity_eez_data.csv'"
      ]
     },
     "execution_count": 6,
     "metadata": {},
     "output_type": "execute_result"
    }
   ],
   "source": [
    "# create the EEZ filename to be loaded based on fishing entity selected\n",
    "\n",
    "filename_eez = str(fishing_entity_selected) + '_fishing_entity_eez_data.csv'\n",
    "filename_eez\n"
   ]
  },
  {
   "cell_type": "code",
   "execution_count": 7,
   "id": "427d184c",
   "metadata": {},
   "outputs": [
    {
     "name": "stdout",
     "output_type": "stream",
     "text": [
      "(11222726, 12)\n"
     ]
    },
    {
     "data": {
      "text/html": [
       "<div>\n",
       "<style scoped>\n",
       "    .dataframe tbody tr th:only-of-type {\n",
       "        vertical-align: middle;\n",
       "    }\n",
       "\n",
       "    .dataframe tbody tr th {\n",
       "        vertical-align: top;\n",
       "    }\n",
       "\n",
       "    .dataframe thead th {\n",
       "        text-align: right;\n",
       "    }\n",
       "</style>\n",
       "<table border=\"1\" class=\"dataframe\">\n",
       "  <thead>\n",
       "    <tr style=\"text-align: right;\">\n",
       "      <th></th>\n",
       "      <th>fishing_entity_id</th>\n",
       "      <th>cell_id</th>\n",
       "      <th>lon</th>\n",
       "      <th>lat</th>\n",
       "      <th>eez_id</th>\n",
       "      <th>taxon_key</th>\n",
       "      <th>reporting_status_id</th>\n",
       "      <th>sector_type_id</th>\n",
       "      <th>catch_type_id</th>\n",
       "      <th>gear_type_id</th>\n",
       "      <th>year</th>\n",
       "      <th>catch_sum</th>\n",
       "    </tr>\n",
       "  </thead>\n",
       "  <tbody>\n",
       "    <tr>\n",
       "      <th>0</th>\n",
       "      <td>26</td>\n",
       "      <td>16770</td>\n",
       "      <td>-75.25</td>\n",
       "      <td>78.25</td>\n",
       "      <td>924</td>\n",
       "      <td>100039</td>\n",
       "      <td>1</td>\n",
       "      <td>1</td>\n",
       "      <td>1</td>\n",
       "      <td>1</td>\n",
       "      <td>2006</td>\n",
       "      <td>0.904239</td>\n",
       "    </tr>\n",
       "    <tr>\n",
       "      <th>1</th>\n",
       "      <td>26</td>\n",
       "      <td>16770</td>\n",
       "      <td>-75.25</td>\n",
       "      <td>78.25</td>\n",
       "      <td>924</td>\n",
       "      <td>100039</td>\n",
       "      <td>1</td>\n",
       "      <td>1</td>\n",
       "      <td>1</td>\n",
       "      <td>1</td>\n",
       "      <td>2007</td>\n",
       "      <td>0.956645</td>\n",
       "    </tr>\n",
       "    <tr>\n",
       "      <th>2</th>\n",
       "      <td>26</td>\n",
       "      <td>16770</td>\n",
       "      <td>-75.25</td>\n",
       "      <td>78.25</td>\n",
       "      <td>924</td>\n",
       "      <td>100039</td>\n",
       "      <td>1</td>\n",
       "      <td>1</td>\n",
       "      <td>1</td>\n",
       "      <td>1</td>\n",
       "      <td>2008</td>\n",
       "      <td>0.835748</td>\n",
       "    </tr>\n",
       "  </tbody>\n",
       "</table>\n",
       "</div>"
      ],
      "text/plain": [
       "   fishing_entity_id  cell_id    lon    lat  eez_id  taxon_key  \\\n",
       "0                 26    16770 -75.25  78.25     924     100039   \n",
       "1                 26    16770 -75.25  78.25     924     100039   \n",
       "2                 26    16770 -75.25  78.25     924     100039   \n",
       "\n",
       "   reporting_status_id  sector_type_id  catch_type_id  gear_type_id  year  \\\n",
       "0                    1               1              1             1  2006   \n",
       "1                    1               1              1             1  2007   \n",
       "2                    1               1              1             1  2008   \n",
       "\n",
       "   catch_sum  \n",
       "0   0.904239  \n",
       "1   0.956645  \n",
       "2   0.835748  "
      ]
     },
     "execution_count": 7,
     "metadata": {},
     "output_type": "execute_result"
    }
   ],
   "source": [
    "# data is in a subfolder 'fishing_entity_data' on the S3 bucket\n",
    "# define CloudFront access location format for EEZ data\n",
    "\n",
    "eez_data_key = 'fishing_entity_data/' + filename_eez\n",
    "eez_data_location = '{}/{}'.format(cloudfront, eez_data_key)\n",
    "\n",
    "# load the EEZ data using Pandas\n",
    "df_eez = pd.read_csv(eez_data_location)\n",
    "\n",
    "# print the number of records & columns, and also display the sample EEZ data\n",
    "print(df_eez.shape)\n",
    "df_eez.head(3)\n"
   ]
  },
  {
   "cell_type": "markdown",
   "id": "d406a2fa",
   "metadata": {},
   "source": [
    "### Sector type lookup by ID"
   ]
  },
  {
   "cell_type": "code",
   "execution_count": 8,
   "id": "4f288d51",
   "metadata": {},
   "outputs": [
    {
     "name": "stdout",
     "output_type": "stream",
     "text": [
      "(4, 2)\n"
     ]
    },
    {
     "data": {
      "text/html": [
       "<div>\n",
       "<style scoped>\n",
       "    .dataframe tbody tr th:only-of-type {\n",
       "        vertical-align: middle;\n",
       "    }\n",
       "\n",
       "    .dataframe tbody tr th {\n",
       "        vertical-align: top;\n",
       "    }\n",
       "\n",
       "    .dataframe thead th {\n",
       "        text-align: right;\n",
       "    }\n",
       "</style>\n",
       "<table border=\"1\" class=\"dataframe\">\n",
       "  <thead>\n",
       "    <tr style=\"text-align: right;\">\n",
       "      <th></th>\n",
       "      <th>sector_type_id</th>\n",
       "      <th>sector_type</th>\n",
       "    </tr>\n",
       "  </thead>\n",
       "  <tbody>\n",
       "    <tr>\n",
       "      <th>0</th>\n",
       "      <td>1</td>\n",
       "      <td>Industrial</td>\n",
       "    </tr>\n",
       "    <tr>\n",
       "      <th>1</th>\n",
       "      <td>2</td>\n",
       "      <td>Subsistence</td>\n",
       "    </tr>\n",
       "    <tr>\n",
       "      <th>2</th>\n",
       "      <td>3</td>\n",
       "      <td>Artisanal</td>\n",
       "    </tr>\n",
       "    <tr>\n",
       "      <th>3</th>\n",
       "      <td>4</td>\n",
       "      <td>Recreational</td>\n",
       "    </tr>\n",
       "  </tbody>\n",
       "</table>\n",
       "</div>"
      ],
      "text/plain": [
       "   sector_type_id   sector_type\n",
       "0               1    Industrial\n",
       "1               2   Subsistence\n",
       "2               3     Artisanal\n",
       "3               4  Recreational"
      ]
     },
     "execution_count": 8,
     "metadata": {},
     "output_type": "execute_result"
    }
   ],
   "source": [
    "# data is in a subfolder 'reference_tables' on the S3 bucket\n",
    "# define CloudFront access location format for SECTOR TYPE lookup data\n",
    "\n",
    "sector_lookup_key = 'reference_tables/sector_type.csv'\n",
    "sector_lookup_data_location = '{}/{}'.format(cloudfront, sector_lookup_key)\n",
    "\n",
    "# load the SECTOR TYPE lookup data using Pandas\n",
    "sector_lookup = pd.read_csv(sector_lookup_data_location)\n",
    "\n",
    "# rename column name to sector_type\n",
    "sector_lookup.rename(columns = {\"name\": \"sector_type\"}, inplace = True)\n",
    "\n",
    "# print the number of records & columns, and also display the sample data\n",
    "print(sector_lookup.shape)\n",
    "sector_lookup.head()\n"
   ]
  },
  {
   "cell_type": "markdown",
   "id": "4cfe1631",
   "metadata": {},
   "source": [
    "### Aggregate catch by sector type ID and merge with lookup to get Sector type name"
   ]
  },
  {
   "cell_type": "code",
   "execution_count": 9,
   "id": "969e44a4",
   "metadata": {},
   "outputs": [
    {
     "data": {
      "text/html": [
       "<div>\n",
       "<style scoped>\n",
       "    .dataframe tbody tr th:only-of-type {\n",
       "        vertical-align: middle;\n",
       "    }\n",
       "\n",
       "    .dataframe tbody tr th {\n",
       "        vertical-align: top;\n",
       "    }\n",
       "\n",
       "    .dataframe thead th {\n",
       "        text-align: right;\n",
       "    }\n",
       "</style>\n",
       "<table border=\"1\" class=\"dataframe\">\n",
       "  <thead>\n",
       "    <tr style=\"text-align: right;\">\n",
       "      <th></th>\n",
       "      <th>sector_type_id</th>\n",
       "      <th>year</th>\n",
       "      <th>catch_sum</th>\n",
       "    </tr>\n",
       "  </thead>\n",
       "  <tbody>\n",
       "    <tr>\n",
       "      <th>0</th>\n",
       "      <td>1</td>\n",
       "      <td>1950</td>\n",
       "      <td>652905.375452</td>\n",
       "    </tr>\n",
       "    <tr>\n",
       "      <th>1</th>\n",
       "      <td>1</td>\n",
       "      <td>1951</td>\n",
       "      <td>677837.133408</td>\n",
       "    </tr>\n",
       "    <tr>\n",
       "      <th>2</th>\n",
       "      <td>1</td>\n",
       "      <td>1952</td>\n",
       "      <td>635820.514578</td>\n",
       "    </tr>\n",
       "  </tbody>\n",
       "</table>\n",
       "</div>"
      ],
      "text/plain": [
       "   sector_type_id  year      catch_sum\n",
       "0               1  1950  652905.375452\n",
       "1               1  1951  677837.133408\n",
       "2               1  1952  635820.514578"
      ]
     },
     "execution_count": 9,
     "metadata": {},
     "output_type": "execute_result"
    }
   ],
   "source": [
    "# aggregate the catch_sum for every Sector type by year\n",
    "\n",
    "df_sector_catch = df_eez.groupby(['sector_type_id', 'year'], as_index = False)[['catch_sum']].sum().copy()\n",
    "df_sector_catch.head(3)\n"
   ]
  },
  {
   "cell_type": "code",
   "execution_count": 10,
   "id": "45e87f64",
   "metadata": {},
   "outputs": [
    {
     "name": "stdout",
     "output_type": "stream",
     "text": [
      "(276, 4)\n"
     ]
    },
    {
     "data": {
      "text/html": [
       "<div>\n",
       "<style scoped>\n",
       "    .dataframe tbody tr th:only-of-type {\n",
       "        vertical-align: middle;\n",
       "    }\n",
       "\n",
       "    .dataframe tbody tr th {\n",
       "        vertical-align: top;\n",
       "    }\n",
       "\n",
       "    .dataframe thead th {\n",
       "        text-align: right;\n",
       "    }\n",
       "</style>\n",
       "<table border=\"1\" class=\"dataframe\">\n",
       "  <thead>\n",
       "    <tr style=\"text-align: right;\">\n",
       "      <th></th>\n",
       "      <th>sector_type_id</th>\n",
       "      <th>year</th>\n",
       "      <th>catch_sum</th>\n",
       "      <th>sector_type</th>\n",
       "    </tr>\n",
       "  </thead>\n",
       "  <tbody>\n",
       "    <tr>\n",
       "      <th>0</th>\n",
       "      <td>1</td>\n",
       "      <td>1950</td>\n",
       "      <td>652905.375452</td>\n",
       "      <td>Industrial</td>\n",
       "    </tr>\n",
       "    <tr>\n",
       "      <th>1</th>\n",
       "      <td>1</td>\n",
       "      <td>1951</td>\n",
       "      <td>677837.133408</td>\n",
       "      <td>Industrial</td>\n",
       "    </tr>\n",
       "    <tr>\n",
       "      <th>2</th>\n",
       "      <td>1</td>\n",
       "      <td>1952</td>\n",
       "      <td>635820.514578</td>\n",
       "      <td>Industrial</td>\n",
       "    </tr>\n",
       "    <tr>\n",
       "      <th>3</th>\n",
       "      <td>1</td>\n",
       "      <td>1953</td>\n",
       "      <td>707227.293922</td>\n",
       "      <td>Industrial</td>\n",
       "    </tr>\n",
       "    <tr>\n",
       "      <th>4</th>\n",
       "      <td>1</td>\n",
       "      <td>1954</td>\n",
       "      <td>939536.957707</td>\n",
       "      <td>Industrial</td>\n",
       "    </tr>\n",
       "  </tbody>\n",
       "</table>\n",
       "</div>"
      ],
      "text/plain": [
       "   sector_type_id  year      catch_sum sector_type\n",
       "0               1  1950  652905.375452  Industrial\n",
       "1               1  1951  677837.133408  Industrial\n",
       "2               1  1952  635820.514578  Industrial\n",
       "3               1  1953  707227.293922  Industrial\n",
       "4               1  1954  939536.957707  Industrial"
      ]
     },
     "execution_count": 10,
     "metadata": {},
     "output_type": "execute_result"
    }
   ],
   "source": [
    "# merge above data by id to get the sector type name\n",
    "\n",
    "df_sector_catch = pd.merge(df_sector_catch, sector_lookup, on = 'sector_type_id', how = 'inner')\n",
    "\n",
    "# print the number of records & columns, and also display the sample LME data\n",
    "print(df_sector_catch.shape)\n",
    "df_sector_catch.head()\n"
   ]
  },
  {
   "cell_type": "code",
   "execution_count": 11,
   "id": "30034525",
   "metadata": {},
   "outputs": [
    {
     "data": {
      "text/plain": [
       "Industrial      69\n",
       "Subsistence     69\n",
       "Artisanal       69\n",
       "Recreational    69\n",
       "Name: sector_type, dtype: int64"
      ]
     },
     "execution_count": 11,
     "metadata": {},
     "output_type": "execute_result"
    }
   ],
   "source": [
    "# verify if all sector type names are loaded (print # of records for each)\n",
    "\n",
    "df_sector_catch['sector_type'].value_counts()\n"
   ]
  },
  {
   "cell_type": "markdown",
   "id": "729caf54",
   "metadata": {},
   "source": [
    "### Altair visualization"
   ]
  },
  {
   "cell_type": "code",
   "execution_count": 14,
   "id": "53b13004",
   "metadata": {},
   "outputs": [
    {
     "data": {
      "text/html": [
       "\n",
       "<div id=\"altair-viz-c071d0e8898d42c68e2cbbda58bef8fc\"></div>\n",
       "<script type=\"text/javascript\">\n",
       "  (function(spec, embedOpt){\n",
       "    let outputDiv = document.currentScript.previousElementSibling;\n",
       "    if (outputDiv.id !== \"altair-viz-c071d0e8898d42c68e2cbbda58bef8fc\") {\n",
       "      outputDiv = document.getElementById(\"altair-viz-c071d0e8898d42c68e2cbbda58bef8fc\");\n",
       "    }\n",
       "    const paths = {\n",
       "      \"vega\": \"https://cdn.jsdelivr.net/npm//vega@5?noext\",\n",
       "      \"vega-lib\": \"https://cdn.jsdelivr.net/npm//vega-lib?noext\",\n",
       "      \"vega-lite\": \"https://cdn.jsdelivr.net/npm//vega-lite@4.8.1?noext\",\n",
       "      \"vega-embed\": \"https://cdn.jsdelivr.net/npm//vega-embed@6?noext\",\n",
       "    };\n",
       "\n",
       "    function loadScript(lib) {\n",
       "      return new Promise(function(resolve, reject) {\n",
       "        var s = document.createElement('script');\n",
       "        s.src = paths[lib];\n",
       "        s.async = true;\n",
       "        s.onload = () => resolve(paths[lib]);\n",
       "        s.onerror = () => reject(`Error loading script: ${paths[lib]}`);\n",
       "        document.getElementsByTagName(\"head\")[0].appendChild(s);\n",
       "      });\n",
       "    }\n",
       "\n",
       "    function showError(err) {\n",
       "      outputDiv.innerHTML = `<div class=\"error\" style=\"color:red;\">${err}</div>`;\n",
       "      throw err;\n",
       "    }\n",
       "\n",
       "    function displayChart(vegaEmbed) {\n",
       "      vegaEmbed(outputDiv, spec, embedOpt)\n",
       "        .catch(err => showError(`Javascript Error: ${err.message}<br>This usually means there's a typo in your chart specification. See the javascript console for the full traceback.`));\n",
       "    }\n",
       "\n",
       "    if(typeof define === \"function\" && define.amd) {\n",
       "      requirejs.config({paths});\n",
       "      require([\"vega-embed\"], displayChart, err => showError(`Error loading script: ${err.message}`));\n",
       "    } else if (typeof vegaEmbed === \"function\") {\n",
       "      displayChart(vegaEmbed);\n",
       "    } else {\n",
       "      loadScript(\"vega\")\n",
       "        .then(() => loadScript(\"vega-lite\"))\n",
       "        .then(() => loadScript(\"vega-embed\"))\n",
       "        .catch(showError)\n",
       "        .then(() => displayChart(vegaEmbed));\n",
       "    }\n",
       "  })({\"config\": {\"view\": {\"continuousWidth\": 400, \"continuousHeight\": 300}, \"axis\": {\"titleColor\": \"steelblue\"}, \"legend\": {\"orient\": \"right\"}, \"title\": {\"color\": \"teal\", \"fontSize\": 18}}, \"data\": {\"name\": \"data-38084f5589323e7863e34e4906ddace6\"}, \"mark\": \"area\", \"encoding\": {\"color\": {\"type\": \"nominal\", \"field\": \"sector_type\", \"legend\": {\"labelColor\": \"steelblue\", \"labelFontSize\": 16, \"title\": \"Sector type\", \"titleColor\": \"steelblue\", \"titleFontSize\": 16}}, \"row\": {\"type\": \"nominal\", \"field\": \"sector_type\"}, \"tooltip\": [{\"type\": \"quantitative\", \"field\": \"year\"}, {\"type\": \"nominal\", \"field\": \"sector_type\"}, {\"type\": \"quantitative\", \"field\": \"catch_sum\"}], \"x\": {\"type\": \"nominal\", \"axis\": {\"grid\": false, \"labelExpr\": \"datum.value % 2 ? null : datum.label\", \"labelFontSize\": 14, \"tickCount\": 276, \"titleFontSize\": 14}, \"field\": \"year\", \"title\": \"Year\"}, \"y\": {\"type\": \"quantitative\", \"aggregate\": \"sum\", \"axis\": {\"labelFontSize\": 14, \"titleFontSize\": 14}, \"field\": \"catch_sum\", \"title\": \"Total Catch\"}}, \"height\": 150, \"resolve\": {\"scale\": {\"y\": \"independent\"}}, \"title\": \"Total Catch by Sector type trend\", \"width\": 600, \"$schema\": \"https://vega.github.io/schema/vega-lite/v4.8.1.json\", \"datasets\": {\"data-38084f5589323e7863e34e4906ddace6\": [{\"sector_type_id\": 1, \"year\": 1950, \"catch_sum\": 652905.375452393, \"sector_type\": \"Industrial\"}, {\"sector_type_id\": 1, \"year\": 1951, \"catch_sum\": 677837.1334080496, \"sector_type\": \"Industrial\"}, {\"sector_type_id\": 1, \"year\": 1952, \"catch_sum\": 635820.514578057, \"sector_type\": \"Industrial\"}, {\"sector_type_id\": 1, \"year\": 1953, \"catch_sum\": 707227.2939217057, \"sector_type\": \"Industrial\"}, {\"sector_type_id\": 1, \"year\": 1954, \"catch_sum\": 939536.957706618, \"sector_type\": \"Industrial\"}, {\"sector_type_id\": 1, \"year\": 1955, \"catch_sum\": 938236.5819394091, \"sector_type\": \"Industrial\"}, {\"sector_type_id\": 1, \"year\": 1956, \"catch_sum\": 1185707.539576039, \"sector_type\": \"Industrial\"}, {\"sector_type_id\": 1, \"year\": 1957, \"catch_sum\": 1133602.6073925986, \"sector_type\": \"Industrial\"}, {\"sector_type_id\": 1, \"year\": 1958, \"catch_sum\": 1158342.4749838246, \"sector_type\": \"Industrial\"}, {\"sector_type_id\": 1, \"year\": 1959, \"catch_sum\": 1310568.9400214865, \"sector_type\": \"Industrial\"}, {\"sector_type_id\": 1, \"year\": 1960, \"catch_sum\": 1254504.8720975071, \"sector_type\": \"Industrial\"}, {\"sector_type_id\": 1, \"year\": 1961, \"catch_sum\": 1431436.5327468545, \"sector_type\": \"Industrial\"}, {\"sector_type_id\": 1, \"year\": 1962, \"catch_sum\": 1554961.555114404, \"sector_type\": \"Industrial\"}, {\"sector_type_id\": 1, \"year\": 1963, \"catch_sum\": 1662380.7977680145, \"sector_type\": \"Industrial\"}, {\"sector_type_id\": 1, \"year\": 1964, \"catch_sum\": 1615872.414423605, \"sector_type\": \"Industrial\"}, {\"sector_type_id\": 1, \"year\": 1965, \"catch_sum\": 1604977.0589323896, \"sector_type\": \"Industrial\"}, {\"sector_type_id\": 1, \"year\": 1966, \"catch_sum\": 1706403.9893033723, \"sector_type\": \"Industrial\"}, {\"sector_type_id\": 1, \"year\": 1967, \"catch_sum\": 1531056.8348365559, \"sector_type\": \"Industrial\"}, {\"sector_type_id\": 1, \"year\": 1968, \"catch_sum\": 1661646.689953862, \"sector_type\": \"Industrial\"}, {\"sector_type_id\": 1, \"year\": 1969, \"catch_sum\": 1474845.521375726, \"sector_type\": \"Industrial\"}, {\"sector_type_id\": 1, \"year\": 1970, \"catch_sum\": 1432998.5638532634, \"sector_type\": \"Industrial\"}, {\"sector_type_id\": 1, \"year\": 1971, \"catch_sum\": 1310468.4622419681, \"sector_type\": \"Industrial\"}, {\"sector_type_id\": 1, \"year\": 1972, \"catch_sum\": 1188469.7661621307, \"sector_type\": \"Industrial\"}, {\"sector_type_id\": 1, \"year\": 1973, \"catch_sum\": 1142365.9137572935, \"sector_type\": \"Industrial\"}, {\"sector_type_id\": 1, \"year\": 1974, \"catch_sum\": 938082.2072174525, \"sector_type\": \"Industrial\"}, {\"sector_type_id\": 1, \"year\": 1975, \"catch_sum\": 924830.4754693998, \"sector_type\": \"Industrial\"}, {\"sector_type_id\": 1, \"year\": 1976, \"catch_sum\": 1009550.8557968263, \"sector_type\": \"Industrial\"}, {\"sector_type_id\": 1, \"year\": 1977, \"catch_sum\": 1111966.4748341558, \"sector_type\": \"Industrial\"}, {\"sector_type_id\": 1, \"year\": 1978, \"catch_sum\": 1118584.3587139547, \"sector_type\": \"Industrial\"}, {\"sector_type_id\": 1, \"year\": 1979, \"catch_sum\": 1182395.330193647, \"sector_type\": \"Industrial\"}, {\"sector_type_id\": 1, \"year\": 1980, \"catch_sum\": 998326.9579487265, \"sector_type\": \"Industrial\"}, {\"sector_type_id\": 1, \"year\": 1981, \"catch_sum\": 971070.2948721991, \"sector_type\": \"Industrial\"}, {\"sector_type_id\": 1, \"year\": 1982, \"catch_sum\": 957596.2597885994, \"sector_type\": \"Industrial\"}, {\"sector_type_id\": 1, \"year\": 1983, \"catch_sum\": 948142.4500489358, \"sector_type\": \"Industrial\"}, {\"sector_type_id\": 1, \"year\": 1984, \"catch_sum\": 895073.5114849788, \"sector_type\": \"Industrial\"}, {\"sector_type_id\": 1, \"year\": 1985, \"catch_sum\": 1025489.9617665168, \"sector_type\": \"Industrial\"}, {\"sector_type_id\": 1, \"year\": 1986, \"catch_sum\": 1095641.5786895794, \"sector_type\": \"Industrial\"}, {\"sector_type_id\": 1, \"year\": 1987, \"catch_sum\": 1176064.5530141774, \"sector_type\": \"Industrial\"}, {\"sector_type_id\": 1, \"year\": 1988, \"catch_sum\": 1268964.672000748, \"sector_type\": \"Industrial\"}, {\"sector_type_id\": 1, \"year\": 1989, \"catch_sum\": 1264399.0132372912, \"sector_type\": \"Industrial\"}, {\"sector_type_id\": 1, \"year\": 1990, \"catch_sum\": 1327278.0416119776, \"sector_type\": \"Industrial\"}, {\"sector_type_id\": 1, \"year\": 1991, \"catch_sum\": 1206533.3871688335, \"sector_type\": \"Industrial\"}, {\"sector_type_id\": 1, \"year\": 1992, \"catch_sum\": 1144789.185434902, \"sector_type\": \"Industrial\"}, {\"sector_type_id\": 1, \"year\": 1993, \"catch_sum\": 1032297.7176131629, \"sector_type\": \"Industrial\"}, {\"sector_type_id\": 1, \"year\": 1994, \"catch_sum\": 979191.3294518719, \"sector_type\": \"Industrial\"}, {\"sector_type_id\": 1, \"year\": 1995, \"catch_sum\": 800377.4292980793, \"sector_type\": \"Industrial\"}, {\"sector_type_id\": 1, \"year\": 1996, \"catch_sum\": 839498.0199695152, \"sector_type\": \"Industrial\"}, {\"sector_type_id\": 1, \"year\": 1997, \"catch_sum\": 906671.7757216544, \"sector_type\": \"Industrial\"}, {\"sector_type_id\": 1, \"year\": 1998, \"catch_sum\": 929252.9676387308, \"sector_type\": \"Industrial\"}, {\"sector_type_id\": 1, \"year\": 1999, \"catch_sum\": 943182.7165668397, \"sector_type\": \"Industrial\"}, {\"sector_type_id\": 1, \"year\": 2000, \"catch_sum\": 924781.4431710199, \"sector_type\": \"Industrial\"}, {\"sector_type_id\": 1, \"year\": 2001, \"catch_sum\": 1012459.0492266273, \"sector_type\": \"Industrial\"}, {\"sector_type_id\": 1, \"year\": 2002, \"catch_sum\": 989787.0260240214, \"sector_type\": \"Industrial\"}, {\"sector_type_id\": 1, \"year\": 2003, \"catch_sum\": 1035715.0966042505, \"sector_type\": \"Industrial\"}, {\"sector_type_id\": 1, \"year\": 2004, \"catch_sum\": 1112293.6214280524, \"sector_type\": \"Industrial\"}, {\"sector_type_id\": 1, \"year\": 2005, \"catch_sum\": 1045398.922353593, \"sector_type\": \"Industrial\"}, {\"sector_type_id\": 1, \"year\": 2006, \"catch_sum\": 1021924.898139544, \"sector_type\": \"Industrial\"}, {\"sector_type_id\": 1, \"year\": 2007, \"catch_sum\": 962712.4906006455, \"sector_type\": \"Industrial\"}, {\"sector_type_id\": 1, \"year\": 2008, \"catch_sum\": 923087.5083071532, \"sector_type\": \"Industrial\"}, {\"sector_type_id\": 1, \"year\": 2009, \"catch_sum\": 911486.6783660788, \"sector_type\": \"Industrial\"}, {\"sector_type_id\": 1, \"year\": 2010, \"catch_sum\": 903575.4977777209, \"sector_type\": \"Industrial\"}, {\"sector_type_id\": 1, \"year\": 2011, \"catch_sum\": 890042.7974114463, \"sector_type\": \"Industrial\"}, {\"sector_type_id\": 1, \"year\": 2012, \"catch_sum\": 836758.1550610034, \"sector_type\": \"Industrial\"}, {\"sector_type_id\": 1, \"year\": 2013, \"catch_sum\": 848373.3055980374, \"sector_type\": \"Industrial\"}, {\"sector_type_id\": 1, \"year\": 2014, \"catch_sum\": 852902.6824364202, \"sector_type\": \"Industrial\"}, {\"sector_type_id\": 1, \"year\": 2015, \"catch_sum\": 822142.7157348747, \"sector_type\": \"Industrial\"}, {\"sector_type_id\": 1, \"year\": 2016, \"catch_sum\": 842309.1557565371, \"sector_type\": \"Industrial\"}, {\"sector_type_id\": 1, \"year\": 2017, \"catch_sum\": 830315.6546422103, \"sector_type\": \"Industrial\"}, {\"sector_type_id\": 1, \"year\": 2018, \"catch_sum\": 838360.3115692983, \"sector_type\": \"Industrial\"}, {\"sector_type_id\": 2, \"year\": 1950, \"catch_sum\": 24382.565081095134, \"sector_type\": \"Subsistence\"}, {\"sector_type_id\": 2, \"year\": 1951, \"catch_sum\": 24006.92304277834, \"sector_type\": \"Subsistence\"}, {\"sector_type_id\": 2, \"year\": 1952, \"catch_sum\": 24465.48725260432, \"sector_type\": \"Subsistence\"}, {\"sector_type_id\": 2, \"year\": 1953, \"catch_sum\": 25111.520331708776, \"sector_type\": \"Subsistence\"}, {\"sector_type_id\": 2, \"year\": 1954, \"catch_sum\": 25280.133257588463, \"sector_type\": \"Subsistence\"}, {\"sector_type_id\": 2, \"year\": 1955, \"catch_sum\": 25497.295342403602, \"sector_type\": \"Subsistence\"}, {\"sector_type_id\": 2, \"year\": 1956, \"catch_sum\": 25647.45623640799, \"sector_type\": \"Subsistence\"}, {\"sector_type_id\": 2, \"year\": 1957, \"catch_sum\": 26456.413849224282, \"sector_type\": \"Subsistence\"}, {\"sector_type_id\": 2, \"year\": 1958, \"catch_sum\": 26671.94773365038, \"sector_type\": \"Subsistence\"}, {\"sector_type_id\": 2, \"year\": 1959, \"catch_sum\": 26945.864090132516, \"sector_type\": \"Subsistence\"}, {\"sector_type_id\": 2, \"year\": 1960, \"catch_sum\": 27239.0615860552, \"sector_type\": \"Subsistence\"}, {\"sector_type_id\": 2, \"year\": 1961, \"catch_sum\": 27625.18346886669, \"sector_type\": \"Subsistence\"}, {\"sector_type_id\": 2, \"year\": 1962, \"catch_sum\": 27718.305611550284, \"sector_type\": \"Subsistence\"}, {\"sector_type_id\": 2, \"year\": 1963, \"catch_sum\": 27872.69951453061, \"sector_type\": \"Subsistence\"}, {\"sector_type_id\": 2, \"year\": 1964, \"catch_sum\": 27378.5695844591, \"sector_type\": \"Subsistence\"}, {\"sector_type_id\": 2, \"year\": 1965, \"catch_sum\": 27435.368338908273, \"sector_type\": \"Subsistence\"}, {\"sector_type_id\": 2, \"year\": 1966, \"catch_sum\": 27340.725018963556, \"sector_type\": \"Subsistence\"}, {\"sector_type_id\": 2, \"year\": 1967, \"catch_sum\": 27113.87247729662, \"sector_type\": \"Subsistence\"}, {\"sector_type_id\": 2, \"year\": 1968, \"catch_sum\": 27647.008036482344, \"sector_type\": \"Subsistence\"}, {\"sector_type_id\": 2, \"year\": 1969, \"catch_sum\": 27409.14213350813, \"sector_type\": \"Subsistence\"}, {\"sector_type_id\": 2, \"year\": 1970, \"catch_sum\": 27381.89171245049, \"sector_type\": \"Subsistence\"}, {\"sector_type_id\": 2, \"year\": 1971, \"catch_sum\": 27217.131004230014, \"sector_type\": \"Subsistence\"}, {\"sector_type_id\": 2, \"year\": 1972, \"catch_sum\": 26958.81765823495, \"sector_type\": \"Subsistence\"}, {\"sector_type_id\": 2, \"year\": 1973, \"catch_sum\": 26870.70718298583, \"sector_type\": \"Subsistence\"}, {\"sector_type_id\": 2, \"year\": 1974, \"catch_sum\": 26552.206926099723, \"sector_type\": \"Subsistence\"}, {\"sector_type_id\": 2, \"year\": 1975, \"catch_sum\": 26404.520598043975, \"sector_type\": \"Subsistence\"}, {\"sector_type_id\": 2, \"year\": 1976, \"catch_sum\": 26667.03496696924, \"sector_type\": \"Subsistence\"}, {\"sector_type_id\": 2, \"year\": 1977, \"catch_sum\": 26964.914374608572, \"sector_type\": \"Subsistence\"}, {\"sector_type_id\": 2, \"year\": 1978, \"catch_sum\": 26990.710600301532, \"sector_type\": \"Subsistence\"}, {\"sector_type_id\": 2, \"year\": 1979, \"catch_sum\": 27145.21299274691, \"sector_type\": \"Subsistence\"}, {\"sector_type_id\": 2, \"year\": 1980, \"catch_sum\": 26930.773075405727, \"sector_type\": \"Subsistence\"}, {\"sector_type_id\": 2, \"year\": 1981, \"catch_sum\": 27529.463197648984, \"sector_type\": \"Subsistence\"}, {\"sector_type_id\": 2, \"year\": 1982, \"catch_sum\": 28265.669554165837, \"sector_type\": \"Subsistence\"}, {\"sector_type_id\": 2, \"year\": 1983, \"catch_sum\": 27531.20557972396, \"sector_type\": \"Subsistence\"}, {\"sector_type_id\": 2, \"year\": 1984, \"catch_sum\": 27086.649405673495, \"sector_type\": \"Subsistence\"}, {\"sector_type_id\": 2, \"year\": 1985, \"catch_sum\": 27146.352151298728, \"sector_type\": \"Subsistence\"}, {\"sector_type_id\": 2, \"year\": 1986, \"catch_sum\": 27048.213066189473, \"sector_type\": \"Subsistence\"}, {\"sector_type_id\": 2, \"year\": 1987, \"catch_sum\": 26443.354263280522, \"sector_type\": \"Subsistence\"}, {\"sector_type_id\": 2, \"year\": 1988, \"catch_sum\": 25670.388203230566, \"sector_type\": \"Subsistence\"}, {\"sector_type_id\": 2, \"year\": 1989, \"catch_sum\": 25885.072583999252, \"sector_type\": \"Subsistence\"}, {\"sector_type_id\": 2, \"year\": 1990, \"catch_sum\": 26453.190516515613, \"sector_type\": \"Subsistence\"}, {\"sector_type_id\": 2, \"year\": 1991, \"catch_sum\": 26098.55895287981, \"sector_type\": \"Subsistence\"}, {\"sector_type_id\": 2, \"year\": 1992, \"catch_sum\": 25629.51588515057, \"sector_type\": \"Subsistence\"}, {\"sector_type_id\": 2, \"year\": 1993, \"catch_sum\": 30411.118414035504, \"sector_type\": \"Subsistence\"}, {\"sector_type_id\": 2, \"year\": 1994, \"catch_sum\": 29616.411681810216, \"sector_type\": \"Subsistence\"}, {\"sector_type_id\": 2, \"year\": 1995, \"catch_sum\": 23779.05040888888, \"sector_type\": \"Subsistence\"}, {\"sector_type_id\": 2, \"year\": 1996, \"catch_sum\": 23021.95387528096, \"sector_type\": \"Subsistence\"}, {\"sector_type_id\": 2, \"year\": 1997, \"catch_sum\": 23958.80814031358, \"sector_type\": \"Subsistence\"}, {\"sector_type_id\": 2, \"year\": 1998, \"catch_sum\": 22546.325106973592, \"sector_type\": \"Subsistence\"}, {\"sector_type_id\": 2, \"year\": 1999, \"catch_sum\": 20149.503642272382, \"sector_type\": \"Subsistence\"}, {\"sector_type_id\": 2, \"year\": 2000, \"catch_sum\": 20258.31290234549, \"sector_type\": \"Subsistence\"}, {\"sector_type_id\": 2, \"year\": 2001, \"catch_sum\": 20069.647447514228, \"sector_type\": \"Subsistence\"}, {\"sector_type_id\": 2, \"year\": 2002, \"catch_sum\": 20918.34771464, \"sector_type\": \"Subsistence\"}, {\"sector_type_id\": 2, \"year\": 2003, \"catch_sum\": 20828.37690306125, \"sector_type\": \"Subsistence\"}, {\"sector_type_id\": 2, \"year\": 2004, \"catch_sum\": 20213.662171792745, \"sector_type\": \"Subsistence\"}, {\"sector_type_id\": 2, \"year\": 2005, \"catch_sum\": 18772.214519966903, \"sector_type\": \"Subsistence\"}, {\"sector_type_id\": 2, \"year\": 2006, \"catch_sum\": 19060.672297789293, \"sector_type\": \"Subsistence\"}, {\"sector_type_id\": 2, \"year\": 2007, \"catch_sum\": 17218.232521890466, \"sector_type\": \"Subsistence\"}, {\"sector_type_id\": 2, \"year\": 2008, \"catch_sum\": 16710.380458478925, \"sector_type\": \"Subsistence\"}, {\"sector_type_id\": 2, \"year\": 2009, \"catch_sum\": 16413.840819407505, \"sector_type\": \"Subsistence\"}, {\"sector_type_id\": 2, \"year\": 2010, \"catch_sum\": 18171.735105781714, \"sector_type\": \"Subsistence\"}, {\"sector_type_id\": 2, \"year\": 2011, \"catch_sum\": 16920.11954274874, \"sector_type\": \"Subsistence\"}, {\"sector_type_id\": 2, \"year\": 2012, \"catch_sum\": 16992.99001831832, \"sector_type\": \"Subsistence\"}, {\"sector_type_id\": 2, \"year\": 2013, \"catch_sum\": 17570.94423560534, \"sector_type\": \"Subsistence\"}, {\"sector_type_id\": 2, \"year\": 2014, \"catch_sum\": 19230.34363048453, \"sector_type\": \"Subsistence\"}, {\"sector_type_id\": 2, \"year\": 2015, \"catch_sum\": 19421.56600367518, \"sector_type\": \"Subsistence\"}, {\"sector_type_id\": 2, \"year\": 2016, \"catch_sum\": 20168.288660410555, \"sector_type\": \"Subsistence\"}, {\"sector_type_id\": 2, \"year\": 2017, \"catch_sum\": 19934.777931189004, \"sector_type\": \"Subsistence\"}, {\"sector_type_id\": 2, \"year\": 2018, \"catch_sum\": 17964.413435902727, \"sector_type\": \"Subsistence\"}, {\"sector_type_id\": 3, \"year\": 1950, \"catch_sum\": 462861.0152922405, \"sector_type\": \"Artisanal\"}, {\"sector_type_id\": 3, \"year\": 1951, \"catch_sum\": 442616.5087733203, \"sector_type\": \"Artisanal\"}, {\"sector_type_id\": 3, \"year\": 1952, \"catch_sum\": 441962.43109820125, \"sector_type\": \"Artisanal\"}, {\"sector_type_id\": 3, \"year\": 1953, \"catch_sum\": 383261.41724835197, \"sector_type\": \"Artisanal\"}, {\"sector_type_id\": 3, \"year\": 1954, \"catch_sum\": 518801.8604504398, \"sector_type\": \"Artisanal\"}, {\"sector_type_id\": 3, \"year\": 1955, \"catch_sum\": 485175.0248191668, \"sector_type\": \"Artisanal\"}, {\"sector_type_id\": 3, \"year\": 1956, \"catch_sum\": 527072.9825804569, \"sector_type\": \"Artisanal\"}, {\"sector_type_id\": 3, \"year\": 1957, \"catch_sum\": 491317.5025875871, \"sector_type\": \"Artisanal\"}, {\"sector_type_id\": 3, \"year\": 1958, \"catch_sum\": 397199.0684543028, \"sector_type\": \"Artisanal\"}, {\"sector_type_id\": 3, \"year\": 1959, \"catch_sum\": 423120.988021017, \"sector_type\": \"Artisanal\"}, {\"sector_type_id\": 3, \"year\": 1960, \"catch_sum\": 406835.73426252895, \"sector_type\": \"Artisanal\"}, {\"sector_type_id\": 3, \"year\": 1961, \"catch_sum\": 361782.91487905354, \"sector_type\": \"Artisanal\"}, {\"sector_type_id\": 3, \"year\": 1962, \"catch_sum\": 372247.55965837085, \"sector_type\": \"Artisanal\"}, {\"sector_type_id\": 3, \"year\": 1963, \"catch_sum\": 396448.96538742544, \"sector_type\": \"Artisanal\"}, {\"sector_type_id\": 3, \"year\": 1964, \"catch_sum\": 404518.41138809395, \"sector_type\": \"Artisanal\"}, {\"sector_type_id\": 3, \"year\": 1965, \"catch_sum\": 448114.39825610357, \"sector_type\": \"Artisanal\"}, {\"sector_type_id\": 3, \"year\": 1966, \"catch_sum\": 517385.97509822674, \"sector_type\": \"Artisanal\"}, {\"sector_type_id\": 3, \"year\": 1967, \"catch_sum\": 551156.8472478682, \"sector_type\": \"Artisanal\"}, {\"sector_type_id\": 3, \"year\": 1968, \"catch_sum\": 642914.5313212741, \"sector_type\": \"Artisanal\"}, {\"sector_type_id\": 3, \"year\": 1969, \"catch_sum\": 612592.7268758827, \"sector_type\": \"Artisanal\"}, {\"sector_type_id\": 3, \"year\": 1970, \"catch_sum\": 599214.9175923793, \"sector_type\": \"Artisanal\"}, {\"sector_type_id\": 3, \"year\": 1971, \"catch_sum\": 565000.1942416808, \"sector_type\": \"Artisanal\"}, {\"sector_type_id\": 3, \"year\": 1972, \"catch_sum\": 485422.36607223365, \"sector_type\": \"Artisanal\"}, {\"sector_type_id\": 3, \"year\": 1973, \"catch_sum\": 466874.35887022334, \"sector_type\": \"Artisanal\"}, {\"sector_type_id\": 3, \"year\": 1974, \"catch_sum\": 388416.3473197481, \"sector_type\": \"Artisanal\"}, {\"sector_type_id\": 3, \"year\": 1975, \"catch_sum\": 399810.28433371196, \"sector_type\": \"Artisanal\"}, {\"sector_type_id\": 3, \"year\": 1976, \"catch_sum\": 408578.7064234521, \"sector_type\": \"Artisanal\"}, {\"sector_type_id\": 3, \"year\": 1977, \"catch_sum\": 437025.52349643194, \"sector_type\": \"Artisanal\"}, {\"sector_type_id\": 3, \"year\": 1978, \"catch_sum\": 501788.92437583307, \"sector_type\": \"Artisanal\"}, {\"sector_type_id\": 3, \"year\": 1979, \"catch_sum\": 535701.1240210977, \"sector_type\": \"Artisanal\"}, {\"sector_type_id\": 3, \"year\": 1980, \"catch_sum\": 542712.3520435044, \"sector_type\": \"Artisanal\"}, {\"sector_type_id\": 3, \"year\": 1981, \"catch_sum\": 557439.6489706126, \"sector_type\": \"Artisanal\"}, {\"sector_type_id\": 3, \"year\": 1982, \"catch_sum\": 556591.1581320327, \"sector_type\": \"Artisanal\"}, {\"sector_type_id\": 3, \"year\": 1983, \"catch_sum\": 570190.772177265, \"sector_type\": \"Artisanal\"}, {\"sector_type_id\": 3, \"year\": 1984, \"catch_sum\": 550262.0987195771, \"sector_type\": \"Artisanal\"}, {\"sector_type_id\": 3, \"year\": 1985, \"catch_sum\": 599525.5067966218, \"sector_type\": \"Artisanal\"}, {\"sector_type_id\": 3, \"year\": 1986, \"catch_sum\": 616626.3247542065, \"sector_type\": \"Artisanal\"}, {\"sector_type_id\": 3, \"year\": 1987, \"catch_sum\": 625957.6293002445, \"sector_type\": \"Artisanal\"}, {\"sector_type_id\": 3, \"year\": 1988, \"catch_sum\": 625798.6754032337, \"sector_type\": \"Artisanal\"}, {\"sector_type_id\": 3, \"year\": 1989, \"catch_sum\": 565046.4752619772, \"sector_type\": \"Artisanal\"}, {\"sector_type_id\": 3, \"year\": 1990, \"catch_sum\": 559003.0938524996, \"sector_type\": \"Artisanal\"}, {\"sector_type_id\": 3, \"year\": 1991, \"catch_sum\": 479242.6293010744, \"sector_type\": \"Artisanal\"}, {\"sector_type_id\": 3, \"year\": 1992, \"catch_sum\": 397089.7697238508, \"sector_type\": \"Artisanal\"}, {\"sector_type_id\": 3, \"year\": 1993, \"catch_sum\": 291045.98502617027, \"sector_type\": \"Artisanal\"}, {\"sector_type_id\": 3, \"year\": 1994, \"catch_sum\": 205667.38360987985, \"sector_type\": \"Artisanal\"}, {\"sector_type_id\": 3, \"year\": 1995, \"catch_sum\": 162319.61557743722, \"sector_type\": \"Artisanal\"}, {\"sector_type_id\": 3, \"year\": 1996, \"catch_sum\": 173795.13884676964, \"sector_type\": \"Artisanal\"}, {\"sector_type_id\": 3, \"year\": 1997, \"catch_sum\": 182394.99757659543, \"sector_type\": \"Artisanal\"}, {\"sector_type_id\": 3, \"year\": 1998, \"catch_sum\": 199504.2722496827, \"sector_type\": \"Artisanal\"}, {\"sector_type_id\": 3, \"year\": 1999, \"catch_sum\": 203598.15508803356, \"sector_type\": \"Artisanal\"}, {\"sector_type_id\": 3, \"year\": 2000, \"catch_sum\": 204200.2893237338, \"sector_type\": \"Artisanal\"}, {\"sector_type_id\": 3, \"year\": 2001, \"catch_sum\": 208115.65163673047, \"sector_type\": \"Artisanal\"}, {\"sector_type_id\": 3, \"year\": 2002, \"catch_sum\": 208862.56979721633, \"sector_type\": \"Artisanal\"}, {\"sector_type_id\": 3, \"year\": 2003, \"catch_sum\": 210318.79853264283, \"sector_type\": \"Artisanal\"}, {\"sector_type_id\": 3, \"year\": 2004, \"catch_sum\": 210724.05211330697, \"sector_type\": \"Artisanal\"}, {\"sector_type_id\": 3, \"year\": 2005, \"catch_sum\": 204441.81202600754, \"sector_type\": \"Artisanal\"}, {\"sector_type_id\": 3, \"year\": 2006, \"catch_sum\": 189458.00699599326, \"sector_type\": \"Artisanal\"}, {\"sector_type_id\": 3, \"year\": 2007, \"catch_sum\": 190213.0222803073, \"sector_type\": \"Artisanal\"}, {\"sector_type_id\": 3, \"year\": 2008, \"catch_sum\": 158022.30543728254, \"sector_type\": \"Artisanal\"}, {\"sector_type_id\": 3, \"year\": 2009, \"catch_sum\": 173872.8641031212, \"sector_type\": \"Artisanal\"}, {\"sector_type_id\": 3, \"year\": 2010, \"catch_sum\": 168366.45086243516, \"sector_type\": \"Artisanal\"}, {\"sector_type_id\": 3, \"year\": 2011, \"catch_sum\": 133380.86935507212, \"sector_type\": \"Artisanal\"}, {\"sector_type_id\": 3, \"year\": 2012, \"catch_sum\": 120848.2477105618, \"sector_type\": \"Artisanal\"}, {\"sector_type_id\": 3, \"year\": 2013, \"catch_sum\": 129137.00210702726, \"sector_type\": \"Artisanal\"}, {\"sector_type_id\": 3, \"year\": 2014, \"catch_sum\": 114157.65702659896, \"sector_type\": \"Artisanal\"}, {\"sector_type_id\": 3, \"year\": 2015, \"catch_sum\": 113838.02300795015, \"sector_type\": \"Artisanal\"}, {\"sector_type_id\": 3, \"year\": 2016, \"catch_sum\": 121125.29265780328, \"sector_type\": \"Artisanal\"}, {\"sector_type_id\": 3, \"year\": 2017, \"catch_sum\": 119680.18921763398, \"sector_type\": \"Artisanal\"}, {\"sector_type_id\": 3, \"year\": 2018, \"catch_sum\": 107089.37728422046, \"sector_type\": \"Artisanal\"}, {\"sector_type_id\": 4, \"year\": 1950, \"catch_sum\": 19377.243363931582, \"sector_type\": \"Recreational\"}, {\"sector_type_id\": 4, \"year\": 1951, \"catch_sum\": 20985.14575574327, \"sector_type\": \"Recreational\"}, {\"sector_type_id\": 4, \"year\": 1952, \"catch_sum\": 19588.34469021431, \"sector_type\": \"Recreational\"}, {\"sector_type_id\": 4, \"year\": 1953, \"catch_sum\": 22810.68202861791, \"sector_type\": \"Recreational\"}, {\"sector_type_id\": 4, \"year\": 1954, \"catch_sum\": 23521.604106910534, \"sector_type\": \"Recreational\"}, {\"sector_type_id\": 4, \"year\": 1955, \"catch_sum\": 21030.380882193538, \"sector_type\": \"Recreational\"}, {\"sector_type_id\": 4, \"year\": 1956, \"catch_sum\": 21751.991324410545, \"sector_type\": \"Recreational\"}, {\"sector_type_id\": 4, \"year\": 1957, \"catch_sum\": 24176.704463845934, \"sector_type\": \"Recreational\"}, {\"sector_type_id\": 4, \"year\": 1958, \"catch_sum\": 27278.145412714195, \"sector_type\": \"Recreational\"}, {\"sector_type_id\": 4, \"year\": 1959, \"catch_sum\": 25275.98485500706, \"sector_type\": \"Recreational\"}, {\"sector_type_id\": 4, \"year\": 1960, \"catch_sum\": 27279.087390553566, \"sector_type\": \"Recreational\"}, {\"sector_type_id\": 4, \"year\": 1961, \"catch_sum\": 31053.089872152214, \"sector_type\": \"Recreational\"}, {\"sector_type_id\": 4, \"year\": 1962, \"catch_sum\": 40094.964203536554, \"sector_type\": \"Recreational\"}, {\"sector_type_id\": 4, \"year\": 1963, \"catch_sum\": 33740.321890685475, \"sector_type\": \"Recreational\"}, {\"sector_type_id\": 4, \"year\": 1964, \"catch_sum\": 34768.576512030435, \"sector_type\": \"Recreational\"}, {\"sector_type_id\": 4, \"year\": 1965, \"catch_sum\": 34149.07744378359, \"sector_type\": \"Recreational\"}, {\"sector_type_id\": 4, \"year\": 1966, \"catch_sum\": 41205.949282455644, \"sector_type\": \"Recreational\"}, {\"sector_type_id\": 4, \"year\": 1967, \"catch_sum\": 39661.29665348709, \"sector_type\": \"Recreational\"}, {\"sector_type_id\": 4, \"year\": 1968, \"catch_sum\": 44287.443053796516, \"sector_type\": \"Recreational\"}, {\"sector_type_id\": 4, \"year\": 1969, \"catch_sum\": 37889.474447071865, \"sector_type\": \"Recreational\"}, {\"sector_type_id\": 4, \"year\": 1970, \"catch_sum\": 53973.833366719824, \"sector_type\": \"Recreational\"}, {\"sector_type_id\": 4, \"year\": 1971, \"catch_sum\": 47718.29275972918, \"sector_type\": \"Recreational\"}, {\"sector_type_id\": 4, \"year\": 1972, \"catch_sum\": 60000.42394397573, \"sector_type\": \"Recreational\"}, {\"sector_type_id\": 4, \"year\": 1973, \"catch_sum\": 56286.34510707166, \"sector_type\": \"Recreational\"}, {\"sector_type_id\": 4, \"year\": 1974, \"catch_sum\": 54949.00024206201, \"sector_type\": \"Recreational\"}, {\"sector_type_id\": 4, \"year\": 1975, \"catch_sum\": 49474.123112876034, \"sector_type\": \"Recreational\"}, {\"sector_type_id\": 4, \"year\": 1976, \"catch_sum\": 55903.38174531809, \"sector_type\": \"Recreational\"}, {\"sector_type_id\": 4, \"year\": 1977, \"catch_sum\": 56027.50699165236, \"sector_type\": \"Recreational\"}, {\"sector_type_id\": 4, \"year\": 1978, \"catch_sum\": 60046.52908787747, \"sector_type\": \"Recreational\"}, {\"sector_type_id\": 4, \"year\": 1979, \"catch_sum\": 60656.87097542488, \"sector_type\": \"Recreational\"}, {\"sector_type_id\": 4, \"year\": 1980, \"catch_sum\": 60927.98762723789, \"sector_type\": \"Recreational\"}, {\"sector_type_id\": 4, \"year\": 1981, \"catch_sum\": 65934.70879483888, \"sector_type\": \"Recreational\"}, {\"sector_type_id\": 4, \"year\": 1982, \"catch_sum\": 68826.28578168174, \"sector_type\": \"Recreational\"}, {\"sector_type_id\": 4, \"year\": 1983, \"catch_sum\": 73692.90323049894, \"sector_type\": \"Recreational\"}, {\"sector_type_id\": 4, \"year\": 1984, \"catch_sum\": 77159.5867039854, \"sector_type\": \"Recreational\"}, {\"sector_type_id\": 4, \"year\": 1985, \"catch_sum\": 92560.46805334263, \"sector_type\": \"Recreational\"}, {\"sector_type_id\": 4, \"year\": 1986, \"catch_sum\": 93930.83674340538, \"sector_type\": \"Recreational\"}, {\"sector_type_id\": 4, \"year\": 1987, \"catch_sum\": 89224.36553270793, \"sector_type\": \"Recreational\"}, {\"sector_type_id\": 4, \"year\": 1988, \"catch_sum\": 96422.78676485046, \"sector_type\": \"Recreational\"}, {\"sector_type_id\": 4, \"year\": 1989, \"catch_sum\": 98650.09227939087, \"sector_type\": \"Recreational\"}, {\"sector_type_id\": 4, \"year\": 1990, \"catch_sum\": 100669.99781420089, \"sector_type\": \"Recreational\"}, {\"sector_type_id\": 4, \"year\": 1991, \"catch_sum\": 87795.19639147993, \"sector_type\": \"Recreational\"}, {\"sector_type_id\": 4, \"year\": 1992, \"catch_sum\": 77525.21890252027, \"sector_type\": \"Recreational\"}, {\"sector_type_id\": 4, \"year\": 1993, \"catch_sum\": 72436.46598108059, \"sector_type\": \"Recreational\"}, {\"sector_type_id\": 4, \"year\": 1994, \"catch_sum\": 56486.44286804842, \"sector_type\": \"Recreational\"}, {\"sector_type_id\": 4, \"year\": 1995, \"catch_sum\": 35376.450853775306, \"sector_type\": \"Recreational\"}, {\"sector_type_id\": 4, \"year\": 1996, \"catch_sum\": 34045.60253917509, \"sector_type\": \"Recreational\"}, {\"sector_type_id\": 4, \"year\": 1997, \"catch_sum\": 34920.01174855912, \"sector_type\": \"Recreational\"}, {\"sector_type_id\": 4, \"year\": 1998, \"catch_sum\": 31888.10411454637, \"sector_type\": \"Recreational\"}, {\"sector_type_id\": 4, \"year\": 1999, \"catch_sum\": 31195.81192588059, \"sector_type\": \"Recreational\"}, {\"sector_type_id\": 4, \"year\": 2000, \"catch_sum\": 30407.252846470332, \"sector_type\": \"Recreational\"}, {\"sector_type_id\": 4, \"year\": 2001, \"catch_sum\": 28735.515433719353, \"sector_type\": \"Recreational\"}, {\"sector_type_id\": 4, \"year\": 2002, \"catch_sum\": 27803.596519648516, \"sector_type\": \"Recreational\"}, {\"sector_type_id\": 4, \"year\": 2003, \"catch_sum\": 25351.05935284621, \"sector_type\": \"Recreational\"}, {\"sector_type_id\": 4, \"year\": 2004, \"catch_sum\": 27331.710045854754, \"sector_type\": \"Recreational\"}, {\"sector_type_id\": 4, \"year\": 2005, \"catch_sum\": 23523.349154003627, \"sector_type\": \"Recreational\"}, {\"sector_type_id\": 4, \"year\": 2006, \"catch_sum\": 25391.162836667398, \"sector_type\": \"Recreational\"}, {\"sector_type_id\": 4, \"year\": 2007, \"catch_sum\": 29177.49065331865, \"sector_type\": \"Recreational\"}, {\"sector_type_id\": 4, \"year\": 2008, \"catch_sum\": 28320.39152195627, \"sector_type\": \"Recreational\"}, {\"sector_type_id\": 4, \"year\": 2009, \"catch_sum\": 29640.54135616744, \"sector_type\": \"Recreational\"}, {\"sector_type_id\": 4, \"year\": 2010, \"catch_sum\": 29575.96201294432, \"sector_type\": \"Recreational\"}, {\"sector_type_id\": 4, \"year\": 2011, \"catch_sum\": 27813.64122030442, \"sector_type\": \"Recreational\"}, {\"sector_type_id\": 4, \"year\": 2012, \"catch_sum\": 26890.43540069964, \"sector_type\": \"Recreational\"}, {\"sector_type_id\": 4, \"year\": 2013, \"catch_sum\": 27677.060710259502, \"sector_type\": \"Recreational\"}, {\"sector_type_id\": 4, \"year\": 2014, \"catch_sum\": 28630.742667773215, \"sector_type\": \"Recreational\"}, {\"sector_type_id\": 4, \"year\": 2015, \"catch_sum\": 40970.82954087317, \"sector_type\": \"Recreational\"}, {\"sector_type_id\": 4, \"year\": 2016, \"catch_sum\": 41660.18379884519, \"sector_type\": \"Recreational\"}, {\"sector_type_id\": 4, \"year\": 2017, \"catch_sum\": 41247.5958933984, \"sector_type\": \"Recreational\"}, {\"sector_type_id\": 4, \"year\": 2018, \"catch_sum\": 42533.868871364015, \"sector_type\": \"Recreational\"}]}}, {\"mode\": \"vega-lite\"});\n",
       "</script>"
      ],
      "text/plain": [
       "alt.Chart(...)"
      ]
     },
     "execution_count": 14,
     "metadata": {},
     "output_type": "execute_result"
    }
   ],
   "source": [
    "alt.Chart(df_sector_catch).mark_area().encode(\n",
    "            x = alt.X('year:N', \n",
    "                      title = 'Year', \n",
    "                      axis = alt.Axis(titleFontSize = 14, \n",
    "                                          labelFontSize = 14,\n",
    "                                          tickCount = df_sector_catch.shape[0],\n",
    "                                          grid = False,\n",
    "                                          labelExpr = \"datum.value % 2 ? null : datum.label\")),\n",
    "            y = alt.Y('sum(catch_sum)', \n",
    "                      title = 'Total Catch', \n",
    "                      axis = alt.Axis(titleFontSize = 14, \n",
    "                                      labelFontSize = 14)),\n",
    "            color = alt.Color('sector_type:N', \n",
    "                              legend = alt.Legend(title = 'Sector type', \n",
    "                                                  titleFontSize = 16, \n",
    "                                                  labelFontSize = 16, \n",
    "                                                  labelColor = 'steelblue', \n",
    "                                                  titleColor = 'steelblue')),\n",
    "            row = \"sector_type:N\",\n",
    "            tooltip = ['year', 'sector_type', 'catch_sum']\n",
    "        ).properties(\n",
    "            width = 600,\n",
    "            height = 150,\n",
    "            title = 'Total Catch by Sector type trend'\n",
    "        ).resolve_scale(y = 'independent'\n",
    "        ).configure_legend(orient = 'right'\n",
    "        ).configure_title(fontSize = 18, color = 'teal'\n",
    "        ).configure_axis(titleColor = 'steelblue')\n"
   ]
  },
  {
   "cell_type": "code",
   "execution_count": null,
   "id": "b341dd00",
   "metadata": {},
   "outputs": [],
   "source": []
  }
 ],
 "metadata": {
  "kernelspec": {
   "display_name": "Python 3",
   "language": "python",
   "name": "python3"
  },
  "language_info": {
   "codemirror_mode": {
    "name": "ipython",
    "version": 3
   },
   "file_extension": ".py",
   "mimetype": "text/x-python",
   "name": "python",
   "nbconvert_exporter": "python",
   "pygments_lexer": "ipython3",
   "version": "3.8.3"
  }
 },
 "nbformat": 4,
 "nbformat_minor": 5
}
