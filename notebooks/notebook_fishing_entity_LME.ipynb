version https://git-lfs.github.com/spec/v1
oid sha256:3b6f5dd1d5a29819f27235faccd895553d9b442d86806052574606bce0ce2ea0
size 20135021
