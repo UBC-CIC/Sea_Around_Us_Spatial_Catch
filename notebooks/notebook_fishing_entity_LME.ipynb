{
 "cells": [
  {
   "cell_type": "markdown",
   "id": "db399c31",
   "metadata": {},
   "source": [
    "### Setup"
   ]
  },
  {
   "cell_type": "code",
   "execution_count": 1,
   "id": "b339cd7c",
   "metadata": {},
   "outputs": [],
   "source": [
    "# Uncomment and run this cell if Pandas library is not already installed\n",
    "\n",
    "# ! pip install --upgrade pip\n",
    "\n",
    "# ! pip install numpy\n",
    "\n",
    "# ! pip install pandas\n",
    "\n",
    "# ! pip install ipywidgets\n",
    "\n",
    "# ! pip install altair\n",
    "\n",
    "# ! pip install folium\n",
    "\n",
    "# see additional instructions for geopandas library > https://geopandas.org/getting_started/install.html\n"
   ]
  },
  {
   "cell_type": "markdown",
   "id": "dd66574b",
   "metadata": {},
   "source": [
    "### Import Libraries"
   ]
  },
  {
   "cell_type": "code",
   "execution_count": 2,
   "id": "41285be6",
   "metadata": {},
   "outputs": [],
   "source": [
    "from random import randint\n",
    "\n",
    "from IPython.display import display\n",
    "import ipywidgets as widgets\n",
    "\n",
    "import numpy as np \n",
    "import pandas as pd\n",
    "import altair as alt\n",
    "\n",
    "import folium\n",
    "import geopandas\n",
    "from folium.plugins import MarkerCluster\n"
   ]
  },
  {
   "cell_type": "code",
   "execution_count": 3,
   "id": "43148393",
   "metadata": {},
   "outputs": [
    {
     "name": "stderr",
     "output_type": "stream",
     "text": [
      "Enabling notebook extension jupyter-js-widgets/extension...\n",
      "      - Validating: ok\n"
     ]
    },
    {
     "data": {
      "text/plain": [
       "RendererRegistry.enable('default')"
      ]
     },
     "execution_count": 3,
     "metadata": {},
     "output_type": "execute_result"
    }
   ],
   "source": [
    "# enable extension for widgets\n",
    "! jupyter nbextension enable --py widgetsnbextension\n",
    "\n",
    "# disable the default 5000 limit on number of rows\n",
    "alt.data_transformers.disable_max_rows()\n",
    "\n",
    "# enable renderer\n",
    "alt.renderers.enable('default')\n"
   ]
  },
  {
   "cell_type": "markdown",
   "id": "c751ce5a",
   "metadata": {},
   "source": [
    "### CloudFront domain"
   ]
  },
  {
   "cell_type": "code",
   "execution_count": 4,
   "id": "eb4c6061",
   "metadata": {},
   "outputs": [
    {
     "data": {
      "text/plain": [
       "'https://d1b4l80qig6dum.cloudfront.net'"
      ]
     },
     "execution_count": 4,
     "metadata": {},
     "output_type": "execute_result"
    }
   ],
   "source": [
    "# define CloudFront domain name (to access S3)\n",
    "\n",
    "cloudfront = 'https://d1b4l80qig6dum.cloudfront.net'\n",
    "cloudfront\n"
   ]
  },
  {
   "cell_type": "markdown",
   "id": "f2a48d40",
   "metadata": {},
   "source": [
    "### Fishing entity selection"
   ]
  },
  {
   "cell_type": "code",
   "execution_count": 5,
   "id": "70cb2a8d",
   "metadata": {},
   "outputs": [
    {
     "name": "stdout",
     "output_type": "stream",
     "text": [
      "(199, 2)\n"
     ]
    },
    {
     "data": {
      "text/html": [
       "<div>\n",
       "<style scoped>\n",
       "    .dataframe tbody tr th:only-of-type {\n",
       "        vertical-align: middle;\n",
       "    }\n",
       "\n",
       "    .dataframe tbody tr th {\n",
       "        vertical-align: top;\n",
       "    }\n",
       "\n",
       "    .dataframe thead th {\n",
       "        text-align: right;\n",
       "    }\n",
       "</style>\n",
       "<table border=\"1\" class=\"dataframe\">\n",
       "  <thead>\n",
       "    <tr style=\"text-align: right;\">\n",
       "      <th></th>\n",
       "      <th>fishing_entity_id</th>\n",
       "      <th>fishing_entity</th>\n",
       "    </tr>\n",
       "  </thead>\n",
       "  <tbody>\n",
       "    <tr>\n",
       "      <th>0</th>\n",
       "      <td>1</td>\n",
       "      <td>Albania</td>\n",
       "    </tr>\n",
       "    <tr>\n",
       "      <th>1</th>\n",
       "      <td>2</td>\n",
       "      <td>Algeria</td>\n",
       "    </tr>\n",
       "    <tr>\n",
       "      <th>2</th>\n",
       "      <td>3</td>\n",
       "      <td>American Samoa</td>\n",
       "    </tr>\n",
       "    <tr>\n",
       "      <th>3</th>\n",
       "      <td>4</td>\n",
       "      <td>Angola</td>\n",
       "    </tr>\n",
       "    <tr>\n",
       "      <th>4</th>\n",
       "      <td>5</td>\n",
       "      <td>Antigua &amp; Barbuda</td>\n",
       "    </tr>\n",
       "  </tbody>\n",
       "</table>\n",
       "</div>"
      ],
      "text/plain": [
       "   fishing_entity_id     fishing_entity\n",
       "0                  1            Albania\n",
       "1                  2            Algeria\n",
       "2                  3     American Samoa\n",
       "3                  4             Angola\n",
       "4                  5  Antigua & Barbuda"
      ]
     },
     "execution_count": 5,
     "metadata": {},
     "output_type": "execute_result"
    }
   ],
   "source": [
    "# Get the fishing entity names from reference table\n",
    "\n",
    "# data is in a subfolder 'reference_tables' on the S3 bucket\n",
    "# define CloudFront access location format for FISHING ENTITY lookup data\n",
    "\n",
    "fishing_entity_key = 'reference_tables/fishing_entity.csv'\n",
    "fishing_entity_data_location = '{}/{}'.format(cloudfront, fishing_entity_key)\n",
    "\n",
    "# load the EEZ data using Pandas\n",
    "fishing_entity_lookup = pd.read_csv(fishing_entity_data_location)\n",
    "\n",
    "# print the number of records & columns, and also display the sample data\n",
    "print(fishing_entity_lookup.shape)\n",
    "fishing_entity_lookup.head()\n"
   ]
  },
  {
   "cell_type": "code",
   "execution_count": 6,
   "id": "9ddf7b8d",
   "metadata": {},
   "outputs": [
    {
     "data": {
      "text/plain": [
       "['Albania', 'Algeria', 'American Samoa', 'Angola', 'Antigua & Barbuda']"
      ]
     },
     "execution_count": 6,
     "metadata": {},
     "output_type": "execute_result"
    }
   ],
   "source": [
    "# save the fishing entity names in a list for user selection purpose\n",
    "\n",
    "fishing_entities_list = list()\n",
    "fishing_entities_list = fishing_entity_lookup['fishing_entity'].to_list()\n",
    "\n",
    "# display first five names from the list\n",
    "fishing_entities_list[:5]\n"
   ]
  },
  {
   "cell_type": "markdown",
   "id": "f28438a8",
   "metadata": {},
   "source": [
    "__Fishing entity selection widget__"
   ]
  },
  {
   "cell_type": "code",
   "execution_count": 7,
   "id": "236667ec",
   "metadata": {},
   "outputs": [
    {
     "data": {
      "application/vnd.jupyter.widget-view+json": {
       "model_id": "eb0f7029788046aba46af1176055e3fc",
       "version_major": 2,
       "version_minor": 0
      },
      "text/plain": [
       "Dropdown(description='Fishing entity :', index=25, options=('Albania', 'Algeria', 'American Samoa', 'Angola', …"
      ]
     },
     "metadata": {},
     "output_type": "display_data"
    }
   ],
   "source": [
    "# define fishing entity dropdown using above list\n",
    "\n",
    "fishing_entity_dropdown = widgets.Dropdown(\n",
    "    options = fishing_entities_list,\n",
    "    value = 'Canada',\n",
    "    description = 'Fishing entity :',\n",
    "    disabled = False,\n",
    ")\n",
    "\n",
    "# display the fishing entity dropdown for user selection\n",
    "display(fishing_entity_dropdown)\n"
   ]
  },
  {
   "cell_type": "markdown",
   "id": "a232f6aa",
   "metadata": {},
   "source": [
    "### Load LME data for the fishing entity selection"
   ]
  },
  {
   "cell_type": "code",
   "execution_count": 8,
   "id": "88599b5d",
   "metadata": {},
   "outputs": [
    {
     "data": {
      "text/plain": [
       "'Canada_fishing_entity_lme_data.csv'"
      ]
     },
     "execution_count": 8,
     "metadata": {},
     "output_type": "execute_result"
    }
   ],
   "source": [
    "# create the LME filename to be loaded based on fishing entity selected\n",
    "\n",
    "filename_lme = str(fishing_entity_dropdown.value) + '_fishing_entity_lme_data.csv'\n",
    "filename_lme\n"
   ]
  },
  {
   "cell_type": "code",
   "execution_count": 9,
   "id": "1271aed5",
   "metadata": {},
   "outputs": [
    {
     "name": "stdout",
     "output_type": "stream",
     "text": [
      "(10398662, 12)\n"
     ]
    },
    {
     "data": {
      "text/html": [
       "<div>\n",
       "<style scoped>\n",
       "    .dataframe tbody tr th:only-of-type {\n",
       "        vertical-align: middle;\n",
       "    }\n",
       "\n",
       "    .dataframe tbody tr th {\n",
       "        vertical-align: top;\n",
       "    }\n",
       "\n",
       "    .dataframe thead th {\n",
       "        text-align: right;\n",
       "    }\n",
       "</style>\n",
       "<table border=\"1\" class=\"dataframe\">\n",
       "  <thead>\n",
       "    <tr style=\"text-align: right;\">\n",
       "      <th></th>\n",
       "      <th>fishing_entity_id</th>\n",
       "      <th>cell_id</th>\n",
       "      <th>lon</th>\n",
       "      <th>lat</th>\n",
       "      <th>lme_id</th>\n",
       "      <th>taxon_key</th>\n",
       "      <th>reporting_status_id</th>\n",
       "      <th>sector_type_id</th>\n",
       "      <th>catch_type_id</th>\n",
       "      <th>gear_type_id</th>\n",
       "      <th>year</th>\n",
       "      <th>catch_sum</th>\n",
       "    </tr>\n",
       "  </thead>\n",
       "  <tbody>\n",
       "    <tr>\n",
       "      <th>0</th>\n",
       "      <td>26</td>\n",
       "      <td>16773</td>\n",
       "      <td>-73.75</td>\n",
       "      <td>78.25</td>\n",
       "      <td>18</td>\n",
       "      <td>100039</td>\n",
       "      <td>1</td>\n",
       "      <td>1</td>\n",
       "      <td>1</td>\n",
       "      <td>1</td>\n",
       "      <td>1994</td>\n",
       "      <td>0.001701</td>\n",
       "    </tr>\n",
       "    <tr>\n",
       "      <th>1</th>\n",
       "      <td>26</td>\n",
       "      <td>16773</td>\n",
       "      <td>-73.75</td>\n",
       "      <td>78.25</td>\n",
       "      <td>18</td>\n",
       "      <td>100039</td>\n",
       "      <td>1</td>\n",
       "      <td>1</td>\n",
       "      <td>1</td>\n",
       "      <td>1</td>\n",
       "      <td>2017</td>\n",
       "      <td>0.007632</td>\n",
       "    </tr>\n",
       "    <tr>\n",
       "      <th>2</th>\n",
       "      <td>26</td>\n",
       "      <td>16773</td>\n",
       "      <td>-73.75</td>\n",
       "      <td>78.25</td>\n",
       "      <td>66</td>\n",
       "      <td>100039</td>\n",
       "      <td>1</td>\n",
       "      <td>1</td>\n",
       "      <td>1</td>\n",
       "      <td>1</td>\n",
       "      <td>1994</td>\n",
       "      <td>0.001701</td>\n",
       "    </tr>\n",
       "  </tbody>\n",
       "</table>\n",
       "</div>"
      ],
      "text/plain": [
       "   fishing_entity_id  cell_id    lon    lat  lme_id  taxon_key  \\\n",
       "0                 26    16773 -73.75  78.25      18     100039   \n",
       "1                 26    16773 -73.75  78.25      18     100039   \n",
       "2                 26    16773 -73.75  78.25      66     100039   \n",
       "\n",
       "   reporting_status_id  sector_type_id  catch_type_id  gear_type_id  year  \\\n",
       "0                    1               1              1             1  1994   \n",
       "1                    1               1              1             1  2017   \n",
       "2                    1               1              1             1  1994   \n",
       "\n",
       "   catch_sum  \n",
       "0   0.001701  \n",
       "1   0.007632  \n",
       "2   0.001701  "
      ]
     },
     "execution_count": 9,
     "metadata": {},
     "output_type": "execute_result"
    }
   ],
   "source": [
    "# data is in a subfolder 'fishing_entity_data' on the S3 bucket\n",
    "# define CloudFront access location format for LME data\n",
    "\n",
    "lme_data_key = 'fishing_entity_data/' + filename_lme\n",
    "lme_data_location = '{}/{}'.format(cloudfront, lme_data_key)\n",
    "\n",
    "# load the LME data using Pandas\n",
    "df_lme = pd.read_csv(lme_data_location)\n",
    "\n",
    "# print the number of records & columns, and also display the sample LME data\n",
    "print(df_lme.shape)\n",
    "df_lme.head(3)\n"
   ]
  },
  {
   "cell_type": "markdown",
   "id": "79107514",
   "metadata": {},
   "source": [
    "### Load Reference tables"
   ]
  },
  {
   "cell_type": "markdown",
   "id": "ef57082b",
   "metadata": {},
   "source": [
    "__LME NAME lookup by ID__"
   ]
  },
  {
   "cell_type": "code",
   "execution_count": 10,
   "id": "11f8fe3a",
   "metadata": {},
   "outputs": [
    {
     "name": "stdout",
     "output_type": "stream",
     "text": [
      "(66, 2)\n"
     ]
    },
    {
     "data": {
      "text/html": [
       "<div>\n",
       "<style scoped>\n",
       "    .dataframe tbody tr th:only-of-type {\n",
       "        vertical-align: middle;\n",
       "    }\n",
       "\n",
       "    .dataframe tbody tr th {\n",
       "        vertical-align: top;\n",
       "    }\n",
       "\n",
       "    .dataframe thead th {\n",
       "        text-align: right;\n",
       "    }\n",
       "</style>\n",
       "<table border=\"1\" class=\"dataframe\">\n",
       "  <thead>\n",
       "    <tr style=\"text-align: right;\">\n",
       "      <th></th>\n",
       "      <th>lme_id</th>\n",
       "      <th>lme</th>\n",
       "    </tr>\n",
       "  </thead>\n",
       "  <tbody>\n",
       "    <tr>\n",
       "      <th>0</th>\n",
       "      <td>1</td>\n",
       "      <td>East Bering Sea</td>\n",
       "    </tr>\n",
       "    <tr>\n",
       "      <th>1</th>\n",
       "      <td>2</td>\n",
       "      <td>Gulf of Alaska</td>\n",
       "    </tr>\n",
       "    <tr>\n",
       "      <th>2</th>\n",
       "      <td>3</td>\n",
       "      <td>California Current</td>\n",
       "    </tr>\n",
       "    <tr>\n",
       "      <th>3</th>\n",
       "      <td>4</td>\n",
       "      <td>Gulf of California</td>\n",
       "    </tr>\n",
       "    <tr>\n",
       "      <th>4</th>\n",
       "      <td>5</td>\n",
       "      <td>Gulf of Mexico</td>\n",
       "    </tr>\n",
       "  </tbody>\n",
       "</table>\n",
       "</div>"
      ],
      "text/plain": [
       "   lme_id                 lme\n",
       "0       1     East Bering Sea\n",
       "1       2      Gulf of Alaska\n",
       "2       3  California Current\n",
       "3       4  Gulf of California\n",
       "4       5      Gulf of Mexico"
      ]
     },
     "execution_count": 10,
     "metadata": {},
     "output_type": "execute_result"
    }
   ],
   "source": [
    "# data is in a subfolder 'reference_tables' on the S3 bucket\n",
    "# define CloudFront access location format for LME NAME lookup data\n",
    "\n",
    "lme_lookup_key = 'reference_tables/lme.csv'\n",
    "lme_lookup_data_location = '{}/{}'.format(cloudfront, lme_lookup_key)\n",
    "\n",
    "# load the LME NAME lookup data using Pandas\n",
    "lme_lookup = pd.read_csv(lme_lookup_data_location)\n",
    "\n",
    "# print the number of records & columns, and also display the sample data\n",
    "print(lme_lookup.shape)\n",
    "lme_lookup.head()\n"
   ]
  },
  {
   "cell_type": "markdown",
   "id": "be2f11ad",
   "metadata": {},
   "source": [
    "__CATCH TYPE lookup by ID__"
   ]
  },
  {
   "cell_type": "code",
   "execution_count": 11,
   "id": "c3a07161",
   "metadata": {},
   "outputs": [
    {
     "name": "stdout",
     "output_type": "stream",
     "text": [
      "(2, 3)\n"
     ]
    },
    {
     "data": {
      "text/html": [
       "<div>\n",
       "<style scoped>\n",
       "    .dataframe tbody tr th:only-of-type {\n",
       "        vertical-align: middle;\n",
       "    }\n",
       "\n",
       "    .dataframe tbody tr th {\n",
       "        vertical-align: top;\n",
       "    }\n",
       "\n",
       "    .dataframe thead th {\n",
       "        text-align: right;\n",
       "    }\n",
       "</style>\n",
       "<table border=\"1\" class=\"dataframe\">\n",
       "  <thead>\n",
       "    <tr style=\"text-align: right;\">\n",
       "      <th></th>\n",
       "      <th>catch_type_id</th>\n",
       "      <th>catch_type</th>\n",
       "      <th>abbreviation</th>\n",
       "    </tr>\n",
       "  </thead>\n",
       "  <tbody>\n",
       "    <tr>\n",
       "      <th>0</th>\n",
       "      <td>1</td>\n",
       "      <td>Landings</td>\n",
       "      <td>R</td>\n",
       "    </tr>\n",
       "    <tr>\n",
       "      <th>1</th>\n",
       "      <td>2</td>\n",
       "      <td>Discards</td>\n",
       "      <td>D</td>\n",
       "    </tr>\n",
       "  </tbody>\n",
       "</table>\n",
       "</div>"
      ],
      "text/plain": [
       "   catch_type_id catch_type abbreviation\n",
       "0              1   Landings            R\n",
       "1              2   Discards            D"
      ]
     },
     "execution_count": 11,
     "metadata": {},
     "output_type": "execute_result"
    }
   ],
   "source": [
    "# data is in a subfolder 'reference_tables' on the S3 bucket\n",
    "# define CloudFront access location format for CATCH TYPE lookup data\n",
    "\n",
    "catch_lookup_key = 'reference_tables/catch_type.csv'\n",
    "catch_lookup_data_location = '{}/{}'.format(cloudfront, catch_lookup_key)\n",
    "\n",
    "# load the CATCH TYPE lookup data using Pandas\n",
    "catch_lookup = pd.read_csv(catch_lookup_data_location)\n",
    "\n",
    "# rename column gear to catch_type\n",
    "catch_lookup.rename(columns = {\"name\": \"catch_type\"}, inplace = True)\n",
    "\n",
    "# print the number of records & columns, and also display the sample data\n",
    "print(catch_lookup.shape)\n",
    "catch_lookup.head()\n"
   ]
  },
  {
   "cell_type": "markdown",
   "id": "a93bbf76",
   "metadata": {},
   "source": [
    "__SECTOR TYPE lookup by ID__"
   ]
  },
  {
   "cell_type": "code",
   "execution_count": 12,
   "id": "15c60301",
   "metadata": {},
   "outputs": [
    {
     "name": "stdout",
     "output_type": "stream",
     "text": [
      "(4, 2)\n"
     ]
    },
    {
     "data": {
      "text/html": [
       "<div>\n",
       "<style scoped>\n",
       "    .dataframe tbody tr th:only-of-type {\n",
       "        vertical-align: middle;\n",
       "    }\n",
       "\n",
       "    .dataframe tbody tr th {\n",
       "        vertical-align: top;\n",
       "    }\n",
       "\n",
       "    .dataframe thead th {\n",
       "        text-align: right;\n",
       "    }\n",
       "</style>\n",
       "<table border=\"1\" class=\"dataframe\">\n",
       "  <thead>\n",
       "    <tr style=\"text-align: right;\">\n",
       "      <th></th>\n",
       "      <th>sector_type_id</th>\n",
       "      <th>sector_type</th>\n",
       "    </tr>\n",
       "  </thead>\n",
       "  <tbody>\n",
       "    <tr>\n",
       "      <th>0</th>\n",
       "      <td>1</td>\n",
       "      <td>Industrial</td>\n",
       "    </tr>\n",
       "    <tr>\n",
       "      <th>1</th>\n",
       "      <td>2</td>\n",
       "      <td>Subsistence</td>\n",
       "    </tr>\n",
       "    <tr>\n",
       "      <th>2</th>\n",
       "      <td>3</td>\n",
       "      <td>Artisanal</td>\n",
       "    </tr>\n",
       "    <tr>\n",
       "      <th>3</th>\n",
       "      <td>4</td>\n",
       "      <td>Recreational</td>\n",
       "    </tr>\n",
       "  </tbody>\n",
       "</table>\n",
       "</div>"
      ],
      "text/plain": [
       "   sector_type_id   sector_type\n",
       "0               1    Industrial\n",
       "1               2   Subsistence\n",
       "2               3     Artisanal\n",
       "3               4  Recreational"
      ]
     },
     "execution_count": 12,
     "metadata": {},
     "output_type": "execute_result"
    }
   ],
   "source": [
    "# data is in a subfolder 'reference_tables' on the S3 bucket\n",
    "# define CloudFront access location format for SECTOR TYPE lookup data\n",
    "\n",
    "sector_lookup_key = 'reference_tables/sector_type.csv'\n",
    "sector_lookup_data_location = '{}/{}'.format(cloudfront, sector_lookup_key)\n",
    "\n",
    "# load the SECTOR TYPE lookup data using Pandas\n",
    "sector_lookup = pd.read_csv(sector_lookup_data_location)\n",
    "\n",
    "# rename column name to sector_type\n",
    "sector_lookup.rename(columns = {\"name\": \"sector_type\"}, inplace = True)\n",
    "\n",
    "# print the number of records & columns, and also display the sample data\n",
    "print(sector_lookup.shape)\n",
    "sector_lookup.head()\n"
   ]
  },
  {
   "cell_type": "markdown",
   "id": "d0a2bac4",
   "metadata": {},
   "source": [
    "__GEAR TYPE lookup by ID__"
   ]
  },
  {
   "cell_type": "code",
   "execution_count": 13,
   "id": "195bfb24",
   "metadata": {},
   "outputs": [
    {
     "name": "stdout",
     "output_type": "stream",
     "text": [
      "(43, 2)\n"
     ]
    },
    {
     "data": {
      "text/html": [
       "<div>\n",
       "<style scoped>\n",
       "    .dataframe tbody tr th:only-of-type {\n",
       "        vertical-align: middle;\n",
       "    }\n",
       "\n",
       "    .dataframe tbody tr th {\n",
       "        vertical-align: top;\n",
       "    }\n",
       "\n",
       "    .dataframe thead th {\n",
       "        text-align: right;\n",
       "    }\n",
       "</style>\n",
       "<table border=\"1\" class=\"dataframe\">\n",
       "  <thead>\n",
       "    <tr style=\"text-align: right;\">\n",
       "      <th></th>\n",
       "      <th>gear_type_id</th>\n",
       "      <th>gear_type</th>\n",
       "    </tr>\n",
       "  </thead>\n",
       "  <tbody>\n",
       "    <tr>\n",
       "      <th>0</th>\n",
       "      <td>1</td>\n",
       "      <td>bottom trawl</td>\n",
       "    </tr>\n",
       "    <tr>\n",
       "      <th>1</th>\n",
       "      <td>1</td>\n",
       "      <td>bottom trawl</td>\n",
       "    </tr>\n",
       "    <tr>\n",
       "      <th>2</th>\n",
       "      <td>1</td>\n",
       "      <td>bottom trawl</td>\n",
       "    </tr>\n",
       "    <tr>\n",
       "      <th>3</th>\n",
       "      <td>1</td>\n",
       "      <td>bottom trawl</td>\n",
       "    </tr>\n",
       "    <tr>\n",
       "      <th>4</th>\n",
       "      <td>2</td>\n",
       "      <td>pelagic trawl</td>\n",
       "    </tr>\n",
       "  </tbody>\n",
       "</table>\n",
       "</div>"
      ],
      "text/plain": [
       "   gear_type_id      gear_type\n",
       "0             1   bottom trawl\n",
       "1             1   bottom trawl\n",
       "2             1   bottom trawl\n",
       "3             1   bottom trawl\n",
       "4             2  pelagic trawl"
      ]
     },
     "execution_count": 13,
     "metadata": {},
     "output_type": "execute_result"
    }
   ],
   "source": [
    "# data is in a subfolder 'reference_tables' on the S3 bucket\n",
    "# define CloudFront access location format for GEAR TYPE lookup data\n",
    "\n",
    "gear_lookup_key = 'reference_tables/gear.csv'\n",
    "gear_lookup_data_location = '{}/{}'.format(cloudfront, gear_lookup_key)\n",
    "\n",
    "# load the GEAR TYPE lookup data using Pandas\n",
    "gear_lookup = pd.read_csv(gear_lookup_data_location)\n",
    "\n",
    "# rename column gear to gear_type\n",
    "gear_lookup.rename(columns = {\"gear\": \"gear_type\"}, inplace = True)\n",
    "\n",
    "# print the number of records & columns, and also display the sample data\n",
    "print(gear_lookup.shape)\n",
    "gear_lookup.head()\n"
   ]
  },
  {
   "cell_type": "code",
   "execution_count": 14,
   "id": "b118ec7a",
   "metadata": {},
   "outputs": [
    {
     "name": "stdout",
     "output_type": "stream",
     "text": [
      "(8, 2)\n"
     ]
    },
    {
     "data": {
      "text/html": [
       "<div>\n",
       "<style scoped>\n",
       "    .dataframe tbody tr th:only-of-type {\n",
       "        vertical-align: middle;\n",
       "    }\n",
       "\n",
       "    .dataframe tbody tr th {\n",
       "        vertical-align: top;\n",
       "    }\n",
       "\n",
       "    .dataframe thead th {\n",
       "        text-align: right;\n",
       "    }\n",
       "</style>\n",
       "<table border=\"1\" class=\"dataframe\">\n",
       "  <thead>\n",
       "    <tr style=\"text-align: right;\">\n",
       "      <th></th>\n",
       "      <th>gear_type_id</th>\n",
       "      <th>gear_type</th>\n",
       "    </tr>\n",
       "  </thead>\n",
       "  <tbody>\n",
       "    <tr>\n",
       "      <th>0</th>\n",
       "      <td>1</td>\n",
       "      <td>bottom trawl</td>\n",
       "    </tr>\n",
       "    <tr>\n",
       "      <th>4</th>\n",
       "      <td>2</td>\n",
       "      <td>pelagic trawl</td>\n",
       "    </tr>\n",
       "    <tr>\n",
       "      <th>5</th>\n",
       "      <td>3</td>\n",
       "      <td>longline</td>\n",
       "    </tr>\n",
       "    <tr>\n",
       "      <th>9</th>\n",
       "      <td>4</td>\n",
       "      <td>purse seine</td>\n",
       "    </tr>\n",
       "    <tr>\n",
       "      <th>12</th>\n",
       "      <td>5</td>\n",
       "      <td>gillnets</td>\n",
       "    </tr>\n",
       "  </tbody>\n",
       "</table>\n",
       "</div>"
      ],
      "text/plain": [
       "    gear_type_id      gear_type\n",
       "0              1   bottom trawl\n",
       "4              2  pelagic trawl\n",
       "5              3       longline\n",
       "9              4    purse seine\n",
       "12             5       gillnets"
      ]
     },
     "execution_count": 14,
     "metadata": {},
     "output_type": "execute_result"
    }
   ],
   "source": [
    "# remove duplicate rows from the gear type reference table\n",
    "\n",
    "gear_lookup.drop_duplicates(inplace = True)\n",
    "\n",
    "# print the number of records & columns, and also display the sample data\n",
    "print(gear_lookup.shape)\n",
    "gear_lookup.head()\n"
   ]
  },
  {
   "cell_type": "markdown",
   "id": "c2df486f",
   "metadata": {},
   "source": [
    "__END USE TYPE lookup by ID__"
   ]
  },
  {
   "cell_type": "code",
   "execution_count": 15,
   "id": "90039b55",
   "metadata": {},
   "outputs": [
    {
     "name": "stdout",
     "output_type": "stream",
     "text": [
      "(4, 2)\n"
     ]
    },
    {
     "data": {
      "text/html": [
       "<div>\n",
       "<style scoped>\n",
       "    .dataframe tbody tr th:only-of-type {\n",
       "        vertical-align: middle;\n",
       "    }\n",
       "\n",
       "    .dataframe tbody tr th {\n",
       "        vertical-align: top;\n",
       "    }\n",
       "\n",
       "    .dataframe thead th {\n",
       "        text-align: right;\n",
       "    }\n",
       "</style>\n",
       "<table border=\"1\" class=\"dataframe\">\n",
       "  <thead>\n",
       "    <tr style=\"text-align: right;\">\n",
       "      <th></th>\n",
       "      <th>end_use_type_id</th>\n",
       "      <th>end_use_name</th>\n",
       "    </tr>\n",
       "  </thead>\n",
       "  <tbody>\n",
       "    <tr>\n",
       "      <th>0</th>\n",
       "      <td>1</td>\n",
       "      <td>Direct human consumption</td>\n",
       "    </tr>\n",
       "    <tr>\n",
       "      <th>1</th>\n",
       "      <td>2</td>\n",
       "      <td>Fishmeal and fish oil</td>\n",
       "    </tr>\n",
       "    <tr>\n",
       "      <th>2</th>\n",
       "      <td>3</td>\n",
       "      <td>Other</td>\n",
       "    </tr>\n",
       "    <tr>\n",
       "      <th>3</th>\n",
       "      <td>4</td>\n",
       "      <td>Discards</td>\n",
       "    </tr>\n",
       "  </tbody>\n",
       "</table>\n",
       "</div>"
      ],
      "text/plain": [
       "   end_use_type_id              end_use_name\n",
       "0                1  Direct human consumption\n",
       "1                2     Fishmeal and fish oil\n",
       "2                3                     Other\n",
       "3                4                  Discards"
      ]
     },
     "execution_count": 15,
     "metadata": {},
     "output_type": "execute_result"
    }
   ],
   "source": [
    "# data is in a subfolder 'reference_tables' on the S3 bucket\n",
    "# define CloudFront access location format for END USE TYPE lookup data\n",
    "\n",
    "end_use_lookup_key = 'reference_tables/end_use_type.csv'\n",
    "end_use_lookup_data_location = '{}/{}'.format(cloudfront, end_use_lookup_key)\n",
    "\n",
    "# load the END USE TYPE lookup data using Pandas\n",
    "end_use_lookup = pd.read_csv(end_use_lookup_data_location)\n",
    "\n",
    "# print the number of records & columns, and also display the sample data\n",
    "print(end_use_lookup.shape)\n",
    "end_use_lookup.head()\n"
   ]
  },
  {
   "cell_type": "markdown",
   "id": "f042bcf2",
   "metadata": {},
   "source": [
    "__REPORTING STATUS lookup by ID__"
   ]
  },
  {
   "cell_type": "code",
   "execution_count": 16,
   "id": "b7ef572e",
   "metadata": {},
   "outputs": [
    {
     "name": "stdout",
     "output_type": "stream",
     "text": [
      "(2, 3)\n"
     ]
    },
    {
     "data": {
      "text/html": [
       "<div>\n",
       "<style scoped>\n",
       "    .dataframe tbody tr th:only-of-type {\n",
       "        vertical-align: middle;\n",
       "    }\n",
       "\n",
       "    .dataframe tbody tr th {\n",
       "        vertical-align: top;\n",
       "    }\n",
       "\n",
       "    .dataframe thead th {\n",
       "        text-align: right;\n",
       "    }\n",
       "</style>\n",
       "<table border=\"1\" class=\"dataframe\">\n",
       "  <thead>\n",
       "    <tr style=\"text-align: right;\">\n",
       "      <th></th>\n",
       "      <th>reporting_status_id</th>\n",
       "      <th>name</th>\n",
       "      <th>abbreviation</th>\n",
       "    </tr>\n",
       "  </thead>\n",
       "  <tbody>\n",
       "    <tr>\n",
       "      <th>0</th>\n",
       "      <td>1</td>\n",
       "      <td>Reported</td>\n",
       "      <td>R</td>\n",
       "    </tr>\n",
       "    <tr>\n",
       "      <th>1</th>\n",
       "      <td>2</td>\n",
       "      <td>Unreported</td>\n",
       "      <td>U</td>\n",
       "    </tr>\n",
       "  </tbody>\n",
       "</table>\n",
       "</div>"
      ],
      "text/plain": [
       "   reporting_status_id        name abbreviation\n",
       "0                    1    Reported            R\n",
       "1                    2  Unreported            U"
      ]
     },
     "execution_count": 16,
     "metadata": {},
     "output_type": "execute_result"
    }
   ],
   "source": [
    "# data is in a subfolder 'reference_tables' on the S3 bucket\n",
    "# define CloudFront access location format for REPORTING STATUS lookup data\n",
    "\n",
    "reporting_status_lookup_key = 'reference_tables/reporting_status.csv'\n",
    "reporting_status_lookup_data_location = '{}/{}'.format(cloudfront, reporting_status_lookup_key)\n",
    "\n",
    "# load the REPORTING STATUS lookup data using Pandas\n",
    "reporting_status_lookup = pd.read_csv(reporting_status_lookup_data_location)\n",
    "\n",
    "# print the number of records & columns, and also display the sample data\n",
    "print(reporting_status_lookup.shape)\n",
    "reporting_status_lookup.head()\n"
   ]
  },
  {
   "cell_type": "markdown",
   "id": "d8d74601",
   "metadata": {},
   "source": [
    "__TAXON NAMES lookup by ID__"
   ]
  },
  {
   "cell_type": "code",
   "execution_count": 17,
   "id": "6b93ccf1",
   "metadata": {},
   "outputs": [
    {
     "name": "stdout",
     "output_type": "stream",
     "text": [
      "(3261, 6)\n"
     ]
    },
    {
     "data": {
      "text/html": [
       "<div>\n",
       "<style scoped>\n",
       "    .dataframe tbody tr th:only-of-type {\n",
       "        vertical-align: middle;\n",
       "    }\n",
       "\n",
       "    .dataframe tbody tr th {\n",
       "        vertical-align: top;\n",
       "    }\n",
       "\n",
       "    .dataframe thead th {\n",
       "        text-align: right;\n",
       "    }\n",
       "</style>\n",
       "<table border=\"1\" class=\"dataframe\">\n",
       "  <thead>\n",
       "    <tr style=\"text-align: right;\">\n",
       "      <th></th>\n",
       "      <th>taxon_key</th>\n",
       "      <th>scientific_name</th>\n",
       "      <th>common_name</th>\n",
       "      <th>species</th>\n",
       "      <th>genus</th>\n",
       "      <th>family</th>\n",
       "    </tr>\n",
       "  </thead>\n",
       "  <tbody>\n",
       "    <tr>\n",
       "      <th>0</th>\n",
       "      <td>601456</td>\n",
       "      <td>Etrumeus whiteheadi</td>\n",
       "      <td>Whitehead's round herring</td>\n",
       "      <td>whiteheadi</td>\n",
       "      <td>Etrumeus</td>\n",
       "      <td>Dussumieriidae</td>\n",
       "    </tr>\n",
       "    <tr>\n",
       "      <th>1</th>\n",
       "      <td>605123</td>\n",
       "      <td>Exocoetus monocirrhus</td>\n",
       "      <td>Barbel flyingfish</td>\n",
       "      <td>monocirrhus</td>\n",
       "      <td>Exocoetus</td>\n",
       "      <td>Exocoetidae</td>\n",
       "    </tr>\n",
       "    <tr>\n",
       "      <th>2</th>\n",
       "      <td>200538</td>\n",
       "      <td>Chondrichthyes</td>\n",
       "      <td>Sharks, rays, chimaeras</td>\n",
       "      <td>NaN</td>\n",
       "      <td>NaN</td>\n",
       "      <td>NaN</td>\n",
       "    </tr>\n",
       "    <tr>\n",
       "      <th>3</th>\n",
       "      <td>400313</td>\n",
       "      <td>Echeneidae</td>\n",
       "      <td>Remoras</td>\n",
       "      <td>NaN</td>\n",
       "      <td>NaN</td>\n",
       "      <td>Echeneidae</td>\n",
       "    </tr>\n",
       "    <tr>\n",
       "      <th>4</th>\n",
       "      <td>400176</td>\n",
       "      <td>Percopsidae</td>\n",
       "      <td>Trout-perches</td>\n",
       "      <td>NaN</td>\n",
       "      <td>NaN</td>\n",
       "      <td>Percopsidae</td>\n",
       "    </tr>\n",
       "  </tbody>\n",
       "</table>\n",
       "</div>"
      ],
      "text/plain": [
       "   taxon_key        scientific_name                common_name      species  \\\n",
       "0     601456    Etrumeus whiteheadi  Whitehead's round herring   whiteheadi   \n",
       "1     605123  Exocoetus monocirrhus          Barbel flyingfish  monocirrhus   \n",
       "2     200538         Chondrichthyes    Sharks, rays, chimaeras          NaN   \n",
       "3     400313             Echeneidae                    Remoras          NaN   \n",
       "4     400176            Percopsidae              Trout-perches          NaN   \n",
       "\n",
       "       genus          family  \n",
       "0   Etrumeus  Dussumieriidae  \n",
       "1  Exocoetus     Exocoetidae  \n",
       "2        NaN             NaN  \n",
       "3        NaN      Echeneidae  \n",
       "4        NaN     Percopsidae  "
      ]
     },
     "execution_count": 17,
     "metadata": {},
     "output_type": "execute_result"
    }
   ],
   "source": [
    "# data is in a subfolder 'reference_tables' on the S3 bucket\n",
    "# define CloudFront access location format for TAXON NAMES lookup data\n",
    "\n",
    "taxon_lookup_key = 'reference_tables/taxon.csv'\n",
    "taxon_lookup_data_location = '{}/{}'.format(cloudfront, taxon_lookup_key)\n",
    "\n",
    "# load the TAXON NAMES lookup data using Pandas\n",
    "taxon_lookup = pd.read_csv(taxon_lookup_data_location)\n",
    "\n",
    "# print the number of records & columns, and also display the sample data\n",
    "print(taxon_lookup.shape)\n",
    "taxon_lookup.head()\n"
   ]
  },
  {
   "cell_type": "markdown",
   "id": "62957397",
   "metadata": {},
   "source": [
    "### Merge IDs in LME data with NAMES from Reference tables"
   ]
  },
  {
   "cell_type": "code",
   "execution_count": 18,
   "id": "91ef5d2d",
   "metadata": {},
   "outputs": [
    {
     "data": {
      "text/html": [
       "<div>\n",
       "<style scoped>\n",
       "    .dataframe tbody tr th:only-of-type {\n",
       "        vertical-align: middle;\n",
       "    }\n",
       "\n",
       "    .dataframe tbody tr th {\n",
       "        vertical-align: top;\n",
       "    }\n",
       "\n",
       "    .dataframe thead th {\n",
       "        text-align: right;\n",
       "    }\n",
       "</style>\n",
       "<table border=\"1\" class=\"dataframe\">\n",
       "  <thead>\n",
       "    <tr style=\"text-align: right;\">\n",
       "      <th></th>\n",
       "      <th>fishing_entity_id</th>\n",
       "      <th>cell_id</th>\n",
       "      <th>lon</th>\n",
       "      <th>lat</th>\n",
       "      <th>lme_id</th>\n",
       "      <th>taxon_key</th>\n",
       "      <th>reporting_status_id</th>\n",
       "      <th>sector_type_id</th>\n",
       "      <th>catch_type_id</th>\n",
       "      <th>gear_type_id</th>\n",
       "      <th>year</th>\n",
       "      <th>catch_sum</th>\n",
       "    </tr>\n",
       "  </thead>\n",
       "  <tbody>\n",
       "    <tr>\n",
       "      <th>0</th>\n",
       "      <td>26</td>\n",
       "      <td>16773</td>\n",
       "      <td>-73.75</td>\n",
       "      <td>78.25</td>\n",
       "      <td>18</td>\n",
       "      <td>100039</td>\n",
       "      <td>1</td>\n",
       "      <td>1</td>\n",
       "      <td>1</td>\n",
       "      <td>1</td>\n",
       "      <td>1994</td>\n",
       "      <td>0.001701</td>\n",
       "    </tr>\n",
       "    <tr>\n",
       "      <th>1</th>\n",
       "      <td>26</td>\n",
       "      <td>16773</td>\n",
       "      <td>-73.75</td>\n",
       "      <td>78.25</td>\n",
       "      <td>18</td>\n",
       "      <td>100039</td>\n",
       "      <td>1</td>\n",
       "      <td>1</td>\n",
       "      <td>1</td>\n",
       "      <td>1</td>\n",
       "      <td>2017</td>\n",
       "      <td>0.007632</td>\n",
       "    </tr>\n",
       "    <tr>\n",
       "      <th>2</th>\n",
       "      <td>26</td>\n",
       "      <td>16773</td>\n",
       "      <td>-73.75</td>\n",
       "      <td>78.25</td>\n",
       "      <td>66</td>\n",
       "      <td>100039</td>\n",
       "      <td>1</td>\n",
       "      <td>1</td>\n",
       "      <td>1</td>\n",
       "      <td>1</td>\n",
       "      <td>1994</td>\n",
       "      <td>0.001701</td>\n",
       "    </tr>\n",
       "  </tbody>\n",
       "</table>\n",
       "</div>"
      ],
      "text/plain": [
       "   fishing_entity_id  cell_id    lon    lat  lme_id  taxon_key  \\\n",
       "0                 26    16773 -73.75  78.25      18     100039   \n",
       "1                 26    16773 -73.75  78.25      18     100039   \n",
       "2                 26    16773 -73.75  78.25      66     100039   \n",
       "\n",
       "   reporting_status_id  sector_type_id  catch_type_id  gear_type_id  year  \\\n",
       "0                    1               1              1             1  1994   \n",
       "1                    1               1              1             1  2017   \n",
       "2                    1               1              1             1  1994   \n",
       "\n",
       "   catch_sum  \n",
       "0   0.001701  \n",
       "1   0.007632  \n",
       "2   0.001701  "
      ]
     },
     "execution_count": 18,
     "metadata": {},
     "output_type": "execute_result"
    }
   ],
   "source": [
    "# display sample data from LME **before** Merging\n",
    "\n",
    "df_lme.head(3)\n"
   ]
  },
  {
   "cell_type": "code",
   "execution_count": 19,
   "id": "83974fe5",
   "metadata": {},
   "outputs": [
    {
     "data": {
      "text/html": [
       "<div>\n",
       "<style scoped>\n",
       "    .dataframe tbody tr th:only-of-type {\n",
       "        vertical-align: middle;\n",
       "    }\n",
       "\n",
       "    .dataframe tbody tr th {\n",
       "        vertical-align: top;\n",
       "    }\n",
       "\n",
       "    .dataframe thead th {\n",
       "        text-align: right;\n",
       "    }\n",
       "</style>\n",
       "<table border=\"1\" class=\"dataframe\">\n",
       "  <thead>\n",
       "    <tr style=\"text-align: right;\">\n",
       "      <th></th>\n",
       "      <th>cell_id</th>\n",
       "      <th>lon</th>\n",
       "      <th>lat</th>\n",
       "      <th>lme_id</th>\n",
       "      <th>taxon_key</th>\n",
       "      <th>year</th>\n",
       "      <th>catch_sum</th>\n",
       "      <th>sector_type</th>\n",
       "      <th>catch_type</th>\n",
       "      <th>gear_type</th>\n",
       "      <th>lme</th>\n",
       "    </tr>\n",
       "  </thead>\n",
       "  <tbody>\n",
       "    <tr>\n",
       "      <th>0</th>\n",
       "      <td>16773</td>\n",
       "      <td>-73.75</td>\n",
       "      <td>78.25</td>\n",
       "      <td>18</td>\n",
       "      <td>100039</td>\n",
       "      <td>1994</td>\n",
       "      <td>0.001701</td>\n",
       "      <td>Industrial</td>\n",
       "      <td>Landings</td>\n",
       "      <td>bottom trawl</td>\n",
       "      <td>Canadian Eastern Arctic - West Greenland</td>\n",
       "    </tr>\n",
       "    <tr>\n",
       "      <th>1</th>\n",
       "      <td>16773</td>\n",
       "      <td>-73.75</td>\n",
       "      <td>78.25</td>\n",
       "      <td>18</td>\n",
       "      <td>100039</td>\n",
       "      <td>2017</td>\n",
       "      <td>0.007632</td>\n",
       "      <td>Industrial</td>\n",
       "      <td>Landings</td>\n",
       "      <td>bottom trawl</td>\n",
       "      <td>Canadian Eastern Arctic - West Greenland</td>\n",
       "    </tr>\n",
       "    <tr>\n",
       "      <th>2</th>\n",
       "      <td>16774</td>\n",
       "      <td>-73.25</td>\n",
       "      <td>78.25</td>\n",
       "      <td>18</td>\n",
       "      <td>100039</td>\n",
       "      <td>1994</td>\n",
       "      <td>0.002202</td>\n",
       "      <td>Industrial</td>\n",
       "      <td>Landings</td>\n",
       "      <td>bottom trawl</td>\n",
       "      <td>Canadian Eastern Arctic - West Greenland</td>\n",
       "    </tr>\n",
       "  </tbody>\n",
       "</table>\n",
       "</div>"
      ],
      "text/plain": [
       "   cell_id    lon    lat  lme_id  taxon_key  year  catch_sum sector_type  \\\n",
       "0    16773 -73.75  78.25      18     100039  1994   0.001701  Industrial   \n",
       "1    16773 -73.75  78.25      18     100039  2017   0.007632  Industrial   \n",
       "2    16774 -73.25  78.25      18     100039  1994   0.002202  Industrial   \n",
       "\n",
       "  catch_type     gear_type                                       lme  \n",
       "0   Landings  bottom trawl  Canadian Eastern Arctic - West Greenland  \n",
       "1   Landings  bottom trawl  Canadian Eastern Arctic - West Greenland  \n",
       "2   Landings  bottom trawl  Canadian Eastern Arctic - West Greenland  "
      ]
     },
     "execution_count": 19,
     "metadata": {},
     "output_type": "execute_result"
    }
   ],
   "source": [
    "# Merge LME, Sector type, Catch type, Gear type names from reference tables based on their respective IDs\n",
    "\n",
    "df_lme = pd.merge(df_lme, sector_lookup, on = 'sector_type_id', how = 'inner')\n",
    "df_lme = pd.merge(df_lme, catch_lookup, on = 'catch_type_id', how = 'inner')\n",
    "df_lme = pd.merge(df_lme, gear_lookup, on = 'gear_type_id', how = 'inner')\n",
    "df_lme = pd.merge(df_lme, lme_lookup, on = 'lme_id', how = 'inner')\n",
    "\n",
    "# Drop columns that are not necessary for maps (after merging)\n",
    "df_lme.drop(['fishing_entity_id', \n",
    "             'reporting_status_id', \n",
    "             'sector_type_id', \n",
    "             'catch_type_id',\n",
    "             'gear_type_id',\n",
    "             'abbreviation'            \n",
    "            ], axis = 1, inplace = True)\n",
    "\n",
    "# display sample data from LME **after** Merging\n",
    "df_lme.head(3)\n"
   ]
  },
  {
   "cell_type": "markdown",
   "id": "b5dd2e9f",
   "metadata": {},
   "source": [
    "<div class = \"alert alert-block alert-warning\">\n",
    "<b>Real Value:</b> <br>\n",
    "<br>Create Real value metric based on dummy data.\n",
    "<br>Remove this after Real value is added in the original data.<br>\n",
    "</div>"
   ]
  },
  {
   "cell_type": "code",
   "execution_count": 20,
   "id": "c86e8b54",
   "metadata": {},
   "outputs": [
    {
     "data": {
      "text/html": [
       "<div>\n",
       "<style scoped>\n",
       "    .dataframe tbody tr th:only-of-type {\n",
       "        vertical-align: middle;\n",
       "    }\n",
       "\n",
       "    .dataframe tbody tr th {\n",
       "        vertical-align: top;\n",
       "    }\n",
       "\n",
       "    .dataframe thead th {\n",
       "        text-align: right;\n",
       "    }\n",
       "</style>\n",
       "<table border=\"1\" class=\"dataframe\">\n",
       "  <thead>\n",
       "    <tr style=\"text-align: right;\">\n",
       "      <th></th>\n",
       "      <th>cell_id</th>\n",
       "      <th>lon</th>\n",
       "      <th>lat</th>\n",
       "      <th>lme_id</th>\n",
       "      <th>taxon_key</th>\n",
       "      <th>year</th>\n",
       "      <th>catch_sum</th>\n",
       "      <th>sector_type</th>\n",
       "      <th>catch_type</th>\n",
       "      <th>gear_type</th>\n",
       "      <th>lme</th>\n",
       "      <th>real_value</th>\n",
       "    </tr>\n",
       "  </thead>\n",
       "  <tbody>\n",
       "    <tr>\n",
       "      <th>0</th>\n",
       "      <td>16773</td>\n",
       "      <td>-73.75</td>\n",
       "      <td>78.25</td>\n",
       "      <td>18</td>\n",
       "      <td>100039</td>\n",
       "      <td>1994</td>\n",
       "      <td>0.001701</td>\n",
       "      <td>Industrial</td>\n",
       "      <td>Landings</td>\n",
       "      <td>bottom trawl</td>\n",
       "      <td>Canadian Eastern Arctic - West Greenland</td>\n",
       "      <td>1.356004</td>\n",
       "    </tr>\n",
       "    <tr>\n",
       "      <th>1</th>\n",
       "      <td>16773</td>\n",
       "      <td>-73.75</td>\n",
       "      <td>78.25</td>\n",
       "      <td>18</td>\n",
       "      <td>100039</td>\n",
       "      <td>2017</td>\n",
       "      <td>0.007632</td>\n",
       "      <td>Industrial</td>\n",
       "      <td>Landings</td>\n",
       "      <td>bottom trawl</td>\n",
       "      <td>Canadian Eastern Arctic - West Greenland</td>\n",
       "      <td>6.082392</td>\n",
       "    </tr>\n",
       "    <tr>\n",
       "      <th>2</th>\n",
       "      <td>16774</td>\n",
       "      <td>-73.25</td>\n",
       "      <td>78.25</td>\n",
       "      <td>18</td>\n",
       "      <td>100039</td>\n",
       "      <td>1994</td>\n",
       "      <td>0.002202</td>\n",
       "      <td>Industrial</td>\n",
       "      <td>Landings</td>\n",
       "      <td>bottom trawl</td>\n",
       "      <td>Canadian Eastern Arctic - West Greenland</td>\n",
       "      <td>1.754603</td>\n",
       "    </tr>\n",
       "  </tbody>\n",
       "</table>\n",
       "</div>"
      ],
      "text/plain": [
       "   cell_id    lon    lat  lme_id  taxon_key  year  catch_sum sector_type  \\\n",
       "0    16773 -73.75  78.25      18     100039  1994   0.001701  Industrial   \n",
       "1    16773 -73.75  78.25      18     100039  2017   0.007632  Industrial   \n",
       "2    16774 -73.25  78.25      18     100039  1994   0.002202  Industrial   \n",
       "\n",
       "  catch_type     gear_type                                       lme  \\\n",
       "0   Landings  bottom trawl  Canadian Eastern Arctic - West Greenland   \n",
       "1   Landings  bottom trawl  Canadian Eastern Arctic - West Greenland   \n",
       "2   Landings  bottom trawl  Canadian Eastern Arctic - West Greenland   \n",
       "\n",
       "   real_value  \n",
       "0    1.356004  \n",
       "1    6.082392  \n",
       "2    1.754603  "
      ]
     },
     "execution_count": 20,
     "metadata": {},
     "output_type": "execute_result"
    }
   ],
   "source": [
    "df_lme['real_value'] = df_lme['catch_sum'] * randint(500, 1000)\n",
    "\n",
    "df_lme.head(3)\n"
   ]
  },
  {
   "cell_type": "code",
   "execution_count": 21,
   "id": "540c0435",
   "metadata": {},
   "outputs": [
    {
     "name": "stdout",
     "output_type": "stream",
     "text": [
      "<class 'pandas.core.frame.DataFrame'>\n",
      "Int64Index: 10398662 entries, 0 to 10398661\n",
      "Data columns (total 12 columns):\n",
      " #   Column       Dtype  \n",
      "---  ------       -----  \n",
      " 0   cell_id      int64  \n",
      " 1   lon          float64\n",
      " 2   lat          float64\n",
      " 3   lme_id       int64  \n",
      " 4   taxon_key    int64  \n",
      " 5   year         int64  \n",
      " 6   catch_sum    float64\n",
      " 7   sector_type  object \n",
      " 8   catch_type   object \n",
      " 9   gear_type    object \n",
      " 10  lme          object \n",
      " 11  real_value   float64\n",
      "dtypes: float64(4), int64(4), object(4)\n",
      "memory usage: 1.0+ GB\n"
     ]
    }
   ],
   "source": [
    "# display info of the data: Number of records, Names & data types of columns.\n",
    "\n",
    "df_lme.info()\n"
   ]
  },
  {
   "cell_type": "code",
   "execution_count": null,
   "id": "16ad29ea",
   "metadata": {},
   "outputs": [],
   "source": []
  },
  {
   "cell_type": "markdown",
   "id": "f16a8a46",
   "metadata": {},
   "source": [
    "### Data Analysis (to be updated)"
   ]
  },
  {
   "cell_type": "code",
   "execution_count": null,
   "id": "be39ea3a",
   "metadata": {},
   "outputs": [],
   "source": []
  },
  {
   "cell_type": "code",
   "execution_count": null,
   "id": "38579eaa",
   "metadata": {},
   "outputs": [],
   "source": [
    "# Visualizations to be updated next to maps"
   ]
  },
  {
   "cell_type": "code",
   "execution_count": null,
   "id": "83bf83ef",
   "metadata": {},
   "outputs": [],
   "source": []
  },
  {
   "cell_type": "code",
   "execution_count": null,
   "id": "f556c25f",
   "metadata": {},
   "outputs": [],
   "source": [
    "# selections,\n",
    "# functions\n",
    "# check notepad "
   ]
  },
  {
   "cell_type": "code",
   "execution_count": null,
   "id": "84ffce99",
   "metadata": {},
   "outputs": [],
   "source": []
  },
  {
   "cell_type": "markdown",
   "id": "70235beb",
   "metadata": {},
   "source": [
    "### Shape files for Cells"
   ]
  },
  {
   "cell_type": "code",
   "execution_count": 22,
   "id": "0eb39567",
   "metadata": {},
   "outputs": [
    {
     "name": "stdout",
     "output_type": "stream",
     "text": [
      "(153533, 6)\n"
     ]
    },
    {
     "data": {
      "text/html": [
       "<div>\n",
       "<style scoped>\n",
       "    .dataframe tbody tr th:only-of-type {\n",
       "        vertical-align: middle;\n",
       "    }\n",
       "\n",
       "    .dataframe tbody tr th {\n",
       "        vertical-align: top;\n",
       "    }\n",
       "\n",
       "    .dataframe thead th {\n",
       "        text-align: right;\n",
       "    }\n",
       "</style>\n",
       "<table border=\"1\" class=\"dataframe\">\n",
       "  <thead>\n",
       "    <tr style=\"text-align: right;\">\n",
       "      <th></th>\n",
       "      <th>ID</th>\n",
       "      <th>CENTROID</th>\n",
       "      <th>WATER_AREA</th>\n",
       "      <th>SEQ</th>\n",
       "      <th>NEW_SEQ</th>\n",
       "      <th>geometry</th>\n",
       "    </tr>\n",
       "  </thead>\n",
       "  <tbody>\n",
       "    <tr>\n",
       "      <th>0</th>\n",
       "      <td>1</td>\n",
       "      <td>47.75,-36.25</td>\n",
       "      <td>2493.295817</td>\n",
       "      <td>181896.0</td>\n",
       "      <td>164053.0</td>\n",
       "      <td>POLYGON ((47.50000 -36.00000, 48.00000 -36.000...</td>\n",
       "    </tr>\n",
       "    <tr>\n",
       "      <th>1</th>\n",
       "      <td>2</td>\n",
       "      <td>47.75,-34.25</td>\n",
       "      <td>2554.452574</td>\n",
       "      <td>179016.0</td>\n",
       "      <td>164049.0</td>\n",
       "      <td>POLYGON ((47.50000 -34.00000, 48.00000 -34.000...</td>\n",
       "    </tr>\n",
       "    <tr>\n",
       "      <th>2</th>\n",
       "      <td>3</td>\n",
       "      <td>47.75,-39.75</td>\n",
       "      <td>2378.926818</td>\n",
       "      <td>186936.0</td>\n",
       "      <td>164060.0</td>\n",
       "      <td>POLYGON ((47.50000 -39.50000, 48.00000 -39.500...</td>\n",
       "    </tr>\n",
       "  </tbody>\n",
       "</table>\n",
       "</div>"
      ],
      "text/plain": [
       "   ID      CENTROID   WATER_AREA       SEQ   NEW_SEQ  \\\n",
       "0   1  47.75,-36.25  2493.295817  181896.0  164053.0   \n",
       "1   2  47.75,-34.25  2554.452574  179016.0  164049.0   \n",
       "2   3  47.75,-39.75  2378.926818  186936.0  164060.0   \n",
       "\n",
       "                                            geometry  \n",
       "0  POLYGON ((47.50000 -36.00000, 48.00000 -36.000...  \n",
       "1  POLYGON ((47.50000 -34.00000, 48.00000 -34.000...  \n",
       "2  POLYGON ((47.50000 -39.50000, 48.00000 -39.500...  "
      ]
     },
     "execution_count": 22,
     "metadata": {},
     "output_type": "execute_result"
    }
   ],
   "source": [
    "# data is in a subfolder 'maps_shape_files' on the S3 bucket\n",
    "# define CloudFront access location format for Cell shape files data\n",
    "\n",
    "cell_shape_data_key = 'maps_shape_files/fixed_geom_world_ocean_cells.zip'\n",
    "cell_shape_data_location = '{}/{}'.format(cloudfront, cell_shape_data_key)\n",
    "\n",
    "# load the Cell shape files data using GeoPandas\n",
    "# this returns a GeoDataFrame \n",
    "cell_gdf = geopandas.read_file(cell_shape_data_location)\n",
    "\n",
    "# print the number of records & columns, and also display the sample data\n",
    "print(cell_gdf.shape)\n",
    "cell_gdf.head(3)\n"
   ]
  },
  {
   "cell_type": "code",
   "execution_count": 23,
   "id": "ac6f6a7e",
   "metadata": {},
   "outputs": [
    {
     "name": "stdout",
     "output_type": "stream",
     "text": [
      "(153533, 2)\n"
     ]
    },
    {
     "data": {
      "text/html": [
       "<div>\n",
       "<style scoped>\n",
       "    .dataframe tbody tr th:only-of-type {\n",
       "        vertical-align: middle;\n",
       "    }\n",
       "\n",
       "    .dataframe tbody tr th {\n",
       "        vertical-align: top;\n",
       "    }\n",
       "\n",
       "    .dataframe thead th {\n",
       "        text-align: right;\n",
       "    }\n",
       "</style>\n",
       "<table border=\"1\" class=\"dataframe\">\n",
       "  <thead>\n",
       "    <tr style=\"text-align: right;\">\n",
       "      <th></th>\n",
       "      <th>cell_id</th>\n",
       "      <th>geometry</th>\n",
       "    </tr>\n",
       "  </thead>\n",
       "  <tbody>\n",
       "    <tr>\n",
       "      <th>0</th>\n",
       "      <td>181896</td>\n",
       "      <td>POLYGON ((47.50000 -36.00000, 48.00000 -36.000...</td>\n",
       "    </tr>\n",
       "    <tr>\n",
       "      <th>1</th>\n",
       "      <td>179016</td>\n",
       "      <td>POLYGON ((47.50000 -34.00000, 48.00000 -34.000...</td>\n",
       "    </tr>\n",
       "    <tr>\n",
       "      <th>2</th>\n",
       "      <td>186936</td>\n",
       "      <td>POLYGON ((47.50000 -39.50000, 48.00000 -39.500...</td>\n",
       "    </tr>\n",
       "  </tbody>\n",
       "</table>\n",
       "</div>"
      ],
      "text/plain": [
       "   cell_id                                           geometry\n",
       "0   181896  POLYGON ((47.50000 -36.00000, 48.00000 -36.000...\n",
       "1   179016  POLYGON ((47.50000 -34.00000, 48.00000 -34.000...\n",
       "2   186936  POLYGON ((47.50000 -39.50000, 48.00000 -39.500..."
      ]
     },
     "execution_count": 23,
     "metadata": {},
     "output_type": "execute_result"
    }
   ],
   "source": [
    "# drop columns not necessary for maps\n",
    "# update this as needed - in case NEW_SEQ has to be used in future instead of SEQ\n",
    "cell_gdf.drop(['ID', 'WATER_AREA', 'NEW_SEQ', 'CENTROID'], axis = 1, inplace = True)\n",
    "\n",
    "# rename the SEQ column as cell_id and also update the column type to 'int'\n",
    "# update this as needed - in case NEW_SEQ has to be used in future instead of SEQ\n",
    "cell_gdf['SEQ'] = cell_gdf['SEQ'].astype(int)\n",
    "cell_gdf.rename(columns = {\"SEQ\": \"cell_id\"}, inplace = True)\n",
    "\n",
    "# print the number of records & columns, and also display the sample data\n",
    "print(cell_gdf.shape)\n",
    "cell_gdf.head(3)\n"
   ]
  },
  {
   "cell_type": "code",
   "execution_count": null,
   "id": "7dfa1511",
   "metadata": {},
   "outputs": [],
   "source": []
  },
  {
   "cell_type": "markdown",
   "id": "a3db8378",
   "metadata": {},
   "source": [
    "### Shape files for LME"
   ]
  },
  {
   "cell_type": "code",
   "execution_count": 24,
   "id": "c69e3122",
   "metadata": {},
   "outputs": [
    {
     "name": "stdout",
     "output_type": "stream",
     "text": [
      "(66, 7)\n"
     ]
    },
    {
     "data": {
      "text/html": [
       "<div>\n",
       "<style scoped>\n",
       "    .dataframe tbody tr th:only-of-type {\n",
       "        vertical-align: middle;\n",
       "    }\n",
       "\n",
       "    .dataframe tbody tr th {\n",
       "        vertical-align: top;\n",
       "    }\n",
       "\n",
       "    .dataframe thead th {\n",
       "        text-align: right;\n",
       "    }\n",
       "</style>\n",
       "<table border=\"1\" class=\"dataframe\">\n",
       "  <thead>\n",
       "    <tr style=\"text-align: right;\">\n",
       "      <th></th>\n",
       "      <th>OBJECT_ID</th>\n",
       "      <th>LME_NUMBER</th>\n",
       "      <th>LME_NAME</th>\n",
       "      <th>SHAPE_LENG</th>\n",
       "      <th>SHAPE_AREA</th>\n",
       "      <th>PROFILE_UR</th>\n",
       "      <th>geometry</th>\n",
       "    </tr>\n",
       "  </thead>\n",
       "  <tbody>\n",
       "    <tr>\n",
       "      <th>0</th>\n",
       "      <td>1</td>\n",
       "      <td>23</td>\n",
       "      <td>Baltic Sea</td>\n",
       "      <td>219.326402</td>\n",
       "      <td>61.950021</td>\n",
       "      <td>http://lme.edc.uri.edu/index.php?option=com_co...</td>\n",
       "      <td>POLYGON ((10.97944 54.38055, 10.96944 54.38055...</td>\n",
       "    </tr>\n",
       "    <tr>\n",
       "      <th>1</th>\n",
       "      <td>2</td>\n",
       "      <td>52</td>\n",
       "      <td>Sea of Okhotsk</td>\n",
       "      <td>145.932989</td>\n",
       "      <td>213.796584</td>\n",
       "      <td>http://lme.edc.uri.edu/index.php?option=com_co...</td>\n",
       "      <td>POLYGON ((156.70705 51.18858, 156.62592 51.160...</td>\n",
       "    </tr>\n",
       "    <tr>\n",
       "      <th>2</th>\n",
       "      <td>3</td>\n",
       "      <td>22</td>\n",
       "      <td>North Sea</td>\n",
       "      <td>209.486403</td>\n",
       "      <td>103.965247</td>\n",
       "      <td>http://lme.edc.uri.edu/index.php?option=com_co...</td>\n",
       "      <td>POLYGON ((5.27889 61.98027, 5.24917 61.97388, ...</td>\n",
       "    </tr>\n",
       "  </tbody>\n",
       "</table>\n",
       "</div>"
      ],
      "text/plain": [
       "   OBJECT_ID  LME_NUMBER        LME_NAME  SHAPE_LENG  SHAPE_AREA  \\\n",
       "0          1          23      Baltic Sea  219.326402   61.950021   \n",
       "1          2          52  Sea of Okhotsk  145.932989  213.796584   \n",
       "2          3          22       North Sea  209.486403  103.965247   \n",
       "\n",
       "                                          PROFILE_UR  \\\n",
       "0  http://lme.edc.uri.edu/index.php?option=com_co...   \n",
       "1  http://lme.edc.uri.edu/index.php?option=com_co...   \n",
       "2  http://lme.edc.uri.edu/index.php?option=com_co...   \n",
       "\n",
       "                                            geometry  \n",
       "0  POLYGON ((10.97944 54.38055, 10.96944 54.38055...  \n",
       "1  POLYGON ((156.70705 51.18858, 156.62592 51.160...  \n",
       "2  POLYGON ((5.27889 61.98027, 5.24917 61.97388, ...  "
      ]
     },
     "execution_count": 24,
     "metadata": {},
     "output_type": "execute_result"
    }
   ],
   "source": [
    "# data is in a subfolder 'maps_shape_files' on the S3 bucket\n",
    "# define CloudFront access location format for LME shape files data\n",
    "\n",
    "lme_shape_data_key = 'maps_shape_files/fixed_geom_lme.zip'\n",
    "lme_shape_data_location = '{}/{}'.format(cloudfront, lme_shape_data_key)\n",
    "\n",
    "# load the LME shape files data using GeoPandas\n",
    "# this returns a GeoDataFrame\n",
    "lme_gdf = geopandas.read_file(lme_shape_data_location)\n",
    "\n",
    "# print the number of records & columns, and also display the sample data\n",
    "print(lme_gdf.shape)\n",
    "lme_gdf.head(3)\n"
   ]
  },
  {
   "cell_type": "code",
   "execution_count": 25,
   "id": "ae382526",
   "metadata": {},
   "outputs": [
    {
     "name": "stdout",
     "output_type": "stream",
     "text": [
      "(66, 3)\n"
     ]
    },
    {
     "data": {
      "text/html": [
       "<div>\n",
       "<style scoped>\n",
       "    .dataframe tbody tr th:only-of-type {\n",
       "        vertical-align: middle;\n",
       "    }\n",
       "\n",
       "    .dataframe tbody tr th {\n",
       "        vertical-align: top;\n",
       "    }\n",
       "\n",
       "    .dataframe thead th {\n",
       "        text-align: right;\n",
       "    }\n",
       "</style>\n",
       "<table border=\"1\" class=\"dataframe\">\n",
       "  <thead>\n",
       "    <tr style=\"text-align: right;\">\n",
       "      <th></th>\n",
       "      <th>lme_id</th>\n",
       "      <th>lme</th>\n",
       "      <th>geometry</th>\n",
       "    </tr>\n",
       "  </thead>\n",
       "  <tbody>\n",
       "    <tr>\n",
       "      <th>0</th>\n",
       "      <td>23</td>\n",
       "      <td>Baltic Sea</td>\n",
       "      <td>POLYGON ((10.97944 54.38055, 10.96944 54.38055...</td>\n",
       "    </tr>\n",
       "    <tr>\n",
       "      <th>1</th>\n",
       "      <td>52</td>\n",
       "      <td>Sea of Okhotsk</td>\n",
       "      <td>POLYGON ((156.70705 51.18858, 156.62592 51.160...</td>\n",
       "    </tr>\n",
       "    <tr>\n",
       "      <th>2</th>\n",
       "      <td>22</td>\n",
       "      <td>North Sea</td>\n",
       "      <td>POLYGON ((5.27889 61.98027, 5.24917 61.97388, ...</td>\n",
       "    </tr>\n",
       "  </tbody>\n",
       "</table>\n",
       "</div>"
      ],
      "text/plain": [
       "   lme_id             lme                                           geometry\n",
       "0      23      Baltic Sea  POLYGON ((10.97944 54.38055, 10.96944 54.38055...\n",
       "1      52  Sea of Okhotsk  POLYGON ((156.70705 51.18858, 156.62592 51.160...\n",
       "2      22       North Sea  POLYGON ((5.27889 61.98027, 5.24917 61.97388, ..."
      ]
     },
     "execution_count": 25,
     "metadata": {},
     "output_type": "execute_result"
    }
   ],
   "source": [
    "# drop columns not necessary for maps\n",
    "# update this as needed\n",
    "\n",
    "lme_gdf.drop(['OBJECT_ID', 'SHAPE_LENG', 'SHAPE_AREA', 'PROFILE_UR'], axis = 1, inplace = True)\n",
    "\n",
    "# rename the LME columns to merge with spatial catch data \n",
    "# update this as needed\n",
    "lme_gdf.rename(columns = {\"LME_NAME\": \"lme\"}, inplace = True)\n",
    "lme_gdf.rename(columns = {\"LME_NUMBER\": \"lme_id\"}, inplace = True)\n",
    "\n",
    "# print the number of records & columns, and also display the sample data\n",
    "print(lme_gdf.shape)\n",
    "lme_gdf.head(3)\n"
   ]
  },
  {
   "cell_type": "code",
   "execution_count": null,
   "id": "61be4cb2",
   "metadata": {},
   "outputs": [],
   "source": []
  },
  {
   "cell_type": "markdown",
   "id": "c7cbbda9",
   "metadata": {},
   "source": [
    "<div class = \"alert alert-block alert-danger\">\n",
    "<b>Data for Widgets:</b> <br>\n",
    "<br>This section can be updated only if necessary, with caution.<br>\n",
    "</div>"
   ]
  },
  {
   "cell_type": "code",
   "execution_count": 26,
   "id": "23e21e19",
   "metadata": {},
   "outputs": [
    {
     "data": {
      "text/plain": [
       "[1950, 1951, 1952, 1953, 1954]"
      ]
     },
     "execution_count": 26,
     "metadata": {},
     "output_type": "execute_result"
    }
   ],
   "source": [
    "### Data for Start Year & End Year widgets\n",
    "\n",
    "# get unique list of years from the dataframe\n",
    "years = sorted(list(df_lme['year'].unique()))\n",
    "\n",
    "# display first few records in the list\n",
    "years[:5]\n"
   ]
  },
  {
   "cell_type": "code",
   "execution_count": 27,
   "id": "a54ffcb8",
   "metadata": {},
   "outputs": [
    {
     "data": {
      "text/plain": [
       "['Artisanal', 'Industrial', 'Recreational', 'Subsistence']"
      ]
     },
     "execution_count": 27,
     "metadata": {},
     "output_type": "execute_result"
    }
   ],
   "source": [
    "### Data for Sector type widgets\n",
    "\n",
    "# get unique list of Sector types from the dataframe\n",
    "sector_types = sorted(list(df_lme['sector_type'].unique()))\n",
    "\n",
    "# display first few records in the list\n",
    "sector_types[:5]\n"
   ]
  },
  {
   "cell_type": "code",
   "execution_count": 28,
   "id": "b6c44515",
   "metadata": {},
   "outputs": [
    {
     "data": {
      "text/plain": [
       "['Discards', 'Landings']"
      ]
     },
     "execution_count": 28,
     "metadata": {},
     "output_type": "execute_result"
    }
   ],
   "source": [
    "### Data for Catch type widgets\n",
    "\n",
    "# get unique list of Catch types from the dataframe\n",
    "catch_types = sorted(list(df_lme['catch_type'].unique()))\n",
    "\n",
    "# display first few records in the list\n",
    "catch_types[:5]\n"
   ]
  },
  {
   "cell_type": "code",
   "execution_count": 29,
   "id": "43195747",
   "metadata": {},
   "outputs": [
    {
     "data": {
      "text/plain": [
       "['bottom trawl', 'gillnets', 'longline', 'other', 'pelagic trawl']"
      ]
     },
     "execution_count": 29,
     "metadata": {},
     "output_type": "execute_result"
    }
   ],
   "source": [
    "### Data for Gear type widgets\n",
    "\n",
    "# get unique list of Gear types from the dataframe\n",
    "gear_types = sorted(list(df_lme['gear_type'].unique()))\n",
    "\n",
    "# display first few records in the list\n",
    "gear_types[:5]\n"
   ]
  },
  {
   "cell_type": "code",
   "execution_count": 30,
   "id": "06caf758",
   "metadata": {},
   "outputs": [
    {
     "data": {
      "text/plain": [
       "[('Abalistes stellaris', 600009),\n",
       " ('Ablennes hians', 600972),\n",
       " ('Abramis brama', 600268),\n",
       " ('Abudefduf', 509206),\n",
       " ('Abudefduf luridus', 611820)]"
      ]
     },
     "execution_count": 30,
     "metadata": {},
     "output_type": "execute_result"
    }
   ],
   "source": [
    "### dictionary with taxon id and their respective names\n",
    "\n",
    "taxon_list = list(set(zip(taxon_lookup['scientific_name'], taxon_lookup['taxon_key'])))\n",
    "taxon_list.sort()\n",
    "\n",
    "# display first few records in the list\n",
    "taxon_list[:5]\n"
   ]
  },
  {
   "cell_type": "code",
   "execution_count": null,
   "id": "da33da20",
   "metadata": {},
   "outputs": [],
   "source": []
  }
 ],
 "metadata": {
  "kernelspec": {
   "display_name": "Python 3",
   "language": "python",
   "name": "python3"
  },
  "language_info": {
   "codemirror_mode": {
    "name": "ipython",
    "version": 3
   },
   "file_extension": ".py",
   "mimetype": "text/x-python",
   "name": "python",
   "nbconvert_exporter": "python",
   "pygments_lexer": "ipython3",
   "version": "3.8.3"
  }
 },
 "nbformat": 4,
 "nbformat_minor": 5
}
